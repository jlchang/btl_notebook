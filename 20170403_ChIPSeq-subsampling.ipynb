{
 "cells": [
  {
   "cell_type": "code",
   "execution_count": 1,
   "metadata": {
    "collapsed": false
   },
   "outputs": [
    {
     "name": "stdout",
     "output_type": "stream",
     "text": [
      "Mon Apr  3 10:16:25 EDT 2017\n"
     ]
    }
   ],
   "source": [
    "date\n"
   ]
  },
  {
   "cell_type": "markdown",
   "metadata": {},
   "source": [
    "GOAL - How much sequencing is needed to determine if a lab experiment \"worked\"\n",
    "\n",
    "- [ ] subgoal 1 - what does a successful experiment look like (vs a failed experiment)\n",
    "    * obtain data for a \"successful\" experiment\n",
    "    * obtain data for a \"failed\" experiment (using the same antibody and cell type?)\n",
    "    * Look for data in epigenomics portal (use Safari, allow Java etc)\n",
    "        https://intranet.broadinstitute.org/cgi-bin/epigenomics/private/prod/cloneportal.cgi\n",
    "    * (setup info for portal https://mail.google.com/mail/u/0/?ui=2&ik=2697a020ca&view=om&th=15a8b7de6fae67a6)\n",
    "- [ ] subgoal 2 - what metric(s) can be used to measure success? (overlap of peaks? SPOT score?)\n",
    "- [ ] subgoal 2 - how much sequence is needed to distiguish \"successful\" fro \"failed\"\n",
    "---"
   ]
  },
  {
   "cell_type": "markdown",
   "metadata": {},
   "source": [
    " * ENCODE data used: \n",
    "     * Alignment genome - GRCH38, /seq/references/Homo_sapiens_assembly38\n",
    "     * Peak caller - MACS2\n",
    "\n",
    " * Our analysis process:\n",
    "     * Peak caller - Homer4.7\n",
    "     * subsample tool - Michele's (Does it matter if I use Michele's or picard?)\n",
    "\n",
    " * BTL data SSF-1417:\n",
    "     * Alignment genome - \n",
    "     \n",
    "***"
   ]
  },
  {
   "cell_type": "markdown",
   "metadata": {},
   "source": [
    "+ have peaks for two sets of ENCODE data, adrenal and K562  \n",
    "\n",
    "    + If I downsample adrenal and compare to full sample adrenal, how many peaks do I lose?\n",
    "    + If I compare K562 to full sample adrenal, what happens to peak overlap?\n",
    "    + If I downsample K562 and compare to full K562 or full adrenal - what do I see?"
   ]
  },
  {
   "cell_type": "markdown",
   "metadata": {},
   "source": [
    "- [ ] Code task:\n",
    " * modify Michele's script to downsample particular target read levels instead of her downsampling strategy\n",
    " * assume 20M aligned reads is whole data set\n"
   ]
  },
  {
   "cell_type": "markdown",
   "metadata": {},
   "source": [
    "Modified Michele's pipeline to created downsampled output\n",
    "\n",
    "Two modified scripts:\n",
    "ChipSeqSubsamplePipeline.sh (which calls the next script)\n",
    "ChipSeqCallPeaksSubsampled.sh\n",
    "\n",
    "For testing, ChipSeqSubsamplePipeline.sh does two iterations of 50,000 read subsample\n",
    "(with no subsample iterations specified, should get two iterations). Scripts are hard-coded to use UGER cluster\n",
    "\n",
    "Unsuccessful EXAMPLE invocation:\n",
    "\n",
    "in /cil/shed/apps/internal/SSF/ChipSeq\n",
    "in screen session on stout\n",
    "\n",
    "cd /cil/shed/apps/internal/SSF/ChipSeq\n",
    "\n",
    "sh ChipSeqSubsamplePipeline.sh /btl/projects/ChIPseq/ENCODE/data/H3K27ac_adrenal /btl/projects/ChIPseq/ENCODE/data/H3K27ac_adrenal/test_subsample_analysisWctrl_GRCh38 /btl/projects/ChIPseq/ENCODE/data/H3K27ac_adrenal/ENCFF159PLR.bam histone /seq/references/Homo_sapiens_assembly38/v0/Homo_sapiens_assembly38.fasta TRUE long /cil/shed/apps/internal/SSF/ChipSeq"
   ]
  },
  {
   "cell_type": "code",
   "execution_count": 2,
   "metadata": {
    "collapsed": false
   },
   "outputs": [
    {
     "name": "stdout",
     "output_type": "stream",
     "text": [
      "bash: use: command not found\n",
      "INPUT_DIR\n",
      "OUTPUT_DIR /btl/projects/ChIPseq/ENCODE/data/H3K27ac_adrenal/test_subsample_analysisWctrl_GRCh38\n",
      "CONTROL /btl/projects/ChIPseq/ENCODE/data/H3K27ac_adrenal/ENCFF159PLR.bam\n",
      "PEAK_STYLE histone\n",
      "GENOME_FILE /seq/references/Homo_sapiens_assembly38/v0/Homo_sapiens_assembly38.fasta\n",
      "PAIRED_END TRUE\n",
      "QUEUE long\n",
      "SCRIPT_DIR /cil/shed/apps/internal/SSF/ChipSeq\n",
      "Prepending: .homer-4.7 (ok)\n",
      "Prepending: .bedtools-2.25.0-bugfixed (ok)\n",
      "Prepending: .igvtools_2.1.7 (not found)\n",
      "Prepending: .samtools-0.1.18 (ok)\n",
      "input bam: /btl/projects/ChIPseq/ENCODE/data/H3K27ac_adrenal\n",
      "Writing to: /btl/projects/ChIPseq/ENCODE/data/H3K27ac_adrenal/test_subsample_analysisWctrl_GRCh38\n",
      "Output directory /btl/projects/ChIPseq/ENCODE/data/H3K27ac_adrenal/test_subsample_analysisWctrl_GRCh38 does not exists. Creating directory.\n",
      "Output directory /btl/projects/ChIPseq/ENCODE/data/H3K27ac_adrenal/test_subsample_analysisWctrl_GRCh38 does not exists. Creating directory.\n",
      "Output directory /btl/projects/ChIPseq/ENCODE/data/H3K27ac_adrenal/test_subsample_analysisWctrl_GRCh38/Peaks  does not exists. Creating directory.\n",
      "Output directory /btl/projects/ChIPseq/ENCODE/data/H3K27ac_adrenal/test_subsample_analysisWctrl_GRCh38/Peaks/bed  does not exists. Creating directory.\n",
      "Output directory /btl/projects/ChIPseq/ENCODE/data/H3K27ac_adrenal/test_subsample_analysisWctrl_GRCh38/tdfs does not exists. Creating directory.\n",
      "Output directory /btl/projects/ChIPseq/ENCODE/data/H3K27ac_adrenal/test_subsample_analysisWctrl_GRCh38/Downsampling does not exists. Creating directory.\n",
      "Output directory /btl/projects/ChIPseq/ENCODE/data/H3K27ac_adrenal/test_subsample_analysisWctrl_GRCh38/Downsampling/bams  does not exists. Creating directory.\n",
      "Output directory /btl/projects/ChIPseq/ENCODE/data/H3K27ac_adrenal/test_subsample_analysisWctrl_GRCh38/Downsampling/tags  does not exists. Creating directory.\n",
      "igvtools count -e 100 /btl/projects/ChIPseq/ENCODE/data/H3K27ac_adrenal /btl/projects/ChIPseq/ENCODE/data/H3K27ac_adrenal/test_subsample_analysisWctrl_GRCh38/tdfs/H3K27ac_adrenal.tdf /seq/references/Homo_sapiens_assembly38/v0/Homo_sapiens_assembly38.fasta\n",
      "ChipSeqSubsamplePipeline.sh: line 131: igvtools: command not found\n",
      "Paired end\n",
      "makeTagDirectory /btl/projects/ChIPseq/ENCODE/data/H3K27ac_adrenal/test_subsample_analysisWctrl_GRCh38/H3K27ac_adrenal /btl/projects/ChIPseq/ENCODE/data/H3K27ac_adrenal -genome /seq/references/Homo_sapiens_assembly38/v0/Homo_sapiens_assembly38.fasta -checkGC -illuminaPE\n",
      "\tWill parse file: /btl/projects/ChIPseq/ENCODE/data/H3K27ac_adrenal\n",
      "\tCustom genome sequence file: /seq/references/Homo_sapiens_assembly38/v0/Homo_sapiens_assembly38.fasta\n",
      "\n",
      "\tCreating directory: /btl/projects/ChIPseq/ENCODE/data/H3K27ac_adrenal/test_subsample_analysisWctrl_GRCh38/Tags/H3K27ac_adrenal and removing existing *.tags.tsv\n",
      "\n",
      "\tReading alignment file /btl/projects/ChIPseq/ENCODE/data/H3K27ac_adrenal\n",
      "\t!!! Something is wrong - no reads were added to tag directory !!!\n",
      "\t!!! Check your input files or the makeTagDirectory command options... !!!\n",
      "Control is a file, assuming bam\n",
      "Paired end\n",
      "makeTagDirectory /btl/projects/ChIPseq/ENCODE/data/H3K27ac_adrenal/test_subsample_analysisWctrl_GRCh38/ENCFF159PLR/btl/projects/ChIPseq/ENCODE/data/H3K27ac_adrenal/ENCFF159PLR.bam -genome /seq/references/Homo_sapiens_assembly38/v0/Homo_sapiens_assembly38.fasta -checkGC -illuminaPE\n",
      "\tWill parse file: /btl/projects/ChIPseq/ENCODE/data/H3K27ac_adrenal/ENCFF159PLR.bam\n",
      "\tCustom genome sequence file: /seq/references/Homo_sapiens_assembly38/v0/Homo_sapiens_assembly38.fasta\n",
      "\n",
      "\tCreating directory: /btl/projects/ChIPseq/ENCODE/data/H3K27ac_adrenal/test_subsample_analysisWctrl_GRCh38/Tags/ENCFF159PLR and removing existing *.tags.tsv\n",
      "\n",
      "\tTreating /btl/projects/ChIPseq/ENCODE/data/H3K27ac_adrenal/ENCFF159PLR.bam as a bam file\n",
      "\tReading alignment file /btl/projects/ChIPseq/ENCODE/data/H3K27ac_adrenal/ENCFF159PLR.bam\n",
      "\n"
     ]
    }
   ],
   "source": [
    "cd /cil/shed/apps/internal/SSF/ChipSeq\n",
    "\n",
    "sh ChipSeqSubsamplePipeline.sh /btl/projects/ChIPseq/ENCODE/data/H3K27ac_adrenal /btl/projects/ChIPseq/ENCODE/data/H3K27ac_adrenal/test_subsample_analysisWctrl_GRCh38 /btl/projects/ChIPseq/ENCODE/data/H3K27ac_adrenal/ENCFF159PLR.bam histone /seq/references/Homo_sapiens_assembly38/v0/Homo_sapiens_assembly38.fasta TRUE long /cil/shed/apps/internal/SSF/ChipSeq"
   ]
  },
  {
   "cell_type": "markdown",
   "metadata": {},
   "source": [
    "ChipSeqSubsamplePipeline.sh isn't processing the control bam correctly. Modifying the file used to successfully process the dog ChIPseq data (ChipSeqProcessAllBamsInDirectory.sh), modifying to provide # of iterations and to call ChipSeqSubsamplePipeline.sh"
   ]
  },
  {
   "cell_type": "markdown",
   "metadata": {},
   "source": [
    "Process for deploying new scripts\n",
    "==="
   ]
  },
  {
   "cell_type": "code",
   "execution_count": 4,
   "metadata": {
    "collapsed": false
   },
   "outputs": [
    {
     "name": "stdout",
     "output_type": "stream",
     "text": [
      "# On branch master\n",
      "# Untracked files:\n",
      "#   (use \"git add <file>...\" to include in what will be committed)\n",
      "#\n",
      "#\t../../20170403_ChIPSeq-subsampling.ipynb\n",
      "nothing added to commit but untracked files present (use \"git add\" to track)\n"
     ]
    }
   ],
   "source": [
    "cd ~/BTL/nb/scripts/ChIPseq\n",
    "git status"
   ]
  },
  {
   "cell_type": "code",
   "execution_count": 5,
   "metadata": {
    "collapsed": false
   },
   "outputs": [
    {
     "name": "stdout",
     "output_type": "stream",
     "text": [
      "ChipSeqCallPeaksSubsampled.sh  ChipSeqSubsamplePipeline.sh\n"
     ]
    }
   ],
   "source": [
    "ls"
   ]
  },
  {
   "cell_type": "code",
   "execution_count": 6,
   "metadata": {
    "collapsed": false
   },
   "outputs": [
    {
     "name": "stdout",
     "output_type": "stream",
     "text": [
      "remote: Counting objects: 11, done.        \n",
      "remote: Compressing objects: 100% (5/5), done.        \n",
      "remote: Total 11 (delta 5), reused 10 (delta 4), pack-reused 0        \n",
      "Unpacking objects: 100% (11/11), done.\n",
      "From https://github.com/jlchang/btl_notebook\n",
      "   1c84afb..03bb04f  master     -> origin/master\n",
      "Updating 1c84afb..03bb04f\n",
      "Fast-forward\n",
      " scripts/ChIPseq/ChipSeqCallPeaksSubsampled.sh      |    2 +-\n",
      " .../ChIPseq/ChipSeqSubsampleAllBamsInDirectory.sh  |  140 ++++++++++++++++++++\n",
      " scripts/ChIPseq/ChipSeqSubsamplePipeline.sh        |    3 +-\n",
      " 3 files changed, 143 insertions(+), 2 deletions(-)\n",
      " create mode 100644 scripts/ChIPseq/ChipSeqSubsampleAllBamsInDirectory.sh\n"
     ]
    }
   ],
   "source": [
    "git pull"
   ]
  },
  {
   "cell_type": "code",
   "execution_count": 7,
   "metadata": {
    "collapsed": false
   },
   "outputs": [
    {
     "name": "stdout",
     "output_type": "stream",
     "text": [
      "ChipSeqCallPeaksSubsampled.sh\t       ChipSeqSubsamplePipeline.sh\n",
      "ChipSeqSubsampleAllBamsInDirectory.sh\n"
     ]
    }
   ],
   "source": [
    "ls\n"
   ]
  },
  {
   "cell_type": "markdown",
   "metadata": {},
   "source": [
    "to get tagging on ChipSeqSubsampleAllBamsInDirectory.sh, need to add file to .gitattributes\n",
    "follow existing format in .gitattributes, check in updated gitattribtes to take effect\n",
    "generated archive with this command (no special git needed on login host - only for push):\n",
    "git archive --format tar HEAD scripts/ChIPseq > /cil/shed/apps/internal/SSF/ChipSeq/modscripts.tar\n",
    "or \n",
    "git archive -o /cil/shed/apps/internal/SSF/ChipSeq/modscripts.tgz HEAD scripts/ChIPseq\n",
    "either way, unpack tarball and put scripts into /cil/shed/apps/internal/SSF/ChipSeq"
   ]
  },
  {
   "cell_type": "markdown",
   "metadata": {},
   "source": [
    "EXAMPLE invocation - using default # of iterations, ChipSeqSubsamplePipeline.sh only subsampling 50,000 for this test:\n",
    "\n",
    "run in /cil/shed/apps/internal/SSF/ChipSeq on stout\n",
    "\n",
    "ssh stout \"cd /cil/shed/apps/internal/SSF/ChipSeq; sh ChipSeqSubsampleAllBamsInDirectory.sh /btl/projects/ChIPseq/ENCODE/data/H3K27ac_adrenal /btl/projects/ChIPseq/ENCODE/data/H3K27ac_adrenal/test_subsample_analysisWctrl_GRCh38 /btl/projects/ChIPseq/ENCODE/data/H3K27ac_adrenal/ENCFF159PLR.bam histone /seq/references/Homo_sapiens_assembly38/v0/Homo_sapiens_assembly38.fasta TRUE long /cil/shed/apps/internal/SSF/ChipSeq\""
   ]
  },
  {
   "cell_type": "code",
   "execution_count": 9,
   "metadata": {
    "collapsed": false
   },
   "outputs": [
    {
     "name": "stdout",
     "output_type": "stream",
     "text": [
      "INPUT_DIR /btl/projects/ChIPseq/ENCODE/data/H3K27ac_adrenal\n",
      "OUTPUT_DIR /btl/projects/ChIPseq/ENCODE/data/H3K27ac_adrenal/test_subsample_analysisWctrl_GRCh38\n",
      "CONTROL /btl/projects/ChIPseq/ENCODE/data/H3K27ac_adrenal/ENCFF159PLR.bam\n",
      "PEAK_STYLE histone\n",
      "GENOME_FILE /seq/references/Homo_sapiens_assembly38/v0/Homo_sapiens_assembly38.fasta\n",
      "PAIRED_END TRUE\n",
      "QUEUE long\n",
      "SCRIPT_DIR /cil/shed/apps/internal/SSF/ChipSeq\n",
      "Searching directory: /btl/projects/ChIPseq/ENCODE/data/H3K27ac_adrenal\n",
      "Writing to: /btl/projects/ChIPseq/ENCODE/data/H3K27ac_adrenal/test_subsample_analysisWctrl_GRCh38\n",
      "Output directory /btl/projects/ChIPseq/ENCODE/data/H3K27ac_adrenal/test_subsample_analysisWctrl_GRCh38 does not exists. Creating directory.\n",
      "Output directory /btl/projects/ChIPseq/ENCODE/data/H3K27ac_adrenal/test_subsample_analysisWctrl_GRCh38/Peaks  does not exists. Creating directory.\n",
      "Output directory /btl/projects/ChIPseq/ENCODE/data/H3K27ac_adrenal/test_subsample_analysisWctrl_GRCh38/Peaks/bed  does not exists. Creating directory.\n",
      "Control is a file, assuming bam\n",
      "CONTROL_STEM is ENCFF159PLR\n",
      "Paired end\n",
      "makeTagDirectory /btl/projects/ChIPseq/ENCODE/data/H3K27ac_adrenal/test_subsample_analysisWctrl_GRCh38/ENCFF159PLR/btl/projects/ChIPseq/ENCODE/data/H3K27ac_adrenal/ENCFF159PLR.bam -genome /seq/references/Homo_sapiens_assembly38/v0/Homo_sapiens_assembly38.fasta -illuminaPE -checkGC -tbp 1\n",
      "\tWill parse file: /btl/projects/ChIPseq/ENCODE/data/H3K27ac_adrenal/ENCFF159PLR.bam\n",
      "\tCustom genome sequence file: /seq/references/Homo_sapiens_assembly38/v0/Homo_sapiens_assembly38.fasta\n",
      "\n",
      "\tCreating directory: /btl/projects/ChIPseq/ENCODE/data/H3K27ac_adrenal/test_subsample_analysisWctrl_GRCh38/Tags/ENCFF159PLR and removing existing *.tags.tsv\n",
      "\n",
      "\tTreating /btl/projects/ChIPseq/ENCODE/data/H3K27ac_adrenal/ENCFF159PLR.bam as a bam file\n",
      "\tReading alignment file /btl/projects/ChIPseq/ENCODE/data/H3K27ac_adrenal/ENCFF159PLR.bam\n",
      "\n",
      "\tOptimizing tag files...\n",
      "\tEstimated genome size = 3097906551\n",
      "\tEstimated average read density = 0.017180 per bp\n",
      "\tTotal Tags = 53223287.0\n",
      "\tTotal Positions = 53223287\n",
      "\tAverage tag length = 75.8\n",
      "\tMedian tags per position = 1 (ideal: 1)\n",
      "\tAverage tags per position = 1.000\n",
      "\tFragment Length Estimate: 226\n",
      "\tPeak Width Estimate: 232\n",
      "\tAutocorrelation quality control metrics:\n",
      "\t\tSame strand fold enrichment: 1.1\n",
      "\t\tDiff strand fold enrichment: 1.1\n",
      "\t\tSame / Diff fold enrichment: 1.0\n",
      "\n",
      "\t\tGuessing sample is ChIP-Seq - may have low enrichment with lots of background\n",
      "\n",
      "\tChecking GC bias...\n",
      "\t\tCurrent Fragment length estimate: 226\n",
      "\tChecking Tag/Fragment sequence for bias...\n",
      "\t\tchr1\n",
      "\tReading whole genome at once...\n",
      "\t\tchr2\n",
      "\t\tchr3\n",
      "\t\tchr4\n",
      "\t\tchr5\n",
      "\t\tchr6\n",
      "\t\tchr7\n",
      "\t\tchr8\n",
      "\t\tchr9\n",
      "\t\tchr10\n",
      "\t\tchr11\n",
      "\t\tchr12\n",
      "\t\tchr13\n",
      "\t\tchr14\n",
      "\t\tchr15\n",
      "\t\tchr16\n",
      "\t\tchr17\n",
      "\t\tchr18\n",
      "\t\tchr19\n",
      "\t\tchr20\n",
      "\t\tchr21\n",
      "\t\tchr22\n",
      "\t\tchrX\n",
      "\t\tchrY\n",
      "\t\tchrM\n",
      "\t\tchr11_KI270721v1_random\n",
      "\t\tchr14_GL000009v2_random\n",
      "\t\tchr14_GL000194v1_random\n",
      "\t\tchr14_GL000225v1_random\n",
      "\t\tchr14_KI270722v1_random\n",
      "\t\tchr14_KI270723v1_random\n",
      "\t\tchr14_KI270724v1_random\n",
      "\t\tchr14_KI270725v1_random\n",
      "\t\tchr14_KI270726v1_random\n",
      "\t\tchr15_KI270727v1_random\n",
      "\t\tchr16_KI270728v1_random\n",
      "\t\tchr17_GL000205v2_random\n",
      "\t\tchr17_KI270729v1_random\n",
      "\t\tchr17_KI270730v1_random\n",
      "\t\tchr1_KI270706v1_random\n",
      "\t\tchr1_KI270707v1_random\n",
      "\t\tchr1_KI270708v1_random\n",
      "\t\tchr1_KI270709v1_random\n",
      "\t\tchr1_KI270710v1_random\n",
      "\t\tchr1_KI270711v1_random\n",
      "\t\tchr1_KI270712v1_random\n",
      "\t\tchr1_KI270713v1_random\n",
      "\t\tchr1_KI270714v1_random\n",
      "\t\tchr22_KI270731v1_random\n",
      "\t\tchr22_KI270732v1_random\n",
      "\t\tchr22_KI270733v1_random\n",
      "\t\tchr22_KI270734v1_random\n",
      "\t\tchr22_KI270735v1_random\n",
      "\t\tchr22_KI270736v1_random\n",
      "\t\tchr22_KI270737v1_random\n",
      "\t\tchr22_KI270738v1_random\n",
      "\t\tchr22_KI270739v1_random\n",
      "\t\tchr2_KI270715v1_random\n",
      "\t\tchr2_KI270716v1_random\n",
      "\t\tchr3_GL000221v1_random\n",
      "\t\tchr4_GL000008v2_random\n",
      "\t\tchr5_GL000208v1_random\n",
      "\t\tchr9_KI270717v1_random\n",
      "\t\tchr9_KI270718v1_random\n",
      "\t\tchr9_KI270719v1_random\n",
      "\t\tchr9_KI270720v1_random\n",
      "\t\tchrEBV\n",
      "\t\tchrUn_GL000195v1\n",
      "\t\tchrUn_GL000213v1\n",
      "\t\tchrUn_GL000214v1\n",
      "\t\tchrUn_GL000216v2\n",
      "\t\tchrUn_GL000218v1\n",
      "\t\tchrUn_GL000219v1\n",
      "\t\tchrUn_GL000220v1\n",
      "\t\tchrUn_GL000224v1\n",
      "\t\tchrUn_KI270302v1\n",
      "\t\tchrUn_KI270303v1\n",
      "\t\tchrUn_KI270304v1\n",
      "\t\tchrUn_KI270305v1\n",
      "\t\tchrUn_KI270310v1\n",
      "\t\tchrUn_KI270311v1\n",
      "\t\tchrUn_KI270315v1\n",
      "\t\tchrUn_KI270320v1\n",
      "\t\tchrUn_KI270322v1\n",
      "\t\tchrUn_KI270330v1\n",
      "\t\tchrUn_KI270333v1\n",
      "\t\tchrUn_KI270336v1\n",
      "\t\tchrUn_KI270337v1\n",
      "\t\tchrUn_KI270362v1\n",
      "\t\tchrUn_KI270363v1\n",
      "\t\tchrUn_KI270366v1\n",
      "\t\tchrUn_KI270371v1\n",
      "\t\tchrUn_KI270378v1\n",
      "\t\tchrUn_KI270382v1\n",
      "\t\tchrUn_KI270391v1\n",
      "\t\tchrUn_KI270392v1\n",
      "\t\tchrUn_KI270417v1\n",
      "\t\tchrUn_KI270419v1\n",
      "\t\tchrUn_KI270420v1\n",
      "\t\tchrUn_KI270422v1\n",
      "\t\tchrUn_KI270423v1\n",
      "\t\tchrUn_KI270424v1\n",
      "\t\tchrUn_KI270429v1\n",
      "\t\tchrUn_KI270435v1\n",
      "\t\tchrUn_KI270438v1\n",
      "\t\tchrUn_KI270442v1\n",
      "\t\tchrUn_KI270448v1\n",
      "\t\tchrUn_KI270465v1\n",
      "\t\tchrUn_KI270466v1\n",
      "\t\tchrUn_KI270467v1\n",
      "\t\tchrUn_KI270468v1\n",
      "\t\tchrUn_KI270507v1\n",
      "\t\tchrUn_KI270508v1\n",
      "\t\tchrUn_KI270509v1\n",
      "\t\tchrUn_KI270510v1\n",
      "\t\tchrUn_KI270511v1\n",
      "\t\tchrUn_KI270512v1\n",
      "\t\tchrUn_KI270515v1\n",
      "\t\tchrUn_KI270516v1\n",
      "\t\tchrUn_KI270517v1\n",
      "\t\tchrUn_KI270518v1\n",
      "\t\tchrUn_KI270519v1\n",
      "\t\tchrUn_KI270521v1\n",
      "\t\tchrUn_KI270522v1\n",
      "\t\tchrUn_KI270538v1\n",
      "\t\tchrUn_KI270539v1\n",
      "\t\tchrUn_KI270580v1\n",
      "\t\tchrUn_KI270582v1\n",
      "\t\tchrUn_KI270583v1\n",
      "\t\tchrUn_KI270584v1\n",
      "\t\tchrUn_KI270587v1\n",
      "\t\tchrUn_KI270588v1\n",
      "\t\tchrUn_KI270589v1\n",
      "\t\tchrUn_KI270590v1\n",
      "\t\tchrUn_KI270591v1\n",
      "\t\tchrUn_KI270593v1\n",
      "\t\tchrUn_KI270741v1\n",
      "\t\tchrUn_KI270742v1\n",
      "\t\tchrUn_KI270743v1\n",
      "\t\tchrUn_KI270744v1\n",
      "\t\tchrUn_KI270745v1\n",
      "\t\tchrUn_KI270746v1\n",
      "\t\tchrUn_KI270747v1\n",
      "\t\tchrUn_KI270748v1\n",
      "\t\tchrUn_KI270749v1\n",
      "\t\tchrUn_KI270750v1\n",
      "\t\tchrUn_KI270751v1\n",
      "\t\tchrUn_KI270753v1\n",
      "\t\tchrUn_KI270754v1\n",
      "\t\tchrUn_KI270755v1\n",
      "\t\tchrUn_KI270756v1\n",
      "\t\tchrUn_KI270757v1\n",
      "\t\tchrY_KI270740v1_random\n",
      "\tAvg Fragment GC% = 41.83%\n",
      "\tAvg Expected GC% = 40.61%\n",
      "Finished processing control\n",
      "No subsample iteration argument supplied, setting to 2 iterations\n",
      "processing filename /btl/projects/ChIPseq/ENCODE/data/H3K27ac_adrenal/ENCFF159PLR.bam\n",
      "processing filename /btl/projects/ChIPseq/ENCODE/data/H3K27ac_adrenal/ENCFF357WIV.bam\n",
      "qsub -V -cwd -j y -b y -o /btl/projects/ChIPseq/ENCODE/data/H3K27ac_adrenal/test_subsample_analysisWctrl_GRCh38 -q long -l h_vmem=32g sh /cil/shed/apps/internal/SSF/ChipSeq/ChipSeqSubsamplePipeline.sh /btl/projects/ChIPseq/ENCODE/data/H3K27ac_adrenal/ENCFF357WIV.bam /btl/projects/ChIPseq/ENCODE/data/H3K27ac_adrenal/test_subsample_analysisWctrl_GRCh38 /btl/projects/ChIPseq/ENCODE/data/H3K27ac_adrenal/test_subsample_analysisWctrl_GRCh38/Tags/ENCFF159PLR histone /seq/references/Homo_sapiens_assembly38/v0/Homo_sapiens_assembly38.fasta TRUE long /cil/shed/apps/internal/SSF/ChipSeq\n",
      "removed environment variable LD_LIBRARY_PATH from submit environment - it is considered a security issue\n",
      "Your job 7777641 (\"sh\") has been submitted\n"
     ]
    }
   ],
   "source": [
    "ssh stout \"cd /cil/shed/apps/internal/SSF/ChipSeq; sh ChipSeqSubsampleAllBamsInDirectory.sh /btl/projects/ChIPseq/ENCODE/data/H3K27ac_adrenal /btl/projects/ChIPseq/ENCODE/data/H3K27ac_adrenal/test_subsample_analysisWctrl_GRCh38 /btl/projects/ChIPseq/ENCODE/data/H3K27ac_adrenal/ENCFF159PLR.bam histone /seq/references/Homo_sapiens_assembly38/v0/Homo_sapiens_assembly38.fasta TRUE long /cil/shed/apps/internal/SSF/ChipSeq\""
   ]
  },
  {
   "cell_type": "markdown",
   "metadata": {},
   "source": [
    "next time instead of pointing to bam, can point to processed control files (to save time, cannot do this for first time sample is processed)\n",
    "\n",
    "EXAMPLE:\n",
    "ssh stout \"cd /cil/shed/apps/internal/SSF/ChipSeq; sh ChipSeqSubsampleAllBamsInDirectory.sh /btl/projects/ChIPseq/ENCODE/data/H3K27ac_adrenal /btl/projects/ChIPseq/ENCODE/data/H3K27ac_adrenal/test_subsample_analysisWctrl_GRCh38 /btl/projects/ChIPseq/ENCODE/data/H3K27ac_adrenal/test_subsample_analysisWctrl_GRCh38/Tags/ENCFF159PLR histone /seq/references/Homo_sapiens_assembly38/v0/Homo_sapiens_assembly38.fasta TRUE long /cil/shed/apps/internal/SSF/ChipSeq\""
   ]
  },
  {
   "cell_type": "code",
   "execution_count": 1,
   "metadata": {
    "collapsed": false
   },
   "outputs": [
    {
     "name": "stdout",
     "output_type": "stream",
     "text": [
      "Mon Apr  3 14:24:35 EDT 2017\n"
     ]
    }
   ],
   "source": [
    "date\n",
    "ssh login \"eval export DK_ROOT=\"/broad/software/dotkit\"; . /broad/software/dotkit/ksh/.dk_init ; use  UGER; qstat\""
   ]
  },
  {
   "cell_type": "code",
   "execution_count": 3,
   "metadata": {
    "collapsed": false
   },
   "outputs": [
    {
     "name": "stdout",
     "output_type": "stream",
     "text": [
      "Mon Apr  3 14:25:08 EDT 2017\n",
      "==============================================================\n",
      "qname        long                \n",
      "hostname     uger-c036.broadinstitute.org\n",
      "group        btl                 \n",
      "owner        jlchang             \n",
      "project      broad               \n",
      "department   defaultdepartment   \n",
      "jobname      sh                  \n",
      "jobnumber    7777641             \n",
      "taskid       undefined\n",
      "account      sge                 \n",
      "priority     0                   \n",
      "cwd          /cil/shed/apps/internal/SSF/ChipSeq\n",
      "submit_host  stout.broadinstitute.org\n",
      "submit_cmd   qsub -V -cwd -j y -b y -o /btl/projects/ChIPseq/ENCODE/data/H3K27ac_adrenal/test_subsample_analysisWctrl_GRCh38 -q long -l h_vmem=32g sh /cil/shed/apps/internal/SSF/ChipSeq/ChipSeqSubsamplePipeline.sh /btl/projects/ChIPseq/ENCODE/data/H3K27ac_adrenal/ENCFF357WIV.bam /btl/projects/ChIPseq/ENCODE/data/H3K27ac_adrenal/test_subsample_analysisWctrl_GRCh38 /btl/projects/ChIPseq/ENCODE/data/H3K27ac_adrenal/test_subsample_analysisWctrl_GRCh38/Tags/ENCFF159PLR histone /seq/references/Homo_sapiens_assembly38/v0/Homo_sapiens_assembly38.fasta TRUE long /cil/shed/apps/internal/SSF/ChipSeq\n",
      "qsub_time    04/03/2017 12:33:09.315\n",
      "start_time   04/03/2017 12:33:11.426\n",
      "end_time     04/03/2017 12:59:19.437\n",
      "granted_pe   NONE                \n",
      "slots        1                   \n",
      "failed       0    \n",
      "deleted_by   NONE\n",
      "exit_status  0                   \n",
      "ru_wallclock 1568.011     \n",
      "ru_utime     1464.319     \n",
      "ru_stime     35.956       \n",
      "ru_maxrss    3438948             \n",
      "ru_ixrss     0                   \n",
      "ru_ismrss    0                   \n",
      "ru_idrss     0                   \n",
      "ru_isrss     0                   \n",
      "ru_minflt    1065643             \n",
      "ru_majflt    52                  \n",
      "ru_nswap     0                   \n",
      "ru_inblock   29528280            \n",
      "ru_oublock   21357656            \n",
      "ru_msgsnd    0                   \n",
      "ru_msgrcv    0                   \n",
      "ru_nsignals  0                   \n",
      "ru_nvcsw     2101034             \n",
      "ru_nivcsw    2538384             \n",
      "wallclock    1568.175     \n",
      "cpu          1500.275     \n",
      "mem          3066.271          \n",
      "io           96.015            \n",
      "iow          46.630            \n",
      "ioops        7769847             \n",
      "maxvmem      4.010G\n",
      "maxrss       0.000\n",
      "maxpss       0.000\n",
      "arid         undefined\n",
      "jc_name      NONE\n"
     ]
    }
   ],
   "source": [
    "date\n",
    "ssh login \"eval export DK_ROOT=\"/broad/software/dotkit\"; . /broad/software/dotkit/ksh/.dk_init ; use  UGER; qacct -j 7777641\""
   ]
  },
  {
   "cell_type": "markdown",
   "metadata": {
    "collapsed": true
   },
   "source": [
    "sh ChipSeqSubsampleAllBamsInDirectory.sh /btl/projects/ChIPseq/ENCODE/data/H3K27ac_adrenal /btl/projects/ChIPseq/ENCODE/data/H3K27ac_adrenal/full_subsample_analysisWctrl_GRCh38 /btl/projects/ChIPseq/ENCODE/data/H3K27ac_adrenal/test_subsample_analysisWctrl_GRCh38/Tags/ENCFF159PLR histone /seq/references/Homo_sapiens_assembly38/v0/Homo_sapiens_assembly38.fasta TRUE long /cil/shed/apps/internal/SSF/ChipSeq > /btl/projects/ChIPseq/ENCODE/data/H3K27ac_adrenal/full_subsample_analysisWctrl_GRCh38.out\n",
    "\n",
    "---"
   ]
  },
  {
   "cell_type": "markdown",
   "metadata": {},
   "source": [
    "sh ChipSeqSubsampleAllBamsInDirectory.sh /btl/projects/ChIPseq/ENCODE/data/H3K27ac_adrenal /btl/projects/ChIPseq/ENCODE/data/H3K27ac_adrenal/full_subsampl<ns_assembly38.fasta TRUE long /cil/shed/apps/internal/SSF/ChipSeq > /btl/projects/ChIPseq/ENCODE/data/H3K27ac_adrenal/full_subsample_analysisWctrl_GRCh38.out\n",
    "bash:stout:/cil/shed/apps/internal/SSF/ChipSeq 509 $ tail -f !$\n",
    "tail -f /btl/projects/ChIPseq/ENCODE/data/H3K27ac_adrenal/full_subsample_analysisWctrl_GRCh38.out\n",
    "Finished processing control\n",
    "No subsample iteration argument supplied, setting to 2 iterations\n",
    "processing filename /btl/projects/ChIPseq/ENCODE/data/H3K27ac_adrenal/ENCFF159PLR.bam\n",
    "qsub -V -cwd -j y -b y -o /btl/projects/ChIPseq/ENCODE/data/H3K27ac_adrenal/full_subsample_analysisWctrl_GRCh38 -q long -l h_vmem=32g sh /cil/shed/apps/internal/SSF/ChipSeq/ChipSeqSubsamplePipeline.sh /btl/projects/ChIPseq/ENCODE/data/H3K27ac_adrenal/ENCFF159PLR.bam /btl/projects/ChIPseq/ENCODE/data/H3K27ac_adrenal/full_subsample_analysisWctrl_GRCh38 /btl/projects/ChIPseq/ENCODE/data/H3K27ac_adrenal/test_subsample_analysisWctrl_GRCh38/Tags/ENCFF159PLR histone /seq/references/Homo_sapiens_assembly38/v0/Homo_sapiens_assembly38.fasta TRUE long /cil/shed/apps/internal/SSF/ChipSeq\n",
    "removed environment variable LD_LIBRARY_PATH from submit environment - it is considered a security issue\n",
    "Your job 7779031 (\"sh\") has been submitted\n",
    "processing filename /btl/projects/ChIPseq/ENCODE/data/H3K27ac_adrenal/ENCFF357WIV.bam\n",
    "qsub -V -cwd -j y -b y -o /btl/projects/ChIPseq/ENCODE/data/H3K27ac_adrenal/full_subsample_analysisWctrl_GRCh38 -q long -l h_vmem=32g sh /cil/shed/apps/internal/SSF/ChipSeq/ChipSeqSubsamplePipeline.sh /btl/projects/ChIPseq/ENCODE/data/H3K27ac_adrenal/ENCFF357WIV.bam /btl/projects/ChIPseq/ENCODE/data/H3K27ac_adrenal/full_subsample_analysisWctrl_GRCh38 /btl/projects/ChIPseq/ENCODE/data/H3K27ac_adrenal/test_subsample_analysisWctrl_GRCh38/Tags/ENCFF159PLR histone /seq/references/Homo_sapiens_assembly38/v0/Homo_sapiens_assembly38.fasta TRUE long /cil/shed/apps/internal/SSF/ChipSeq\n",
    "removed environment variable LD_LIBRARY_PATH from submit environment - it is considered a security issue\n",
    "Your job 7779032 (\"sh\") has been submitted\n"
   ]
  },
  {
   "cell_type": "code",
   "execution_count": null,
   "metadata": {
    "collapsed": true
   },
   "outputs": [],
   "source": []
  }
 ],
 "metadata": {
  "kernelspec": {
   "display_name": "Bash",
   "language": "bash",
   "name": "bash"
  },
  "language_info": {
   "codemirror_mode": "shell",
   "file_extension": ".sh",
   "mimetype": "text/x-sh",
   "name": "bash"
  }
 },
 "nbformat": 4,
 "nbformat_minor": 0
}
