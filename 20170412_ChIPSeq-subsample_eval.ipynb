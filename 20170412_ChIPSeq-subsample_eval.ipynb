{
 "cells": [
  {
   "cell_type": "code",
   "execution_count": 1,
   "metadata": {
    "collapsed": false
   },
   "outputs": [
    {
     "name": "stdout",
     "output_type": "stream",
     "text": [
      "Tue Apr 11 13:22:59 EDT 2017\n"
     ]
    }
   ],
   "source": [
    "date\n"
   ]
  },
  {
   "cell_type": "markdown",
   "metadata": {},
   "source": [
    "GOAL - How much sequencing is needed to determine if a lab experiment \"worked\"\n",
    "\n",
    "- [ ] subgoal 1 - what does a successful experiment look like (vs a failed experiment)\n",
    "    * obtain data for a \"successful\" experiment\n",
    "    * obtain data for a \"failed\" experiment (using the same antibody and cell type?)\n",
    "    * Look for data in epigenomics portal (use Safari, allow Java etc)\n",
    "        https://intranet.broadinstitute.org/cgi-bin/epigenomics/private/prod/cloneportal.cgi\n",
    "    * (setup info for portal https://mail.google.com/mail/u/0/?ui=2&ik=2697a020ca&view=om&th=15a8b7de6fae67a6)\n",
    "- [ ] subgoal 2 - what metric(s) can be used to measure success? (overlap of peaks? SPOT score?)\n",
    "- [ ] subgoal 2 - how much sequence is needed to distiguish \"successful\" fro \"failed\"\n",
    "---"
   ]
  },
  {
   "cell_type": "markdown",
   "metadata": {},
   "source": [
    " * ENCODE data used: \n",
    "     * Alignment genome - GRCH38, /seq/references/Homo_sapiens_assembly38\n",
    "     * Peak caller - MACS2\n",
    "\n",
    " * Our analysis process:\n",
    "     * Peak caller - Homer4.7\n",
    "     * subsample tool - Michele's (Does it matter if I use Michele's or picard?)\n",
    "\n",
    " * BTL data SSF-1417:\n",
    "     * Alignment genome - \n",
    "     \n",
    "***"
   ]
  },
  {
   "cell_type": "markdown",
   "metadata": {},
   "source": [
    "+ have peaks for two sets of ENCODE data, adrenal and K562  \n",
    "\n",
    "    + If I downsample adrenal and compare to full sample adrenal, how many peaks do I lose?\n",
    "    + If I compare K562 to full sample adrenal, what happens to peak overlap?\n",
    "    + If I downsample K562 and compare to full K562 or full adrenal - what do I see?"
   ]
  },
  {
   "cell_type": "markdown",
   "metadata": {},
   "source": [
    "- [X] Code task:\n",
    " * modify Michele's script to downsample particular target read levels instead of her downsampling strategy\n",
    " * assume 20M aligned reads is whole data set\n"
   ]
  },
  {
   "cell_type": "markdown",
   "metadata": {},
   "source": [
    "Modified Michele's pipeline to created downsampled output\n",
    "\n",
    "Three modified scripts:\n",
    "ChipSeqSubsampleAllBamsInDirectory.sh (which calls the next script)\n",
    "ChipSeqSubsamplePipeline.sh (which calls the next script)\n",
    "ChipSeqCallPeaksSubsampled.sh\n",
    "\n",
    "For testing, ChipSeqSubsamplePipeline.sh did two iterations of 50,000 read subsample\n",
    "(with no subsample iterations specified, should get two iterations). Scripts are hard-coded to use UGER cluster\n"
   ]
  },
  {
   "cell_type": "markdown",
   "metadata": {},
   "source": [
    "to get GIT repo commitID tagging on scripts, add files to .gitattributes\n",
    "follow existing format in .gitattributes, check in updated gitattribtes to take effect\n",
    "generated archive with this command (no special git needed on login host - only for push):\n",
    "\n",
    "#git pull first if needed\n",
    "git archive -o /cil/shed/apps/internal/SSF/ChipSeq/modscripts.tgz HEAD scripts/ChIPseq\n",
    "\n",
    "unpack tarball and put scripts into /cil/shed/apps/internal/SSF/ChipSeq"
   ]
  },
  {
   "cell_type": "markdown",
   "metadata": {},
   "source": [
    "20170304 EXAMPLE invocation - using default # of iterations, ChipSeqSubsamplePipeline.sh with full subsampling.\n",
    "\n",
    "from stout\n",
    "\n",
    "use UGER\n",
    " \n",
    "cd /cil/shed/apps/internal/SSF/ChipSeq\n",
    " \n",
    "adrenal re-run\n",
    "\n",
    "qsub -cwd -j y -b y -o ~/adrenal_subsample5.out -q long -l h_vmem=32g sh ChipSeqSubsamplePipeline.sh /btl/projects/ChIPseq/ENCODE/data/H3K27ac_adrenal/ENCFF357WIV.bam  /btl/projects/ChIPseq/ENCODE/data/H3K27ac_adrenal/full_subsample5_analysisWctrl_GRCh38 /btl/projects/ChIPseq/ENCODE/data/H3K27ac_adrenal/test_subsample_analysisWctrl_GRCh38/Tags/ENCFF159PLR histone /seq/references/Homo_sapiens_assembly38/v0/Homo_sapiens_assembly38.fasta TRUE long /cil/shed/apps/internal/SSF/ChipSeq \n",
    "\n",
    "Your job 7993315 (\"sh\") has been submitted\n",
    "\n",
    "\n",
    "____________________\n",
    "K562 processing:\n",
    "qsub -cwd -j y -b y -o ~/K562_subsample5.out -q long -l h_vmem=32g sh ChipSeqSubsamplePipeline.sh /btl/projects/ChIPseq/ENCODE/data/H3K27ac_K562/ENCFF301TVL.bam  /btl/projects/ChIPseq/ENCODE/data/H3K27ac_K562/full_subsample5_analysisWctrl_GRCh38 /btl/projects/ChIPseq/ENCODE/data/H3K27ac_K562/full_subsample_analysisWctrl_GRCh38/Tags/ENCFF392XRJ histone /seq/references/Homo_sapiens_assembly38/v0/Homo_sapiens_assembly38.fasta TRUE long /cil/shed/apps/internal/SSF/ChipSeq \n",
    "\n",
    "Your job 7993316 (\"sh\") has been submitted"
   ]
  },
  {
   "cell_type": "code",
   "execution_count": 2,
   "metadata": {
    "collapsed": false
   },
   "outputs": [
    {
     "name": "stdout",
     "output_type": "stream",
     "text": [
      "total 0\n"
     ]
    }
   ],
   "source": [
    "cd -P ~/BTL/ChIPseq/ENCODE/data/H3K27ac_K562/full_subsample5_analysisWctrl_GRCh38/Downsampling/bams\n",
    "ls -l\n"
   ]
  },
  {
   "cell_type": "code",
   "execution_count": 3,
   "metadata": {
    "collapsed": false
   },
   "outputs": [
    {
     "name": "stdout",
     "output_type": "stream",
     "text": [
      "total 0\n"
     ]
    }
   ],
   "source": [
    "cd -P ~/BTL/ChIPseq/ENCODE/data/H3K27ac_adrenal/full_subsample5_analysisWctrl_GRCh38/Downsampling/bams\n",
    "ls -l"
   ]
  },
  {
   "cell_type": "markdown",
   "metadata": {
    "collapsed": false
   },
   "source": [
    "cd -P ~/BTL/ChIPseq/ENCODE/data/H3K27ac_adrenal/full_subsample5_analysisWctrl_GRCh38\n",
    "ls -l"
   ]
  },
  {
   "cell_type": "code",
   "execution_count": null,
   "metadata": {
    "collapsed": true
   },
   "outputs": [],
   "source": []
  }
 ],
 "metadata": {
  "kernelspec": {
   "display_name": "Bash",
   "language": "bash",
   "name": "bash"
  },
  "language_info": {
   "codemirror_mode": "shell",
   "file_extension": ".sh",
   "mimetype": "text/x-sh",
   "name": "bash"
  }
 },
 "nbformat": 4,
 "nbformat_minor": 0
}
