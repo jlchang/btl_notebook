{
 "cells": [
  {
   "cell_type": "markdown",
   "metadata": {},
   "source": [
    "## ENCODE Uniform processing pipeline for ChIP-seq\n",
    "Code at: https://github.com/ENCODE-DCC/chip-seq-pipeline\n",
    "Link: https://www.encodeproject.org/chip-seq/histone/"
   ]
  },
  {
   "cell_type": "raw",
   "metadata": {},
   "source": [
    "deploy_workflows.sh calls chip_workflow.py\n",
    "may not be easy to deploy code at Broad"
   ]
  },
  {
   "cell_type": "code",
   "execution_count": null,
   "metadata": {
    "collapsed": true
   },
   "outputs": [],
   "source": []
  }
 ],
 "metadata": {
  "kernelspec": {
   "display_name": "Python 3",
   "language": "python",
   "name": "python3"
  },
  "language_info": {
   "codemirror_mode": {
    "name": "ipython",
    "version": 3
   },
   "file_extension": ".py",
   "mimetype": "text/x-python",
   "name": "python",
   "nbconvert_exporter": "python",
   "pygments_lexer": "ipython3",
   "version": "3.5.1"
  }
 },
 "nbformat": 4,
 "nbformat_minor": 0
}
