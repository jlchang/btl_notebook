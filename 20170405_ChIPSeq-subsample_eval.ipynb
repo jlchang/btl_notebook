{
 "cells": [
  {
   "cell_type": "code",
   "execution_count": 1,
   "metadata": {
    "collapsed": false
   },
   "outputs": [
    {
     "name": "stdout",
     "output_type": "stream",
     "text": [
      "Wed Apr  5 10:54:46 EDT 2017\n"
     ]
    }
   ],
   "source": [
    "date\n"
   ]
  },
  {
   "cell_type": "markdown",
   "metadata": {},
   "source": [
    "GOAL - How much sequencing is needed to determine if a lab experiment \"worked\"\n",
    "\n",
    "- [ ] subgoal 1 - what does a successful experiment look like (vs a failed experiment)\n",
    "    * obtain data for a \"successful\" experiment\n",
    "    * obtain data for a \"failed\" experiment (using the same antibody and cell type?)\n",
    "    * Look for data in epigenomics portal (use Safari, allow Java etc)\n",
    "        https://intranet.broadinstitute.org/cgi-bin/epigenomics/private/prod/cloneportal.cgi\n",
    "    * (setup info for portal https://mail.google.com/mail/u/0/?ui=2&ik=2697a020ca&view=om&th=15a8b7de6fae67a6)\n",
    "- [ ] subgoal 2 - what metric(s) can be used to measure success? (overlap of peaks? SPOT score?)\n",
    "- [ ] subgoal 2 - how much sequence is needed to distiguish \"successful\" fro \"failed\"\n",
    "---"
   ]
  },
  {
   "cell_type": "markdown",
   "metadata": {},
   "source": [
    " * ENCODE data used: \n",
    "     * Alignment genome - GRCH38, /seq/references/Homo_sapiens_assembly38\n",
    "     * Peak caller - MACS2\n",
    "\n",
    " * Our analysis process:\n",
    "     * Peak caller - Homer4.7\n",
    "     * subsample tool - Michele's (Does it matter if I use Michele's or picard?)\n",
    "\n",
    " * BTL data SSF-1417:\n",
    "     * Alignment genome - \n",
    "     \n",
    "***"
   ]
  },
  {
   "cell_type": "markdown",
   "metadata": {},
   "source": [
    "+ have peaks for two sets of ENCODE data, adrenal and K562  \n",
    "\n",
    "    + If I downsample adrenal and compare to full sample adrenal, how many peaks do I lose?\n",
    "    + If I compare K562 to full sample adrenal, what happens to peak overlap?\n",
    "    + If I downsample K562 and compare to full K562 or full adrenal - what do I see?"
   ]
  },
  {
   "cell_type": "markdown",
   "metadata": {},
   "source": [
    "- [X] Code task:\n",
    " * modify Michele's script to downsample particular target read levels instead of her downsampling strategy\n",
    " * assume 20M aligned reads is whole data set\n"
   ]
  },
  {
   "cell_type": "markdown",
   "metadata": {},
   "source": [
    "Modified Michele's pipeline to created downsampled output\n",
    "\n",
    "Three modified scripts:\n",
    "ChipSeqSubsampleAllBamsInDirectory.sh (which calls the next script)\n",
    "ChipSeqSubsamplePipeline.sh (which calls the next script)\n",
    "ChipSeqCallPeaksSubsampled.sh\n",
    "\n",
    "For testing, ChipSeqSubsamplePipeline.sh did two iterations of 50,000 read subsample\n",
    "(with no subsample iterations specified, should get two iterations). Scripts are hard-coded to use UGER cluster\n"
   ]
  },
  {
   "cell_type": "markdown",
   "metadata": {},
   "source": [
    "to get GIT repo commitID tagging on scripts, add files to .gitattributes\n",
    "follow existing format in .gitattributes, check in updated gitattribtes to take effect\n",
    "generated archive with this command (no special git needed on login host - only for push):\n",
    "\n",
    "#git pull first if needed\n",
    "git archive -o /cil/shed/apps/internal/SSF/ChipSeq/modscripts.tgz HEAD scripts/ChIPseq\n",
    "\n",
    "unpack tarball and put scripts into /cil/shed/apps/internal/SSF/ChipSeq"
   ]
  },
  {
   "cell_type": "markdown",
   "metadata": {},
   "source": [
    "20170304 EXAMPLE invocation - using default # of iterations, ChipSeqSubsamplePipeline.sh with full subsampling.\n",
    "\n",
    "from stout\n",
    "\n",
    "use UGER\n",
    " \n",
    "cd /cil/shed/apps/internal/SSF/ChipSeq\n",
    " \n",
    "qsub -cwd -j y -b y -o full_subsample3.out -q long -l h_vmem=32g sh ChipSeqSubsamplePipeline.sh /btl/projects/ChIPseq/ENCODE/data/H3K27ac_adrenal/ENCFF357WIV.bam  /btl/projects/ChIPseq/ENCODE/data/H3K27ac_adrenal/full_subsample3_analysisWctrl_GRCh38 /btl/projects/ChIPseq/ENCODE/data/H3K27ac_adrenal/test_subsample_analysisWctrl_GRCh38/Tags/ENCFF159PLR histone /seq/references/Homo_sapiens_assembly38/v0/Homo_sapiens_assembly38.fasta TRUE long /cil/shed/apps/internal/SSF/ChipSeq \n",
    "\n",
    "Your job 7805039 (\"sh\") has been submitted\n",
    "\n",
    "____________________\n",
    "K562 processing:\n",
    "qsub -cwd -j y -b y -o full_subsample3.out -q long -l h_vmem=32g sh ChipSeqSubsamplePipeline.sh /btl/projects/ChIPseq/ENCODE/data/H3K27ac_K562/ENCFF301TVL.bam  /btl/projects/ChIPseq/ENCODE/data/H3K27ac_K562/full_subsample_analysisWctrl_GRCh38 /btl/projects/ChIPseq/ENCODE/data/H3K27ac_K562/ENCFF392XRJ.bam histone /seq/references/Homo_sapiens_assembly38/v0/Homo_sapiens_assembly38.fasta TRUE long /cil/shed/apps/internal/SSF/ChipSeq \n",
    "\n",
    "Your job 7809146 (\"sh\") has been submitted"
   ]
  },
  {
   "cell_type": "code",
   "execution_count": 5,
   "metadata": {
    "collapsed": false
   },
   "outputs": [
    {
     "name": "stdout",
     "output_type": "stream",
     "text": [
      "H3K27ac_adrenal  H3K27ac_K562\n"
     ]
    }
   ],
   "source": [
    "cd -P ~/BTL/ChIPseq/ENCODE/data\n",
    "ls"
   ]
  },
  {
   "cell_type": "code",
   "execution_count": 7,
   "metadata": {
    "collapsed": false
   },
   "outputs": [
    {
     "name": "stdout",
     "output_type": "stream",
     "text": [
      "bash: cd: H3K27ac_K562/full_subsample_analysisWctrl_GRCh38/Downsampling/bams: No such file or directory\n",
      "total 1098662\n",
      "-rw-rw-r--+ 1 jlchang btl   4834108 Apr  5 07:23 ENCFF301TVL.100000.bam\n",
      "-rw-rw-r--+ 1 jlchang btl 415163175 Apr  5 07:25 ENCFF301TVL.11000000.bam\n",
      "-rw-rw-r--+ 1 jlchang btl  68317702 Apr  5 07:23 ENCFF301TVL.1500000.bam\n",
      "-rw-rw-r--+ 1 jlchang btl  11883763 Apr  5 07:22 ENCFF301TVL.250000.bam\n",
      "-rw-rw-r--+ 1 jlchang btl 415163175 Apr  5 07:28 ENCFF301TVL.30000000.bam\n",
      "-rw-rw-r--+ 1 jlchang btl 176135430 Apr  5 07:26 ENCFF301TVL.4000000.bam\n",
      "-rw-rw-r--+ 1 jlchang btl   2446048 Apr  5 07:22 ENCFF301TVL.50000.bam\n",
      "-rw-rw-r--+ 1 jlchang btl  27985546 Apr  5 07:23 ENCFF301TVL.600000.bam\n"
     ]
    }
   ],
   "source": [
    "cd H3K27ac_K562/full_subsample_analysisWctrl_GRCh38/Downsampling/bams\n",
    "ls -l"
   ]
  },
  {
   "cell_type": "code",
   "execution_count": 1,
   "metadata": {
    "collapsed": false
   },
   "outputs": [
    {
     "name": "stdout",
     "output_type": "stream",
     "text": [
      "total 4153822\n",
      "-rw-rw-r--+ 1 jlchang btl 2793763361 Apr 23  2016 ENCFF159PLR.bam\n",
      "-rw-rw-r--+ 1 jlchang btl 1445476868 Aug  9  2016 ENCFF357WIV.bam\n",
      "-rw-rw-r--+ 1 jlchang btl    4329007 Oct 29 10:48 ENCFF174BNU.bed\n",
      "-rw-rw-r--+ 1 jlchang btl    2794885 Oct 29 10:49 ENCFF507NEG.bigBed\n",
      "drwxrwxr-x  6 jlchang btl         47 Mar  4 19:35 UGES_analysis_out\n",
      "drwxrwxr-x  6 jlchang btl         47 Mar  6 15:25 UGES_analysisWctrl_out\n",
      "drwxrwxr-x  2 jlchang btl          5 Mar 13 14:00 interection_analysis\n",
      "drwxrwxr-x  6 jlchang btl         47 Mar 16 11:08 UGES_analysisWctrl_hg19v1\n",
      "drwxrwxr-x  6 jlchang btl         47 Mar 16 11:37 UGES_analysisWctrl_hg19v0\n",
      "drwxrwxr-x  6 jlchang btl         47 Mar 31 12:36 UGER_analysisWctrl_GRCh38\n",
      "drwxrwxr-x  6 jlchang btl         10 Apr  3 12:59 test_subsample_analysisWctrl_GRCh38\n",
      "-rw-rw-r--+ 1 jlchang btl       3167 Apr  3 16:08 full_subsample_analysisWctrl_GRCh38.out\n",
      "drwxrwxr-x  6 jlchang btl         41 Apr  3 16:58 full_subsample_analysisWctrl_GRCh38\n",
      "drwxrwxr-x  6 jlchang btl          6 Apr  4 11:34 full_subsample2_analysisWctrl_GRCh38\n",
      "drwxrwxr-x  6 jlchang btl         22 Apr  4 21:16 full_subsample3_analysisWctrl_GRCh38\n"
     ]
    }
   ],
   "source": [
    "cd ~/BTL/ChIPseq/ENCODE/data/H3K27ac_adrenal\n",
    "ls -lrt"
   ]
  },
  {
   "cell_type": "code",
   "execution_count": 3,
   "metadata": {
    "collapsed": false
   },
   "outputs": [
    {
     "name": "stdout",
     "output_type": "stream",
     "text": [
      "total 2403157\n",
      "-rw-rw-r--+ 1 jlchang btl    6214990 Apr  4 21:25 ENCFF357WIV.100000.bam\n",
      "-rw-rw-r--+ 1 jlchang btl  624173585 Apr  4 21:30 ENCFF357WIV.11000000.bam\n",
      "-rw-rw-r--+ 1 jlchang btl   89497981 Apr  4 21:28 ENCFF357WIV.1500000.bam\n",
      "-rw-rw-r--+ 1 jlchang btl   15332691 Apr  4 21:27 ENCFF357WIV.250000.bam\n",
      "-rw-rw-r--+ 1 jlchang btl 1445278588 Apr  4 21:34 ENCFF357WIV.30000000.bam\n",
      "-rw-rw-r--+ 1 jlchang btl  234133627 Apr  4 21:36 ENCFF357WIV.4000000.bam\n",
      "-rw-rw-r--+ 1 jlchang btl    3138789 Apr  4 21:24 ENCFF357WIV.50000.bam\n",
      "-rw-rw-r--+ 1 jlchang btl   36297789 Apr  4 21:26 ENCFF357WIV.600000.bam\n"
     ]
    }
   ],
   "source": [
    "cd full_subsample3_analysisWctrl_GRCh38/Downsampling/bams\n",
    "ls -l"
   ]
  },
  {
   "cell_type": "code",
   "execution_count": 4,
   "metadata": {
    "collapsed": false
   },
   "outputs": [
    {
     "name": "stdout",
     "output_type": "stream",
     "text": [
      "# HOMER Peaks\n",
      "# Peak finding parameters:\n",
      "# tag directory = /btl/projects/ChIPseq/ENCODE/data/H3K27ac_adrenal/full_subsample3_analysisWctrl_GRCh38/Tags/ENCFF357WIV\n",
      "#\n",
      "# total peaks = 19243\n",
      "# peak size = 500\n",
      "# peaks found using tags on both strands\n",
      "# minimum distance between peaks = 1000\n",
      "# fragment length = 220\n",
      "# genome size = 2000000000\n",
      "# Total tags = 26653376.0\n",
      "# Total tags in peaks = 1700263.0\n",
      "# Approximate IP efficiency = 6.38%\n",
      "# tags per bp = 0.013327\n",
      "# expected tags per peak = 6.663\n",
      "# maximum tags considered per bp = 1.0\n",
      "# effective number of tags used for normalization = 10000000.0\n",
      "# Individual peaks have been stitched together into variable length regions\n",
      "# Poisson p-value threshold = 1.000000e-03\n",
      "# Poisson tag threshold = 17.0\n",
      "# number of putative peaks = 224191\n",
      "#\n",
      "# input tag directory = /btl/projects/ChIPseq/ENCODE/data/H3K27ac_adrenal/test_subsample_analysisWctrl_GRCh38/Tags/ENCFF159PLR\n",
      "# Fold over input required = 4.00\n",
      "# Poisson p-value over input required = 1.00e-04\n",
      "# Putative peaks filtered by input = 1535\n",
      "#\n",
      "# size of region used for local filtering = 10000\n",
      "# Fold over local region required = 4.00\n",
      "# Poisson p-value over local region required = 1.00e-04\n",
      "# Putative peaks filtered by local signal = 0\n",
      "#\n",
      "# Maximum fold under expected unique positions for tags = 2.00\n",
      "# Putative peaks filtered for being too clonal = 0\n",
      "#\n",
      "# cmd = findPeaks /btl/projects/ChIPseq/ENCODE/data/H3K27ac_adrenal/full_subsample3_analysisWctrl_GRCh38/Tags/ENCFF357WIV -style histone -o /btl/projects/ChIPseq/ENCODE/data/H3K27ac_adrenal/full_subsample3_analysisWctrl_GRCh38/Peaks/ENCFF357WIV.calls -i /btl/projects/ChIPseq/ENCODE/data/H3K27ac_adrenal/test_subsample_analysisWctrl_GRCh38/Tags/ENCFF159PLR\n",
      "#\n",
      "# Column Headers:\n",
      "#PeakID\tchr\tstart\tend\tstrand\tNormalized Tag Count\tregion size\tfindPeaks Score\tTotal Tags\tControl Tags (normalized to IP Experiment)\tFold Change vs Control\tp-value vs Control\tClonal Fold Change\n",
      "chr11-1802\tchr11\t65486775\t65503863\t+\t753.4\t17088.000\t48.000000\t2008.0\t248.9\t8.07\t0.00e+00\t0.96\n",
      "chr11-2132\tchr11\t65416489\t65430578\t+\t681.3\t14089.000\t44.000000\t1816.0\t212.8\t8.53\t0.00e+00\t0.92\n",
      "chr1-6964\tchr1\t234598797\t234614517\t+\t558.3\t15720.000\t33.000000\t1488.0\t198.3\t7.50\t0.00e+00\t0.96\n",
      "chr3-5875\tchr3\t187736019\t187747337\t+\t554.2\t11318.000\t26.000000\t1477.0\t148.2\t9.96\t0.00e+00\t0.93\n",
      "chr17-4578\tchr17\t2391843\t2402584\t+\t508.8\t10741.000\t31.000000\t1356.0\t147.7\t9.18\t0.00e+00\t0.93\n",
      "chr22-2897\tchr22\t46075654\t46091660\t+\t507.3\t16006.000\t26.000000\t1352.0\t227.9\t5.93\t0.00e+00\t0.98\n",
      "chr20-1691\tchr20\t47351368\t47361947\t+\t487.0\t10579.000\t35.000000\t1298.0\t166.8\t7.78\t0.00e+00\t0.95\n",
      "chr9-3105\tchr9\t129480613\t129490390\t+\t484.4\t9777.000\t31.000000\t1291.0\t127.2\t10.15\t0.00e+00\t0.98\n",
      "chr17-5510\tchr17\t8150555\t8159045\t+\t451.0\t8490.000\t28.000000\t1202.0\t113.7\t10.57\t0.00e+00\t0.91\n",
      "chr7-3982\tchr7\t5419139\t5430205\t+\t445.0\t11066.000\t27.000000\t1186.0\t118.7\t9.99\t0.00e+00\t0.92\n",
      "chr5-3738\tchr5\t172764736\t172774608\t+\t431.1\t9872.000\t30.000000\t1149.0\t150.2\t7.65\t0.00e+00\t0.93\n"
     ]
    }
   ],
   "source": [
    "cd ../../Peaks\n",
    "head -n 50 ENCFF357WIV.calls"
   ]
  },
  {
   "cell_type": "code",
   "execution_count": 5,
   "metadata": {
    "collapsed": false
   },
   "outputs": [
    {
     "name": "stdout",
     "output_type": "stream",
     "text": [
      "# HOMER Peaks\n",
      "# Peak finding parameters:\n",
      "# tag directory = /btl/projects/ChIPseq/ENCODE/data/H3K27ac_adrenal/full_subsample3_analysisWctrl_GRCh38/Downsampling/Tags/ENCFF357WIV.50000\n",
      "#\n",
      "# total peaks = 488\n",
      "# peak size = 500\n",
      "# peaks found using tags on both strands\n",
      "# minimum distance between peaks = 1000\n",
      "# fragment length = 1222\n",
      "# genome size = 2000000000\n",
      "# Total tags = 50033.0\n",
      "# Total tags in peaks = 996.0\n",
      "# Approximate IP efficiency = 1.99%\n",
      "# tags per bp = 0.000025\n",
      "# expected tags per peak = 0.013\n",
      "# maximum tags considered per bp = 1.0\n",
      "# effective number of tags used for normalization = 10000000.0\n",
      "# Individual peaks have been stitched together into variable length regions\n",
      "# Poisson p-value threshold = 1.000000e-03\n",
      "# Poisson tag threshold = 2.0\n",
      "# number of putative peaks = 639\n",
      "#\n",
      "# input tag directory = /btl/projects/ChIPseq/ENCODE/data/H3K27ac_adrenal/test_subsample_analysisWctrl_GRCh38/Tags/ENCFF159PLR\n",
      "# Fold over input required = 4.00\n",
      "# Poisson p-value over input required = 1.00e-04\n",
      "# Putative peaks filtered by input = 0\n",
      "#\n",
      "# size of region used for local filtering = 10000\n",
      "# Fold over local region required = 4.00\n",
      "# Poisson p-value over local region required = 1.00e-04\n",
      "# Putative peaks filtered by local signal = 0\n",
      "#\n",
      "# Maximum fold under expected unique positions for tags = 2.00\n",
      "# Putative peaks filtered for being too clonal = 0\n",
      "#\n",
      "# cmd = findPeaks /btl/projects/ChIPseq/ENCODE/data/H3K27ac_adrenal/full_subsample3_analysisWctrl_GRCh38/Downsampling/Tags/ENCFF357WIV.50000 -style histone -o /btl/projects/ChIPseq/ENCODE/data/H3K27ac_adrenal/full_subsample3_analysisWctrl_GRCh38/Downsampling/Peaks/ENCFF357WIV.50000.calls -i /btl/projects/ChIPseq/ENCODE/data/H3K27ac_adrenal/test_subsample_analysisWctrl_GRCh38/Tags/ENCFF159PLR\n",
      "#\n",
      "# Column Headers:\n",
      "#PeakID\tchr\tstart\tend\tstrand\tNormalized Tag Count\tregion size\tfindPeaks Score\tTotal Tags\tControl Tags (normalized to IP Experiment)\tFold Change vs Control\tp-value vs Control\tClonal Fold Change\n",
      "chr7-1\tchr7\t158818077\t158818577\t+\t799.5\t500.000\t4.000000\t4.0\t0.0\t283.67\t1.62e-09\t1.00\n"
     ]
    }
   ],
   "source": [
    "cd ../Downsampling/Peaks\n",
    "head -n 40 ENCFF357WIV.50000.calls"
   ]
  },
  {
   "cell_type": "code",
   "execution_count": 10,
   "metadata": {
    "collapsed": false
   },
   "outputs": [
    {
     "name": "stdout",
     "output_type": "stream",
     "text": [
      "ENCFF357WIV.100000.calls:# total peaks = 613\n",
      "ENCFF357WIV.11000000.calls:# total peaks = 18823\n",
      "ENCFF357WIV.1500000.calls:# total peaks = 5975\n",
      "ENCFF357WIV.250000.calls:# total peaks = 837\n",
      "ENCFF357WIV.4000000.calls:# total peaks = 11806\n",
      "ENCFF357WIV.50000.calls:# total peaks = 488\n",
      "ENCFF357WIV.600000.calls:# total peaks = 738\n"
     ]
    }
   ],
   "source": [
    "grep -e \"total peaks\" *.calls | sort -g\n"
   ]
  },
  {
   "cell_type": "code",
   "execution_count": 11,
   "metadata": {
    "collapsed": false
   },
   "outputs": [
    {
     "name": "stdout",
     "output_type": "stream",
     "text": [
      "ENCFF301TVL.100000.calls:# total peaks = 4178\n",
      "ENCFF301TVL.11000000.calls:# total peaks = 41863\n",
      "ENCFF301TVL.1500000.calls:# total peaks = 8167\n",
      "ENCFF301TVL.250000.calls:# total peaks = 8321\n",
      "ENCFF301TVL.30000000.calls:# total peaks = 37402\n",
      "ENCFF301TVL.4000000.calls:# total peaks = 28295\n",
      "ENCFF301TVL.50000.calls:# total peaks = 803\n",
      "ENCFF301TVL.600000.calls:# total peaks = 14455\n"
     ]
    }
   ],
   "source": [
    "cd ~/BTL/ChIPseq/ENCODE/data/H3K27ac_K562/full_subsample_analysisWctrl_GRCh38/Downsampling/Peaks\n",
    "grep -e \"total peaks\" *.calls | sort -g"
   ]
  },
  {
   "cell_type": "code",
   "execution_count": 12,
   "metadata": {
    "collapsed": false
   },
   "outputs": [
    {
     "name": "stdout",
     "output_type": "stream",
     "text": [
      "# total peaks = 37402\n"
     ]
    }
   ],
   "source": [
    "cd ../../Peaks\n",
    "grep \"total peaks\" *.calls\n"
   ]
  },
  {
   "cell_type": "markdown",
   "metadata": {},
   "source": [
    "put peak numbers into files"
   ]
  },
  {
   "cell_type": "code",
   "execution_count": 13,
   "metadata": {
    "collapsed": false
   },
   "outputs": [
    {
     "name": "stdout",
     "output_type": "stream",
     "text": [
      "bash: fg: %%python: no such job\n",
      "bash: fg: %matplotlib: no such job\n",
      "bash: import: command not found\n",
      "bash: syntax error near unexpected token `'/home/unix/jlchang/BTL/ChIPseq/ENCODE/jlcAnalysis/ENCODE_H3K27ac/adrenal','\n"
     ]
    },
    {
     "ename": "",
     "evalue": "2",
     "output_type": "error",
     "traceback": []
    }
   ],
   "source": [
    "%%python\n",
    "%matplotlib inline\n",
    "import pandas\n",
    "pd.read_csv('/home/unix/jlchang/BTL/ChIPseq/ENCODE/jlcAnalysis/ENCODE_H3K27ac/adrenal', header=None, delim_whitespace=True)"
   ]
  },
  {
   "cell_type": "code",
   "execution_count": 1,
   "metadata": {
    "collapsed": true
   },
   "outputs": [],
   "source": [
    "cd ~/BTL/ChIPseq/ENCODE/data/H3K27ac_K562"
   ]
  },
  {
   "cell_type": "code",
   "execution_count": 3,
   "metadata": {
    "collapsed": false
   },
   "outputs": [
    {
     "name": "stdout",
     "output_type": "stream",
     "text": [
      "Prepending: Samtools (ok)\n",
      "9761907 9761907 393119307 -\n"
     ]
    }
   ],
   "source": [
    "eval export DK_ROOT=\"/broad/software/dotkit\"; . /broad/software/dotkit/ksh/.dk_init ; use  Samtools\n",
    "samtools view -F 0x4 ENCFF301TVL.bam | cut -f 1 | sort | uniq | wc -"
   ]
  },
  {
   "cell_type": "raw",
   "metadata": {},
   "source": [
    "K562 sample read counts\n",
    "=======\n",
    "run from login host login03, jupyerhub host much slower\n",
    "cd ~/BTL/ChIPseq/ENCODE/data/H3K27ac_K562/full_subsample_analysisWctrl_GRCh38/Downsampling/bams\n",
    "\n",
    "samtools view -F 0x4 ../../../ENCFF301TVL.bam | cut -f 1 | sort | uniq | wc -\n",
    "9761907 9761907 393119307 -\n",
    "samtools view -F 0x4 ENCFF301TVL.30000000.bam | cut -f 1 | sort | uniq | wc -\n",
    "9761907 9761907 393119307 -\n",
    "samtools view -F 0x4 ENCFF301TVL.11000000.bam | cut -f 1 | sort | uniq | wc -\n",
    "9761907 9761907 393119307 -\n",
    "samtools view -F 0x4 ENCFF301TVL.4000000.bam | cut -f 1 | sort | uniq | wc -\n",
    "3999396 3999396 161043969 -\n",
    "samtools view -F 0x4 ENCFF301TVL.1500000.bam | cut -f 1 | sort | uniq | wc -\n",
    "[main_samview] truncated file.\n",
    " 463514  463514 18659832 -\n",
    "samtools view -F 0x4 ENCFF301TVL.250000.bam | cut -f 1 | sort | uniq | wc -\n",
    " 249818  249818 10064442 -\n",
    "samtools view -F 0x4 ENCFF301TVL.100000.bam | cut -f 1 | sort | uniq | wc -\n",
    "  99750   99750 4017906 -\n",
    "samtools view -F 0x4 ENCFF301TVL.50000.bam | cut -f 1 | sort | uniq | wc -\n",
    "[main_samview] truncated file.\n",
    "   9361    9361  376614 -\n",
    "\n",
    "+++"
   ]
  },
  {
   "cell_type": "raw",
   "metadata": {},
   "source": [
    "Adrenal sample read counts\n",
    "======\n",
    "samtools view -F 0x4 ENCFF357WIV.50000.bam | cut -f 1 | sort | uniq | wc -\n",
    "  50033   50033 2225911 -\n",
    "samtools view -F 0x4 ENCFF357WIV.100000.bam | cut -f 1 | sort | uniq | wc -\n",
    "  99757   99757 4438130 -\n",
    "samtools view -F 0x4 ENCFF357WIV.250000.bam | cut -f 1 | sort | uniq | wc -\n",
    " 249857  249857 11116264 -\n",
    "samtools view -F 0x4 ENCFF357WIV.1500000.bam | cut -f 1 | sort | uniq | wc -\n",
    "1499335 1499335 66707512 -\n",
    "samtools view -F 0x4 ENCFF357WIV.4000000.bam | cut -f 1 | sort | uniq | wc -\n",
    "4001358 4001358 178026727 -\n",
    "samtools view -F 0x4 ENCFF357WIV.11000000.bam | cut -f 1 | sort | uniq | wc -\n",
    "11000866 11000866 489441295 -\n",
    "samtools view -F 0x4 ENCFF357WIV.30000000.bam  | cut -f \n",
    "26653376 26653376 1185835432 -\n",
    "samtools view -F 0x4 ENCFF357WIV.bam  | cut -f 1 | sort | uniq | wc -\n",
    "26653376 26653376 1185835432 -\n"
   ]
  },
  {
   "cell_type": "code",
   "execution_count": null,
   "metadata": {
    "collapsed": true
   },
   "outputs": [],
   "source": []
  }
 ],
 "metadata": {
  "kernelspec": {
   "display_name": "Bash",
   "language": "bash",
   "name": "bash"
  },
  "language_info": {
   "codemirror_mode": "shell",
   "file_extension": ".sh",
   "mimetype": "text/x-sh",
   "name": "bash"
  }
 },
 "nbformat": 4,
 "nbformat_minor": 0
}
