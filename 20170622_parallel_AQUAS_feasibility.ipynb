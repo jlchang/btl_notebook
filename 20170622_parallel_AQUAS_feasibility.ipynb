{
 "cells": [
  {
   "cell_type": "raw",
   "metadata": {},
   "source": [
    "Run AQUAS in screen session per\n",
    "https://github.com/kundajelab/chipseq_pipeline#aquas-pipeline\n",
    "under Running pipelines with a cluster engine \n",
    "\n",
    "\n",
    "configuration in /cil/shed/apps/external/AQUAS/20170503_install/20170503_39a6383/chipseq_pipeline-master/default.env theorhetically ties login03 with UGER...\n",
    "\n",
    "This post https://groups.google.com/forum/#!searchin/bigdatascript-users/-no_par%7Csort:relevance/bigdatascript-users/VKWoMFaJ3fI/OsePH566AQAJ indicates BSL has issues with UGE\n",
    "may need to use \"system = generic\"\n",
    "python chipseq.py -system\n",
    "\n",
    "may need to run job on stout (because it is a UGER submit host but doesn't have memory limits or get reset like login03\n",
    "\n",
    "cd [WORK_DIR]\n",
    "use UGER\n",
    "python chipseq.py -screen [SCREEN_NAME] -q [SGE_QUEUE_OR_SLURM_PARTITION] -nth [MAX_NUM_THREAD_PER_PIPELINE] ...\n",
    "\n",
    "\n",
    "monitor your pipelines with screen -ls and tail -f [WORK_DIR]/[SCREEN_NAME].BSD.log"
   ]
  },
  {
   "cell_type": "markdown",
   "metadata": {},
   "source": [
    "# Possibly parallel AQUAS won't work because submitted AQUAS tasks will not have the correct job enviroment to run successfully\n",
    "I suspect we will have to run AQUAS either on a standalone machine or single core in UGER because bds will simple qsub the jobs and they will not inherit the parent job's complete environment"
   ]
  },
  {
   "cell_type": "markdown",
   "metadata": {},
   "source": [
    "# What if...\n",
    "in /cil/shed/apps/external/AQUAS/20170503_install/.bds/bds.config\n",
    "set clusterRunAdditionalArgs = -pe smp 2 \"source /broad/software/scripts/useuse && use -q group=btl && use -q .aquas-201706\"\n",
    "then could you... source /broad/software/scripts/useuse && use Samtools && samtools\n",
    "\n",
    "# NOPE - that needs to be prepended to the actually submitted command, it's not a qsub option to be added onto the qsub command line"
   ]
  },
  {
   "cell_type": "code",
   "execution_count": 1,
   "metadata": {},
   "outputs": [
    {
     "name": "stdout",
     "output_type": "stream",
     "text": [
      "Prepending: Samtools (ok)\n",
      "\n",
      "Program: samtools (Tools for alignments in the SAM format)\n",
      "Version: 1.3 (using htslib 1.3)\n",
      "\n",
      "Usage:   samtools <command> [options]\n",
      "\n",
      "Commands:\n",
      "  -- Indexing\n",
      "     dict           create a sequence dictionary file\n",
      "     faidx          index/extract FASTA\n",
      "     index          index alignment\n",
      "\n",
      "  -- Editing\n",
      "     calmd          recalculate MD/NM tags and '=' bases\n",
      "     fixmate        fix mate information\n",
      "     reheader       replace BAM header\n",
      "     rmdup          remove PCR duplicates\n",
      "     targetcut      cut fosmid regions (for fosmid pool only)\n",
      "     addreplacerg   adds or replaces RG tags\n",
      "\n",
      "  -- File operations\n",
      "     collate        shuffle and group alignments by name\n",
      "     cat            concatenate BAMs\n",
      "     merge          merge sorted alignments\n",
      "     mpileup        multi-way pileup\n",
      "     sort           sort alignment file\n",
      "     split          splits a file by read group\n",
      "     quickcheck     quickly check if SAM/BAM/CRAM file appears intact\n",
      "     fastq          converts a BAM to a FASTQ\n",
      "     fasta          converts a BAM to a FASTA\n",
      "\n",
      "  -- Statistics\n",
      "     bedcov         read depth per BED region\n",
      "     depth          compute the depth\n",
      "     flagstat       simple stats\n",
      "     idxstats       BAM index stats\n",
      "     phase          phase heterozygotes\n",
      "     stats          generate stats (former bamcheck)\n",
      "\n",
      "  -- Viewing\n",
      "     flags          explain BAM flags\n",
      "     tview          text alignment viewer\n",
      "     view           SAM<->BAM<->CRAM conversion\n",
      "     depad          convert padded BAM to unpadded BAM\n",
      "\n"
     ]
    },
    {
     "ename": "",
     "evalue": "1",
     "output_type": "error",
     "traceback": []
    }
   ],
   "source": [
    "source /broad/software/scripts/useuse && use Samtools && samtools\n"
   ]
  },
  {
   "cell_type": "code",
   "execution_count": null,
   "metadata": {
    "collapsed": true
   },
   "outputs": [],
   "source": [
    "m"
   ]
  }
 ],
 "metadata": {
  "kernelspec": {
   "display_name": "Bash",
   "language": "bash",
   "name": "bash"
  },
  "language_info": {
   "codemirror_mode": "shell",
   "file_extension": ".sh",
   "mimetype": "text/x-sh",
   "name": "bash"
  }
 },
 "nbformat": 4,
 "nbformat_minor": 2
}
