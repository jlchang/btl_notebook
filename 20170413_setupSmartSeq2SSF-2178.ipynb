{
 "cells": [
  {
   "cell_type": "markdown",
   "metadata": {},
   "source": [
    "Protocol reference: https://sites.google.com/a/broadinstitute.org/cil/documents/protocols/ssf_smartseq_analsis_sop"
   ]
  },
  {
   "cell_type": "markdown",
   "metadata": {},
   "source": [
    "Create SSF directory and analysis subdir in /btl/projects/SSF/SmartSeq2"
   ]
  },
  {
   "cell_type": "code",
   "execution_count": 5,
   "metadata": {
    "collapsed": false
   },
   "outputs": [],
   "source": [
    "mkdir -p /btl/projects/SSF/SmartSeq2/SSF-2178/SSF-2178_SmartSeqAnalysisV1.1_1"
   ]
  },
  {
   "cell_type": "code",
   "execution_count": 6,
   "metadata": {
    "collapsed": true
   },
   "outputs": [],
   "source": [
    "cp /cil/shed/apps/internal/wdl/smartseq-1.0/smartseq_wdl /btl/projects/SSF/SmartSeq2/SSF-2178/"
   ]
  },
  {
   "cell_type": "markdown",
   "metadata": {},
   "source": [
    "create input_data.tsv from walkup spreadsheet in JIRA\n",
    " - obtain sample name barcode 1&2 from walkup spreadsheet\n",
    " - determine organism from Analysis tab (or plating spreadsheet if multiple organisms)\n",
    " - take Output Data Path from Analysis tab and expand in Unix to include barcode and run folder\n",
    " \n",
    "I prefer to copy the cells from Excel and paste into VI to have correct line endings (use ```cat -vet``` to check)"
   ]
  },
  {
   "cell_type": "markdown",
   "metadata": {},
   "source": [
    "copy input.json from another SS2 workflow and edit \n",
    "~/BTL/nb/scripts/SmartSeq2/SS2json.sh: script to generate json\n",
    " - script inputs\n",
    "   - SSF#\n",
    "   - analysis iteration\n",
    "created test.txt (was more correct than manually adjusted input.json file) yay!"
   ]
  },
  {
   "cell_type": "code",
   "execution_count": 8,
   "metadata": {
    "collapsed": false
   },
   "outputs": [],
   "source": [
    "cp /btl/projects/SSF/SmartSeq2/SSF-2297/input.json /btl/projects/SSF/SmartSeq2/SSF-2178"
   ]
  },
  {
   "cell_type": "markdown",
   "metadata": {},
   "source": [
    "Start analysis in Swagger (mount /broad/projects on laptop for this), capture Workflow ID in workflow_ID file in analysis directory"
   ]
  },
  {
   "cell_type": "code",
   "execution_count": null,
   "metadata": {
    "collapsed": true
   },
   "outputs": [],
   "source": []
  }
 ],
 "metadata": {
  "kernelspec": {
   "display_name": "Bash",
   "language": "bash",
   "name": "bash"
  },
  "language_info": {
   "codemirror_mode": "shell",
   "file_extension": ".sh",
   "mimetype": "text/x-sh",
   "name": "bash"
  }
 },
 "nbformat": 4,
 "nbformat_minor": 0
}
