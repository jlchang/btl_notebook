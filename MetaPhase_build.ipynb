{
 "cells": [
  {
   "cell_type": "markdown",
   "metadata": {},
   "source": [
    "LinkMatrix.cc:13:21: fatal error: TimeMem.h: No such file or directory\n",
    "TimeMem.h can be found in the LACHESIS distro, just need to make the MetaPhase build find it. **copied the LACHESIS include directory (has TimeMem.h) into MetaPhase-54dff0c245028391a2b9819a2ef2717769de15b5**\n"
   ]
  },
  {
   "cell_type": "raw",
   "metadata": {},
   "source": [
    "use .boost-1.47.0 (oldest boost, use with oldest gcc)\n",
    "use .gcc-4.5.3\n",
    "use .samtools-0.1.18 "
   ]
  },
  {
   "cell_type": "raw",
   "metadata": {},
   "source": [
    "Original Makefile\n",
    "INCLUDE_DIR=$(HOME)/include\n",
    "EXTERN_DIR=/net/shendure/vol10/jnburton/extern\n",
    "BOOST_DIR=$(EXTERN_DIR)/boost_1_47_0\n",
    "SAMTOOLS_DIR=$(EXTERN_DIR)/samtools-0.1.16\n",
    "INCLUDES=-I$(INCLUDE_DIR) -I$(SAMTOOLS_DIR)\n",
    "BOOST_LIBS=-L$(BOOST_DIR)/stage/lib -lboost_filesystem #-lboost_system #-lboost_regexr"
   ]
  },
  {
   "cell_type": "raw",
   "metadata": {},
   "source": [
    "Changes that work for the first task (TextFileParsers) in the build:\n",
    "#EXTERN_DIR=/net/shendure/vol10/jnburton/extern\n",
    "INCLUDE_DIR=/btl/projects/advancedlibraryprep/bin/MetaPhase/MetaPhase-54dff0c245028391a2b9819a2ef2717769de15b5/src/include\n",
    "BOOST_DIR=/broad/software/free/Linux/redhat_6_x86_64/pkgs/boost_1.47.0\n",
    "SAMTOOLS_DIR=/broad/software/free/Linux/redhat_6_x86_64/pkgs/samtools/samtools_0.1.18\n",
    "INCLUDES=-I$(INCLUDE_DIR) -I$(SAMTOOLS_DIR) \n"
   ]
  },
  {
   "cell_type": "markdown",
   "metadata": {},
   "source": [
    "MetaAssembly.cc:7:52: fatal error: DensityClustering.h: No such file or directory\n",
    "compilation terminated.\n",
    "make: *** [MetaAssembly.o] Error 1"
   ]
  },
  {
   "cell_type": "markdown",
   "metadata": {},
   "source": [
    "can't find DensityClustering.h in the https://github.com/shendurelab repo"
   ]
  }
 ],
 "metadata": {
  "kernelspec": {
   "display_name": "Bash",
   "language": "bash",
   "name": "bash"
  },
  "language_info": {
   "codemirror_mode": "shell",
   "file_extension": ".sh",
   "mimetype": "text/x-sh",
   "name": "bash"
  }
 },
 "nbformat": 4,
 "nbformat_minor": 1
}
