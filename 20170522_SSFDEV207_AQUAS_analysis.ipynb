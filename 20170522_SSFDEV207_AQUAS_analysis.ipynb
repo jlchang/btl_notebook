{
 "cells": [
  {
   "cell_type": "raw",
   "metadata": {},
   "source": [
    "Data location: \t/btl/data/walkup/ChIPSeq/SSFDEV-207/data\n",
    "access software through dotkit\n",
    "    use group=btl\n",
    "    use .aquas-201705\n",
    "software location: /cil/shed/apps/external/AQUAS/20170503_install/20170503_39a6383/chipseq_pipeline-master\n"
   ]
  }
 ],
 "metadata": {
  "kernelspec": {
   "display_name": "Bash",
   "language": "bash",
   "name": "bash"
  },
  "language_info": {
   "codemirror_mode": "shell",
   "file_extension": ".sh",
   "mimetype": "text/x-sh",
   "name": "bash"
  }
 },
 "nbformat": 4,
 "nbformat_minor": 0
}
