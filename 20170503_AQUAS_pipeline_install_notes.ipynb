{
 "cells": [
  {
   "cell_type": "raw",
   "metadata": {},
   "source": [
    "AQUAS - required software\n",
    "\n",
    "Java - use .java-jdk-1.8.0_121-x86-64 (aka Java-1.8 as of 20170503)\n",
    "Conda - make our own miniconda install in /cil/shed/apps/external/AQUAS/conda\n",
    "BigDataScript - requires download, add to path, possibly java option settings\n",
    "AQUAS Pipeline - git clone\n",
    "Dependencies - creates two conda environments by running install_dependencies.sh\n",
    "Genome data - install genome data (download will take time) by running install_genome_data.sh"
   ]
  },
  {
   "cell_type": "raw",
   "metadata": {},
   "source": [
    "putting pieces in /cil/shed/apps/external/AQUAS/20170503_install\n",
    "downloaded AQUAS pipeline and BigDataScript"
   ]
  },
  {
   "cell_type": "raw",
   "metadata": {},
   "source": [
    "Conda practice"
   ]
  },
  {
   "cell_type": "code",
   "execution_count": 1,
   "metadata": {
    "collapsed": false
   },
   "outputs": [
    {
     "name": "stdout",
     "output_type": "stream",
     "text": [
      "/broad/software/free/Linux/redhat_6_x86_64/pkgs/anaconda3_4.0.0/bin/conda\n"
     ]
    }
   ],
   "source": [
    "which conda"
   ]
  },
  {
   "cell_type": "code",
   "execution_count": 2,
   "metadata": {
    "collapsed": false
   },
   "outputs": [
    {
     "name": "stdout",
     "output_type": "stream",
     "text": [
      "# packages in environment at /broad/software/free/Linux/redhat_6_x86_64/pkgs/anaconda3_4.0.0:\n",
      "#\n",
      "alabaster                 0.7.7                    py35_0  \n",
      "anaconda                  custom                   py35_0  \n",
      "anaconda-client           1.4.0                    py35_0  \n",
      "anaconda-navigator        1.1.0                    py35_0  \n",
      "argcomplete               1.0.0                    py35_1  \n",
      "astropy                   1.1.2               np111py35_0  \n",
      "babel                     2.2.0                    py35_0  \n",
      "bash_kernel               0.6                       <pip>\n",
      "beautifulsoup4            4.4.1                    py35_0  \n",
      "bitarray                  0.8.1                    py35_0  \n",
      "blaze                     0.9.1                    py35_0  \n",
      "bokeh                     0.11.1                   py35_0  \n",
      "boto                      2.40.0                   py35_0  \n",
      "bottleneck                1.0.0               np111py35_0  \n",
      "cffi                      1.5.2                    py35_0  \n",
      "chest                     0.2.3                    py35_0  \n",
      "cloudpickle               0.1.1                    py35_0  \n",
      "clyent                    1.2.1                    py35_0  \n",
      "colorama                  0.3.7                    py35_0  \n",
      "conda                     4.3.13                   py35_0  \n",
      "conda-build               1.20.0                   py35_0  \n",
      "conda-env                 2.6.0                         0  \n",
      "conda-manager             0.3.1                    py35_0  \n",
      "configobj                 5.0.6                    py35_0  \n",
      "cryptography              1.7.1                    py35_0  \n",
      "curl                      7.45.0                        0  \n",
      "cycler                    0.10.0                   py35_0  \n",
      "cython                    0.23.4                   py35_0  \n",
      "cytoolz                   0.7.5                    py35_0  \n",
      "dask                      0.8.1                    py35_0  \n",
      "datashape                 0.5.1                    py35_0  \n",
      "decorator                 4.0.9                    py35_0  \n",
      "decorator                 4.0.10                    <pip>\n",
      "dill                      0.2.4                    py35_0  \n",
      "docutils                  0.12                     py35_0  \n",
      "dynd-python               0.7.2                    py35_0  \n",
      "et_xmlfile                1.0.1                    py35_0  \n",
      "fastcache                 1.0.2                    py35_0  \n",
      "filechunkio               1.6                      py35_0    bioconda\n",
      "flask                     0.10.1                   py35_1  \n",
      "flask-cors                2.1.2                    py35_0  \n",
      "fontconfig                2.11.1                        5  \n",
      "freetype                  2.5.5                         0  \n",
      "gevent                    1.1.0                    py35_0  \n",
      "google-api-python-client  1.5.5                     <pip>\n",
      "greenlet                  0.4.9                    py35_0  \n",
      "h5py                      2.6.0               np111py35_1  \n",
      "hdf5                      1.8.16                        0  \n",
      "heapdict                  1.0.0                    py35_0  \n",
      "httplib2                  0.9.2                     <pip>\n",
      "idna                      2.0                      py35_0  \n",
      "ipykernel                 4.3.1                    py35_0  \n",
      "ipython                   4.1.2                    py35_1  \n",
      "ipython_genutils          0.1.0                    py35_0  \n",
      "ipywidgets                4.1.1                    py35_0  \n",
      "itsdangerous              0.24                     py35_0  \n",
      "jbig                      2.1                           0  \n",
      "jdcal                     1.2                      py35_0  \n",
      "jedi                      0.9.0                    py35_0  \n",
      "jinja2                    2.8                      py35_0  \n",
      "jpeg                      8d                            0  \n",
      "jsonschema                2.4.0                    py35_0  \n",
      "jupyter                   1.0.0                    py35_2  \n",
      "jupyter_client            4.2.2                    py35_0  \n",
      "jupyter_console           4.1.1                    py35_0  \n",
      "jupyter_core              4.1.0                    py35_0  \n",
      "jupyterhub                0.6.1                     <pip>\n",
      "libdynd                   0.7.2                         0  \n",
      "libffi                    3.0.13                        0  \n",
      "libgfortran               3.0.0                         1  \n",
      "libpng                    1.6.17                        0  \n",
      "libsodium                 1.0.3                         0  \n",
      "libtiff                   4.0.6                         2  \n",
      "libxml2                   2.9.2                         0  \n",
      "libxslt                   1.1.28                        0  \n",
      "llvmlite                  0.11.0                   py35_0  \n",
      "locket                    0.2.0                    py35_0  \n",
      "lxml                      3.6.0                    py35_0  \n",
      "markupsafe                0.23                     py35_0  \n",
      "matplotlib                1.5.1               np111py35_0  \n",
      "mistune                   0.7.2                    py35_0  \n",
      "mkl                       11.3.3                        0  \n",
      "mkl-service               1.1.2                    py35_1  \n",
      "mpmath                    0.19                     py35_0  \n",
      "multipledispatch          0.4.8                    py35_0  \n",
      "mysql                     5.5.24                        0  \n",
      "mysql-connector-python    2.0.4                    py35_0  \n",
      "nbconvert                 4.1.0                    py35_0  \n",
      "nbformat                  4.0.1                    py35_0  \n",
      "networkx                  1.11                     py35_0  \n",
      "nltk                      3.2                      py35_0  \n",
      "nose                      1.3.7                    py35_0  \n",
      "notebook                  4.2.0                    py35_0  \n",
      "numba                     0.26.0              np111py35_0  \n",
      "numexpr                   2.5.2               np111py35_1  \n",
      "numpy                     1.11.0                   py35_1  \n",
      "oauth2client              4.0.0                     <pip>\n",
      "odo                       0.4.2                    py35_0  \n",
      "openpyxl                  2.3.2                    py35_0  \n",
      "openssl                   1.0.2g                        0  \n",
      "pamela                    0.2.1                     <pip>\n",
      "pandas                    0.18.0              np111py35_0  \n",
      "partd                     0.3.2                    py35_1  \n",
      "patchelf                  0.8                           0  \n",
      "path.py                   8.1.2                    py35_1  \n",
      "patsy                     0.4.1                    py35_0  \n",
      "pep8                      1.7.0                    py35_0  \n",
      "pexpect                   4.0.1                    py35_0  \n",
      "pickleshare               0.5                      py35_0  \n",
      "pillow                    3.1.1                    py35_0  \n",
      "pip                       8.1.1                    py35_1  \n",
      "pip                       9.0.1                     <pip>\n",
      "ply                       3.8                      py35_0  \n",
      "psutil                    4.1.0                    py35_0  \n",
      "ptyprocess                0.5                      py35_0  \n",
      "py                        1.4.31                   py35_0  \n",
      "pyasn1                    0.1.9                    py35_0  \n",
      "pyasn1-modules            0.0.8                     <pip>\n",
      "pycosat                   0.6.1                    py35_0  \n",
      "pycparser                 2.14                     py35_0  \n",
      "pycrypto                  2.6.1                    py35_0  \n",
      "pycurl                    7.19.5.3                 py35_0  \n",
      "pyflakes                  1.1.0                    py35_0  \n",
      "pygments                  2.1.1                    py35_0  \n",
      "pyopenssl                 16.2.0                   py35_0  \n",
      "pyparsing                 2.0.3                    py35_0  \n",
      "pyqt                      4.11.4                   py35_1  \n",
      "pytables                  3.2.2               np111py35_3  \n",
      "pytest                    2.8.5                    py35_0  \n",
      "python                    3.5.1                         5  \n",
      "python-dateutil           2.5.1                    py35_0  \n",
      "pytz                      2016.2                   py35_0  \n",
      "pyvcf                     0.6.8                    py35_0    bioconda\n",
      "pyyaml                    3.11                     py35_1  \n",
      "pyzmq                     15.2.0                   py35_0  \n",
      "qt                        4.8.7                         1  \n",
      "qtawesome                 0.3.2                    py35_0  \n",
      "qtconsole                 4.2.0                    py35_0  \n",
      "qtpy                      1.0                      py35_0  \n",
      "readline                  6.2                           2  \n",
      "redis                     2.6.9                         0  \n",
      "redis-py                  2.10.3                   py35_0  \n",
      "requests                  2.11.1                    <pip>\n",
      "requests                  2.12.4                   py35_0  \n",
      "rope                      0.9.4                    py35_1  \n",
      "rsa                       3.4.2                     <pip>\n",
      "ruamel_yaml               0.11.14                  py35_0  \n",
      "scikit-image              0.12.3              np111py35_0  \n",
      "scikit-learn              0.17.1              np111py35_1  \n",
      "scipy                     0.17.1              np111py35_1  \n",
      "setuptools                27.2.0                   py35_0  \n",
      "simplegeneric             0.8.1                    py35_0  \n",
      "singledispatch            3.4.0.3                  py35_0  \n",
      "sip                       4.16.9                   py35_0  \n",
      "six                       1.10.0                   py35_0  \n",
      "snowballstemmer           1.2.1                    py35_0  \n",
      "sockjs-tornado            1.0.1                    py35_0  \n",
      "sphinx                    1.3.5                    py35_0  \n",
      "sphinx_rtd_theme          0.1.9                    py35_0  \n",
      "spyder                    2.3.8                    py35_1  \n",
      "SQLAlchemy                1.0.15                    <pip>\n",
      "sqlalchemy                1.0.12                   py35_0  \n",
      "sqlite                    3.13.0                        0  \n",
      "statsmodels               0.6.1               np111py35_0  \n",
      "sympy                     1.0                      py35_0  \n",
      "terminado                 0.5                      py35_1  \n",
      "tk                        8.5.18                        0  \n",
      "toolz                     0.7.4                    py35_0  \n",
      "tornado                   4.4.1                     <pip>\n",
      "tornado                   4.3                      py35_0  \n",
      "traitlets                 4.2.1                    py35_0  \n",
      "traitlets                 4.3.0                     <pip>\n",
      "unicodecsv                0.14.1                   py35_0  \n",
      "uritemplate               3.0.0                     <pip>\n",
      "util-linux                2.21                          0  \n",
      "werkzeug                  0.11.4                   py35_0  \n",
      "wheel                     0.29.0                   py35_0  \n",
      "xlrd                      0.9.4                    py35_0  \n",
      "xlsxwriter                0.8.4                    py35_0  \n",
      "xlwt                      1.0.0                    py35_0  \n",
      "xz                        5.2.2                         0  \n",
      "yaml                      0.1.6                         0  \n",
      "zeromq                    4.1.3                         0  \n",
      "zlib                      1.2.8                         0  \n"
     ]
    }
   ],
   "source": [
    "conda list"
   ]
  },
  {
   "cell_type": "code",
   "execution_count": 3,
   "metadata": {
    "collapsed": false
   },
   "outputs": [
    {
     "name": "stdout",
     "output_type": "stream",
     "text": [
      "# conda environments:\n",
      "#\n",
      "root                  *  /broad/software/free/Linux/redhat_6_x86_64/pkgs/anaconda3_4.0.0\n",
      "\n"
     ]
    }
   ],
   "source": [
    "conda env list"
   ]
  },
  {
   "cell_type": "raw",
   "metadata": {},
   "source": [
    "Should we use a BITS conda dotkit or install our own miniconda?"
   ]
  },
  {
   "cell_type": "raw",
   "metadata": {},
   "source": [
    "conda for the current JupyterHub is not a dotkit (seemed unwise to be tied to an install on a single host)\n",
    "decided to install miniconda as per github instructions\n",
    "installed into /cil/shed/apps/external/AQUAS/conda\n",
    "bash 20170503_install/Miniconda3-latest-Linux-x86_64.sh -p /cil/shed/apps/external/AQUAS/conda\n",
    "\n",
    "will want to Prepend PATH=/cil/shed/apps/external/AQUAS/conda/bin to PATH using AQUAS dotkit\n",
    "Conda added the following to .bashrc (which I've now removed)\n",
    "# added by Miniconda3 4.3.11 installer\n",
    "export PATH=\"/cil/shed/apps/external/AQUAS/conda/bin:$PATH\"\n",
    "\n",
    "modify install_dependencies.sh to set $HOME=/cil/shed/apps/external/AQUAS/20170503_install for tools for bds\n",
    "creates in /home/unix/jlchang\n",
    ".continuum (looks empty)\n",
    ".conda (has environments.txt that has the path to the two created environments)\n",
    "InstallShield (not sure if it came from the install but datestamp coincident with .conda install)\n",
    "\n",
    "installing genome data in /cil/shed/apps/external/AQUAS/genome_data using install_genome_data.sh\n",
    "script pulls data from:\n",
    "https://download.encodeproject.org/http://encode-files.s3.amazonaws.com/2015/12/03/a7fea375-057d-4cdc-8ccd-0b0f930823df/GRCh38_no_alt_analysis_set_GCA_000001405.15.fasta.gz\n",
    "GRCh38_no_alt_analysis_set_GCA_000001405.15.fasta.gz\n",
    "and downloaded other files from http://mitra.stanford.edu/kundaje/genome_data/hg38/\n",
    "\n",
    "configure bds for GE8\n",
    "edited .bds/bds.config (applied Broad's standard smp parallel environment)\n",
    "also made UGES version (difference in memory resource name, h_vmem instead of virtual_free)"
   ]
  },
  {
   "cell_type": "raw",
   "metadata": {},
   "source": [
    "ZhiZhuo recommends processing GTEX_13O61_5001_HYYV7BGXY == barcode TCTGGCGA\n",
    "need to merge \n",
    "/btl/data/walkup/SMART-Seq/SSF-2059/data/HYYV7BGXY/C1-83_2016-12-08_2016-12-08/1/HYYV7BGXY.[1234].TCTGGCGA.unmapped.1.fastq.gz\n",
    "created merged, unmapped fastqs in /btl/projects/ChIPseq/aquas/SSF-2059\n",
    "cat /btl/data/walkup/SMART-Seq/SSF-2059/data/HY<CTGGCGA.unmapped.1.fastq.gz > GTEX_13O61_5001_HYYV7BGXY.unmapped.1.fastq.gz\n"
   ]
  },
  {
   "cell_type": "raw",
   "metadata": {},
   "source": [
    "cd /cil/shed/apps/external/AQUAS/20170503_install/20170503_39a6383/chipseq_pipeline-master\n",
    "use group=btl\n",
    "use .aquas-201705\n",
    "use GridEngine8\n",
    "python chipseq.py /btl/projects/ChIPseq/aquas/SSF-2059/aquastest1-GE8 "
   ]
  },
  {
   "cell_type": "raw",
   "metadata": {},
   "source": [
    "contents of aquastest1-GE8:\n",
    "# CONF_JSON_FILE (can work without group hierachy)\n",
    "{\n",
    "  \"type\" : \"histone\",\n",
    "  \"final_stage\" : \"idr\"\n",
    "  \"fastq1\" : \"/btl/projects/ChIPseq/aquas/SSF-2059/GTEX_13O61_5001_HYYV7BGXY.unmapped.1.fastq.gz\",\n",
    "  \"fastq2\" : \"/btl/projects/ChIPseq/aquas/SSF-2059/GTEX_13O61_5001_HYYV7BGXY.unmapped.2.fastq.gz\",\n",
    "  \"species\" : \"hg38\",\n",
    "  \"out_dir\" : \"/btl/projects/ChIPseq/aquas/SSF-2059/aquastest1\"\n",
    "  \"cluster\" : {\n",
    "\t\t\"use_system\" : \"sge\",\n",
    "\t\t\"nice\" : 0,\n",
    "\t\t\"retrial\" : 0,\n",
    "\t\t\"q\" : \"gaag\"\n",
    "\t},\n",
    "  \"nth\" : 2\n",
    "}"
   ]
  },
  {
   "cell_type": "raw",
   "metadata": {},
   "source": [
    "JSON parser doen't like \t\t\"use_system\" : \"sge\",\n",
    "delete entire cluster directive in json and provide on command line\n",
    "python chipseq.py /btl/projects/ChIPseq/aquas/SSF-2059/aquastest2 -system sge -q gaag\n",
    "Fatal error: modules/align_bwa.bds, line 111, pos 9. Missing config file entry 'sge.pe'."
   ]
  },
  {
   "cell_type": "raw",
   "metadata": {},
   "source": [
    "try running locally on lager?\n",
    "on lager\n",
    "cd /cil/shed/apps/external/AQUAS/20170503_install/20170503_39a6383/chipseq_pipeline-master\n",
    "use group=btl\n",
    "use .aquas-201705\n",
    "python chipseq.py /btl/projects/ChIPseq/aquas/SSF-2059/aquastest3\n",
    "gets past bwa sge.pe error\n",
    "\n",
    "failed on a task (task.callpeak_macs2_chipseq.macs2_g_b_pooled_rep, previous MACS2 peak calling tasks were successful). The error was an odd python error about the egg cache:\n",
    "\tStdErr (10 lines)  :\n",
    "\t\t  [Errno 17] File exists: '/home/unix/jlchang/.cache/Python-Eggs'\n",
    "\n",
    "\t\tThe Python egg cache directory is currently set to:\n",
    "\n",
    "\t\t  /home/unix/jlchang/.cache/Python-Eggs\n",
    "\n",
    "\t\tPerhaps your account does not have write access to this directory?  You can\n",
    "\t\tchange the cache directory by setting the PYTHON_EGG_CACHE environment\n",
    "\t\tvariable to point to an accessible directory.\n",
    "\n",
    "_______________\n",
    "\n",
    "I have access to the directory and it should be writable by me so I don't know why I hit that error???\n",
    "\n",
    "Also, leaves output files in /cil/shed/apps/external/AQUAS/20170503_install/20170503_39a6383/chipseq_pipeline-master"
   ]
  },
  {
   "cell_type": "raw",
   "metadata": {},
   "source": [
    "cd /btl/projects/ChIPseq/aquas/SSF-2059\n",
    "use group=btl\n",
    "use .aquas-201705\n",
    "reuse MACS2\n",
    "\n",
    "example from zhizhuo: bds chipseq.bds -type histone -species hg19 -pe -bam $< -out_dir ~/hptmp/egtex_chipseq_combinelanes/nick24pilot_$*/ \n",
    "\n",
    "Tried:\n",
    "bds chipseq.bds -type histone -species hg38 -pe -fastq $< -out_dir /btl/projects/ChIPseq/aquas/SSF-2059/aquastest4dir\n",
    "did not work, incorrect syntax\n",
    "\n",
    "There is a chipseq.bds file in /cil/shed/apps/external/AQUAS/20170503_install/20170503_39a6383/chipseq_pipeline-master\n",
    "cd /btl/projects/ChIPseq/aquas/SSF-2059\n",
    "try:\n",
    "bds /cil/shed/apps/external/AQUAS/20170503_install/20170503_39a6383/chipseq_pipeline-master/chipseq.bds -type histone -species hg38 -pe -bam $< -out_dir /btl/projects/ChIPseq/aquas/SSF-2059/aquastest4dir\n",
    "\n",
    "didn't like output_dir (no such file or directory even after I created it)\n",
    "\n"
   ]
  },
  {
   "cell_type": "raw",
   "metadata": {},
   "source": [
    "cd /btl/projects/ChIPseq/aquas/SSF-2059\n",
    "use group=btl\n",
    "use .aquas-201705\n",
    "\n",
    "source activate aquas_chipseq_py3\n",
    "reuse MACS2\n",
    "\n",
    "bds /cil/shed/apps/external/AQUAS/20170503_install/20170503_39a6383/chipseq_pipeline-master/chipseq.bds -type histone -species hg38 -pe -tag1 aquastest3dir/align/rep1/GTEX_13O61_5001_HYYV7BGXY.unmapped.1.nodup.tagAlign.gz -tag2 aquastest3dir/align/rep2/GTEX_13O61_5001_HYYV7BGXY.unmapped.2.nodup.tagAlign.gz > restart_aquastest3_perZhiZhuo.txt\n",
    "\n",
    "== checking chipseq parameters ...\n",
    "Warning: PE tagaligns cannot be subsampled for cross-corr. analysis.\n",
    "\n",
    "***restarted to capture stdout to file***\n",
    "use 11.7G"
   ]
  },
  {
   "cell_type": "raw",
   "metadata": {},
   "source": [
    "(Trying new dotkit - will it recapitulate aquastest3, will it succeed where previous run failed? Did I fail to source activate last time?)\n",
    "\n",
    "add to dotkit:\n",
    "source activate aquas_chipseq_py3 #trying dk_source\n",
    "reuse MACS2 #try dk_op\n",
    "\n",
    "run under screen (session name aquas) on lager\n",
    "\n",
    "cd /btl/projects/ChIPseq/aquas/SSF-2059\n",
    "use group=btl\n",
    "use .aquas-201706\n",
    "\n",
    "python /cil/shed/apps/external/AQUAS/20170503_install/20170503_39a6383/chipseq_pipeline-master/chipseq.py /btl/projects/ChIPseq/aquas/SSF-2059/aquastest5 2> aquatest5_stderr.log 1> aquastest5.log\n",
    "\n",
    "started 3:05pm on 5/22, check hpcstats for memory usage"
   ]
  },
  {
   "cell_type": "raw",
   "metadata": {},
   "source": [
    "BDS is a task manager and it will automatically submit(qsub/sbatch) and manage its sub tasks.\n",
    "python chipseq.py -system [CLUSTER_ENGINE] -q [QUEUE_NAME]"
   ]
  }
 ],
 "metadata": {
  "kernelspec": {
   "display_name": "Bash",
   "language": "bash",
   "name": "bash"
  },
  "language_info": {
   "codemirror_mode": "shell",
   "file_extension": ".sh",
   "mimetype": "text/x-sh",
   "name": "bash"
  }
 },
 "nbformat": 4,
 "nbformat_minor": 0
}
