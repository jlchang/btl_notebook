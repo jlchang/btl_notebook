{
 "cells": [
  {
   "cell_type": "markdown",
   "metadata": {},
   "source": [
    "GOAL - How much sequencing is needed to determine if a lab experiment \"worked\"\n",
    "\n",
    "- [ ] subgoal 1 - what does a successful experiment look like (vs a failed experiment)\n",
    "    * obtain data for a \"successful\" experiment\n",
    "    * obtain data for a \"failed\" experiment (using the same antibody and cell type?)\n",
    "    * Look for data in epigenomics portal (use Safari, allow Java etc)\n",
    "        https://intranet.broadinstitute.org/cgi-bin/epigenomics/private/prod/cloneportal.cgi\n",
    "    * (setup info for portal https://mail.google.com/mail/u/0/?ui=2&ik=2697a020ca&view=om&th=15a8b7de6fae67a6)\n",
    "- [ ] subgoal 2 - what metric(s) can be used to measure success? (overlap of peaks? SPOT score?)\n",
    "- [ ] subgoal 2 - how much sequence is needed to distiguish \"successful\" fro \"failed\"\n",
    "---"
   ]
  },
  {
   "cell_type": "markdown",
   "metadata": {},
   "source": [
    " * ENCODE data used: \n",
    "     * Alignment genome - GRCH38, /seq/references/Homo_sapiens_assembly38\n",
    "     * Peak caller - MACS2\n",
    "\n",
    " * Our analysis process:\n",
    "     * Peak caller - Homer4.7\n",
    "     * subsample tool - Michele's (Does it matter if I use Michele's or picard?)\n",
    "\n",
    " * BTL data SSF-1417:\n",
    "     * Alignment genome - \n",
    "     \n",
    "***"
   ]
  },
  {
   "cell_type": "markdown",
   "metadata": {},
   "source": [
    "+ have peaks for two sets of ENCODE data, adrenal and K562  \n",
    "\n",
    "    + If I downsample adrenal and compare to full sample adrenal, how many peaks do I lose?\n",
    "    + If I compare K562 to full sample adrenal, what happens to peak overlap?\n",
    "    + If I downsample K562 and compare to full K562 or full adrenal - what do I see?"
   ]
  },
  {
   "cell_type": "markdown",
   "metadata": {},
   "source": [
    "- [ ] Code task:\n",
    " * modify Michele's script to downsample particular target read levels instead of her downsampling strategy\n",
    " * assume 20M aligned reads is whole data set\n"
   ]
  },
  {
   "cell_type": "markdown",
   "metadata": {},
   "source": [
    "To run Michele's pipeline in UGER, will created downsampled output\n",
    "\n",
    "EXAMPLE:\n",
    "\n",
    "in /cil/shed/apps/internal/SSF/ChipSeq\n",
    "in screen session on stout\n",
    "use UGER\n",
    "\n",
    "cd /cil/shed/apps/internal/SSF/ChipSeq\n",
    "\n",
    "sh ChipSeqProcessAllBamsInDirectory.sh /btl/projects/ChIPseq/ENCODE/data/H3K27ac_adrenal /btl/projects/ChIPseq/ENCODE/data/H3K27ac_adrenal/UGER_analysisWctrl_GRCh38 /btl/projects/ChIPseq/ENCODE/data/H3K27ac_adrenal/ENCFF159PLR.bam histone /seq/references/Homo_sapiens_assembly38/v0/Homo_sapiens_assembly38.fasta TRUE long /cil/shed/apps/internal/SSF/ChipSeq\n"
   ]
  },
  {
   "cell_type": "markdown",
   "metadata": {},
   "source": [
    "Prepending: .homer-4.7 (ok)\n",
    "Prepending: .bedtools-2.17.0 (ok)\n",
    "Prepending: igvtools_2.3\n",
    "  Prepending: .oracle-java-jdk-1.6.0-26-x86-64 (ok) (ok)\n",
    "Prepending: .samtools-0.1.18 (ok)\n",
    "Prepending: UGER (already loaded)\n",
    "INPUT_DIR /btl/projects/ChIPseq/ENCODE/data/H3K27ac_adrenal\n",
    "OUTPUT_DIR /btl/projects/ChIPseq/ENCODE/data/H3K27ac_adrenal/UGER_analysisWctrl_GRCh38\n",
    "CONTROL /btl/projects/ChIPseq/ENCODE/data/H3K27ac_adrenal/ENCFF159PLR.bam\n",
    "PEAK_STYLE histone\n",
    "GENOME_FILE /seq/references/Homo_sapiens_assembly38/v0/Homo_sapiens_assembly38.fasta\n",
    "PAIRED_END TRUE\n",
    "QUEUE long\n",
    "SCRIPT_DIR /cil/shed/apps/internal/SSF/ChipSeq\n",
    "Searching directory: /btl/projects/ChIPseq/ENCODE/data/H3K27ac_adrenal\n",
    "Writing to: /btl/projects/ChIPseq/ENCODE/data/H3K27ac_adrenal/UGER_analysisWctrl_GRCh38\n",
    "Output directory /btl/projects/ChIPseq/ENCODE/data/H3K27ac_adrenal/UGER_analysisWctrl_GRCh38 does not exists. Creating directory.\n",
    "Output directory /btl/projects/ChIPseq/ENCODE/data/H3K27ac_adrenal/UGER_analysisWctrl_GRCh38/Peaks  does not exists. Creating directory.\n",
    "Output directory /btl/projects/ChIPseq/ENCODE/data/H3K27ac_adrenal/UGER_analysisWctrl_GRCh38/Peaks/bed  does not exists. Creating directory.\n",
    "Control is a file, assuming bam\n",
    "CONTROL_STEM is ENCFF159PLR\n",
    "Paired end\n",
    "makeTagDirectory /btl/projects/ChIPseq/ENCODE/data/H3K27ac_adrenal/UGER_analysisWctrl_GRCh38/ENCFF159PLR/btl/projects/ChIPseq/ENCODE/data/H3K27ac_adrenal/ENCFF159PLR.bam -genome /seq/references/Homo_sapiens_assembly38/v0/Homo_sapiens_assembly38.fasta -illuminaPE -checkGC -tbp 1\n",
    "        Will parse file: /btl/projects/ChIPseq/ENCODE/data/H3K27ac_adrenal/ENCFF159PLR.bam\n",
    "        Custom genome sequence file: /seq/references/Homo_sapiens_assembly38/v0/Homo_sapiens_assembly38.fasta\n",
    "\n",
    "        Creating directory: /btl/projects/ChIPseq/ENCODE/data/H3K27ac_adrenal/UGER_analysisWctrl_GRCh38/Tags/ENCFF159PLR and removing existing *.tags.tsv\n",
    "\n",
    "        Treating /btl/projects/ChIPseq/ENCODE/data/H3K27ac_adrenal/ENCFF159PLR.bam as a bam file\n",
    "        Reading alignment file /btl/projects/ChIPseq/ENCODE/data/H3K27ac_adrenal/ENCFF159PLR.bam\n",
    "\n",
    "        Optimizing tag files...\n",
    "        Estimated genome size = 3097906551\n",
    "        Estimated average read density = 0.017180 per bp\n",
    "        Total Tags = 53223287.0\n",
    "        Total Positions = 53223287\n",
    "        Average tag length = 75.8\n",
    "        Median tags per position = 1 (ideal: 1)\n",
    "        Average tags per position = 1.000\n",
    "        Fragment Length Estimate: 226\n",
    "        Peak Width Estimate: 232\n",
    "        Autocorrelation quality control metrics:\n",
    "                Same strand fold enrichment: 1.1\n",
    "                Diff strand fold enrichment: 1.1\n",
    "                Same / Diff fold enrichment: 1.0\n",
    "\n",
    "                Guessing sample is ChIP-Seq - may have low enrichment with lots of background\n",
    "\n",
    "        Checking GC bias...\n",
    "                Current Fragment length estimate: 226\n",
    "        Checking Tag/Fragment sequence for bias...\n",
    "                chr1\n",
    "        Reading whole genome at once...\n",
    "                chr2\n",
    "                chr3\n",
    "                chr4\n",
    "                chr5\n",
    "                chr6\n",
    "                chr7\n",
    "                chr8\n",
    "                chr9\n",
    "                chr10\n",
    "                chr11\n",
    "                chr12\n",
    "                chr13\n",
    "                chr14\n",
    "                chr15\n",
    "                chr16\n",
    "                chr17\n",
    "                chr18\n",
    "                chr19\n",
    "                chr20\n",
    "                chr21\n",
    "                chr22\n",
    "                chrX\n",
    "                chrY\n",
    "                chrM\n",
    "                chr11_KI270721v1_random\n",
    "                chr14_GL000009v2_random\n",
    "                <snip>\n",
    "                chrUn_KI270757v1\n",
    "                chrY_KI270740v1_random\n",
    "        Avg Fragment GC% = 41.83%\n",
    "        Avg Expected GC% = 40.61%\n",
    "Finished processing control\n",
    "processing filename /btl/projects/ChIPseq/ENCODE/data/H3K27ac_adrenal/ENCFF159PLR.bam\n",
    "processing filename /btl/projects/ChIPseq/ENCODE/data/H3K27ac_adrenal/ENCFF357WIV.bam\n",
    "qsub -V -cwd -j y -b y -o /btl/projects/ChIPseq/ENCODE/data/H3K27ac_adrenal/UGER_analysisWctrl_GRCh38 -q long -l h_vmem=32g sh /cil/shed/apps/internal/SSF/ChipSeq/ChipSeqSSFPipeline.sh /btl/projects/ChIPseq/ENCODE/data/H3K27ac_adrenal/ENCFF357WIV.bam /btl/projects/ChIPseq/ENCODE/data/H3K27ac_adrenal/UGER_analysisWctrl_GRCh38 /btl/projects/ChIPseq/ENCODE/data/H3K27ac_adrenal/UGER_analysisWctrl_GRCh38/Tags/ENCFF159PLR histone /seq/references/Homo_sapiens_assembly38/v0/Homo_sapiens_assembly38.fasta TRUE long /cil/shed/apps/internal/SSF/ChipSeq\n",
    "removed environment variable LD_LIBRARY_PATH from submit environment - it is considered a security issue\n",
    "Your job 7692789 (\"sh\") has been submitted\n",
    "\n"
   ]
  },
  {
   "cell_type": "code",
   "execution_count": 4,
   "metadata": {
    "collapsed": false
   },
   "outputs": [
    {
     "name": "stdout",
     "output_type": "stream",
     "text": [
      "job-ID     prior   name       user         state submit/start at     queue                          jclass                         slots ja-task-ID \n",
      "------------------------------------------------------------------------------------------------------------------------------------------------\n",
      "   7692789 1.31187 sh         jlchang      r     03/31/2017 10:19:35 long@bm-uger-1001.broadinstitu                                    1        \n"
     ]
    }
   ],
   "source": [
    "ssh login \"eval export DK_ROOT=\"/broad/software/dotkit\"; . /broad/software/dotkit/ksh/.dk_init ; use  UGER; qstat\""
   ]
  },
  {
   "cell_type": "code",
   "execution_count": 5,
   "metadata": {
    "collapsed": false
   },
   "outputs": [
    {
     "name": "stdout",
     "output_type": "stream",
     "text": [
      "Fri Mar 31 10:45:25 EDT 2017\n"
     ]
    }
   ],
   "source": [
    "date\n"
   ]
  },
  {
   "cell_type": "code",
   "execution_count": 7,
   "metadata": {
    "collapsed": false
   },
   "outputs": [
    {
     "name": "stdout",
     "output_type": "stream",
     "text": [
      "Fri Mar 31 11:51:15 EDT 2017\n",
      "job-ID     prior   name       user         state submit/start at     queue                          jclass                         slots ja-task-ID \n",
      "------------------------------------------------------------------------------------------------------------------------------------------------\n",
      "   7692891 0.35938 sh         jlchang      r     03/31/2017 11:22:36 long@ugerbm-c003.broadinstitut                                    1        \n",
      "   7692893 0.35938 sh         jlchang      r     03/31/2017 11:23:38 long@bm-uger-1002.broadinstitu                                    1        \n",
      "   7692894 0.35938 sh         jlchang      r     03/31/2017 11:34:22 long@bm-uger-1001.broadinstitu                                    1        \n",
      "   7692895 0.35938 sh         jlchang      r     03/31/2017 11:35:01 long@uger-c046.broadinstitute.                                    1        \n",
      "   7692896 0.35938 sh         jlchang      r     03/31/2017 11:39:38 long@uger-c034.broadinstitute.                                    1        \n",
      "   7692897 0.35938 sh         jlchang      r     03/31/2017 11:47:08 long@hw-uger-1002.broadinstitu                                    1        \n",
      "   7692898 0.35938 sh         jlchang      r     03/31/2017 11:47:47 long@sgi1.broadinstitute.org                                      1        \n",
      "   7692899 0.35938 sh         jlchang      r     03/31/2017 11:48:32 long@uger-c039.broadinstitute.                                    1        \n",
      "   7692900 0.35938 sh         jlchang      r     03/31/2017 11:48:47 long@ugerbm-d005.broadinstitut                                    1        \n",
      "   7692901 0.35938 sh         jlchang      r     03/31/2017 11:49:28 long@uger-c011.broadinstitute.                                    1        \n",
      "   7692902 0.35938 sh         jlchang      r     03/31/2017 11:51:06 long@uger-c032.broadinstitute.                                    1        \n",
      "   7692903 0.33937 sh         jlchang      qw    03/31/2017 10:54:18                                                                   1        \n",
      "   7692904 0.33452 sh         jlchang      qw    03/31/2017 10:54:18                                                                   1        \n",
      "   7692905 0.33035 sh         jlchang      qw    03/31/2017 10:54:18                                                                   1        \n",
      "   7692906 0.32673 sh         jlchang      qw    03/31/2017 10:54:18                                                                   1        \n",
      "   7692907 0.32355 sh         jlchang      qw    03/31/2017 10:54:18                                                                   1        \n",
      "   7692908 0.32074 sh         jlchang      qw    03/31/2017 10:54:18                                                                   1        \n",
      "   7692909 0.31823 sh         jlchang      qw    03/31/2017 10:54:18                                                                   1        \n",
      "   7692910 0.31599 sh         jlchang      qw    03/31/2017 10:54:18                                                                   1        \n",
      "   7692911 0.31396 sh         jlchang      qw    03/31/2017 10:54:18                                                                   1        \n",
      "   7692912 0.31213 sh         jlchang      qw    03/31/2017 10:54:18                                                                   1        \n"
     ]
    }
   ],
   "source": [
    "date\n",
    "ssh login \"eval export DK_ROOT=\"/broad/software/dotkit\"; . /broad/software/dotkit/ksh/.dk_init ; use  UGER; qstat\""
   ]
  },
  {
   "cell_type": "code",
   "execution_count": 8,
   "metadata": {
    "collapsed": false
   },
   "outputs": [
    {
     "name": "stdout",
     "output_type": "stream",
     "text": [
      "Fri Mar 31 14:24:53 EDT 2017\n"
     ]
    }
   ],
   "source": [
    "date\n",
    "ssh login \"eval export DK_ROOT=\"/broad/software/dotkit\"; . /broad/software/dotkit/ksh/.dk_init ; use  UGER; qstat\""
   ]
  },
  {
   "cell_type": "code",
   "execution_count": null,
   "metadata": {
    "collapsed": true
   },
   "outputs": [],
   "source": []
  }
 ],
 "metadata": {
  "kernelspec": {
   "display_name": "Bash",
   "language": "bash",
   "name": "bash"
  },
  "language_info": {
   "codemirror_mode": "shell",
   "file_extension": ".sh",
   "mimetype": "text/x-sh",
   "name": "bash"
  }
 },
 "nbformat": 4,
 "nbformat_minor": 0
}
