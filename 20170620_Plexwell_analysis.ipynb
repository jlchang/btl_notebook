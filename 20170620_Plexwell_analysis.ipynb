{
 "cells": [
  {
   "cell_type": "raw",
   "metadata": {},
   "source": [
    "dearchived data into\n",
    "/cil/shed/sandboxes/jlchang/one-off/SSFDEV-103/161216_M03102_0301_000000000-AWDHR\n",
    "\n",
    "The output of read_qc_wrapper.pl in \n",
    "/cil/shed/sandboxes/jlchang/one-off/SSFDEV-103/161216_M03102_0301_000000000-AWDHR/Data/Intensities/BaseCalls\n",
    "\n",
    "Most useful file is supposed to be read_qc.metrics.txt"
   ]
  },
  {
   "cell_type": "markdown",
   "metadata": {},
   "source": [
    "JIRA ticket: https://btljira.broadinstitute.org/browse/SSFDEV-103"
   ]
  },
  {
   "cell_type": "raw",
   "metadata": {},
   "source": [
    "analysis tool: /cil/shed/apps/internal/read_qc/read_qc_wrapper.pl -h"
   ]
  },
  {
   "cell_type": "raw",
   "metadata": {},
   "source": [
    ". Looking in read_qc_wrapper.pl in getPercentPfFromFastq, the script looks for a tag in the fastq header for whether the read is PF or not. I confirmed that for the MiSeq data I was looking at, all the reads are tagged as PF."
   ]
  },
  {
   "cell_type": "raw",
   "metadata": {},
   "source": [
    "initial observations about the PlexWell data:\n",
    "\n",
    "1. Percent duplication is high (with correspondingly low library complexity)\n",
    "4-5% for Rhodo (compare to 0.134 - 0.199 for the Nextera controls)\n",
    "5.2 - 6.9% for E coli  (compare to 0.198 - 0.299 for the Nextera controls)\n",
    "6.9 - 10.2% for Staph (compare to 0.679 - 0.841 for the Nextera controls)\n",
    "The amount of input did not affect the amount of duplication in each library\n",
    "\n",
    "2. GC content of PlexWell output is similar to controls\n",
    "Caveat: if I'm right that the Nextera controls are mis-identified\n",
    "Each set of Nextera controls had a curious pattern of ~50% GC, 67% GC then 34% GC - I assume that the 50% GC samples are E coli, the 67% GC samples are Rhodo and the 34% GC samples are Staph.\n",
    "\n",
    "3. the MiSeq reads are 100% PF because \"By default, FASTQ files only include clusters passing filter.\"\n",
    "reference: MiSeq Reporter User Guide\n",
    "(https://support.illumina.com/content/dam/illumina-support/documents/documentation/software_documentation/miseqreporter/miseq-reporter-software-guide-15042295-05.pdf)\n",
    "I confirmed that all reads in a sample fastq are PF reads based on the info in the fastq headers\n",
    "In retrospect, I shouldn't have let the 100%PF deter me from looking at the rest of the report..."
   ]
  }
 ],
 "metadata": {
  "kernelspec": {
   "display_name": "Bash",
   "language": "bash",
   "name": "bash"
  },
  "language_info": {
   "codemirror_mode": "shell",
   "file_extension": ".sh",
   "mimetype": "text/x-sh",
   "name": "bash"
  }
 },
 "nbformat": 4,
 "nbformat_minor": 0
}
