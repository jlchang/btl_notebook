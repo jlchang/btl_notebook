{
 "cells": [
  {
   "cell_type": "code",
   "execution_count": 1,
   "metadata": {
    "collapsed": false
   },
   "outputs": [
    {
     "name": "stdout",
     "output_type": "stream",
     "text": [
      "aspq.sh\t\t\t\t\tindex.html\n",
      "bashInstallTest.ipynb\t\t\tish_history\n",
      "bin\t\t\t\t\tmisc\n",
      "BTL\t\t\t\t\tpandoc_test\n",
      "cil_shed_external_du.out\t\tprivate_html\n",
      "cil_shed_internal_aleProd_du.out\tpublic_html\n",
      "cil_shed_internal_du.out\t\tscreen\n",
      "cil_shed_internal_RNAutil_du.out\ttriagesh\n",
      "cil_shed_internal_RNAutil_SSSBP_du.out\tUntitled.ipynb\n",
      "igv\t\t\t\t\twkhtmltopdf\n",
      "igv.log\t\t\t\t\tzBITS_archive\n"
     ]
    }
   ],
   "source": [
    "ls"
   ]
  },
  {
   "cell_type": "code",
   "execution_count": 2,
   "metadata": {
    "collapsed": true
   },
   "outputs": [],
   "source": [
    "cd /btl/data"
   ]
  },
  {
   "cell_type": "code",
   "execution_count": 3,
   "metadata": {
    "collapsed": true
   },
   "outputs": [],
   "source": [
    "cd MiSeq0/runs/170316_M04602_0047_000000000-B3L83\n"
   ]
  },
  {
   "cell_type": "code",
   "execution_count": 4,
   "metadata": {
    "collapsed": false
   },
   "outputs": [
    {
     "name": "stdout",
     "output_type": "stream",
     "text": [
      "AnalysisError.txt\n",
      "AnalysisLog.txt\n",
      "Basecalling_Netcopy_complete_Read1.txt\n",
      "Basecalling_Netcopy_complete_Read2.txt\n",
      "Basecalling_Netcopy_complete_Read3.txt\n",
      "Basecalling_Netcopy_complete_Read4.txt\n",
      "Basecalling_Netcopy_complete.txt\n",
      "CompletedJobInfo.xml\n",
      "Data\n",
      "GenerateFASTQRunStatistics.xml\n",
      "ImageAnalysis_Netcopy_complete_Read1.txt\n",
      "ImageAnalysis_Netcopy_complete_Read2.txt\n",
      "ImageAnalysis_Netcopy_complete_Read3.txt\n",
      "ImageAnalysis_Netcopy_complete_Read4.txt\n",
      "ImageAnalysis_Netcopy_complete.txt\n",
      "QueuedForAnalysis.txt\n",
      "RTAComplete.txt\n"
     ]
    }
   ],
   "source": [
    "ls\n"
   ]
  },
  {
   "cell_type": "code",
   "execution_count": 6,
   "metadata": {
    "collapsed": false
   },
   "outputs": [
    {
     "name": "stdout",
     "output_type": "stream",
     "text": [
      "Prepending: UGER (ok)\n"
     ]
    }
   ],
   "source": [
    "eval export DK_ROOT=\"/broad/software/dotkit\"; . /broad/software/dotkit/ksh/.dk_init ; use UGER"
   ]
  },
  {
   "cell_type": "code",
   "execution_count": 7,
   "metadata": {
    "collapsed": false
   },
   "outputs": [
    {
     "name": "stdout",
     "output_type": "stream",
     "text": [
      "error: denied: host \"jupyterhub.broadinstitute.org\" is neither submit nor admin host\n"
     ]
    },
    {
     "ename": "",
     "evalue": "1",
     "output_type": "error",
     "traceback": []
    }
   ],
   "source": [
    "qstat"
   ]
  },
  {
   "cell_type": "code",
   "execution_count": null,
   "metadata": {
    "collapsed": true
   },
   "outputs": [],
   "source": []
  }
 ],
 "metadata": {
  "kernelspec": {
   "display_name": "Bash",
   "language": "bash",
   "name": "bash"
  },
  "language_info": {
   "codemirror_mode": "shell",
   "file_extension": ".sh",
   "mimetype": "text/x-sh",
   "name": "bash"
  }
 },
 "nbformat": 4,
 "nbformat_minor": 0
}
