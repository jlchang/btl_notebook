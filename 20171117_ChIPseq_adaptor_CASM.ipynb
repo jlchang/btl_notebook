{
 "cells": [
  {
   "cell_type": "code",
   "execution_count": 1,
   "metadata": {
    "collapsed": true
   },
   "outputs": [],
   "source": [
    "cd /btl/analysis/ChIPseq/adaptor/20171117_workinDir_CASM"
   ]
  },
  {
   "cell_type": "code",
   "execution_count": 2,
   "metadata": {
    "collapsed": false
   },
   "outputs": [
    {
     "name": "stdout",
     "output_type": "stream",
     "text": [
      "bash: reuse: command not found\n"
     ]
    },
    {
     "ename": "",
     "evalue": "127",
     "output_type": "error",
     "traceback": []
    }
   ],
   "source": [
    "reuse -q .java-jdk-1.8.0_121-x86-64"
   ]
  },
  {
   "cell_type": "code",
   "execution_count": 3,
   "metadata": {
    "collapsed": true
   },
   "outputs": [],
   "source": [
    "source /broad/software/scripts/useuse"
   ]
  },
  {
   "cell_type": "code",
   "execution_count": 4,
   "metadata": {
    "collapsed": true
   },
   "outputs": [],
   "source": [
    "reuse -q .java-jdk-1.8.0_121-x86-64"
   ]
  },
  {
   "cell_type": "code",
   "execution_count": 5,
   "metadata": {
    "collapsed": false
   },
   "outputs": [
    {
     "name": "stdout",
     "output_type": "stream",
     "text": [
      "14:11:25.368 INFO  NativeLibraryLoader - Loading libgkl_compression.so from jar:file:/seq/software/picard-public/2.14.0/picard.jar!/com/intel/gkl/native/libgkl_compression.so\n",
      "[Fri Nov 17 14:11:25 EST 2017] CollectAlignmentSummaryMetrics ADAPTER_SEQUENCE=[AATGATACGGCGACCACCGAGATCTACACTCTTTCCCTACACGACGCTCTTCCGATCT, AGATCGGAAGAGCTCGTATGCCGTCTTCTGCTTG, AATGATACGGCGACCACCGAGATCTACACTCTTTCCCTACACGACGCTCTTCCGATCT, AGATCGGAAGAGCGGTTCAGCAGGAATGCCGAGACCGATCTCGTATGCCGTCTTCTGCTTG, AATGATACGGCGACCACCGAGATCTACACTCTTTCCCTACACGACGCTCTTCCGATCT, AGATCGGAAGAGCACACGTCTGAACTCCAGTCACNNNNNNNNATCTCGTATGCCGTCTTCTGCTTG, [AATGATACGGCGACCACCGAGATCTACACTCTTTCCCTACACGACGCTCTTCCGATCT,AGATCGGAAGAGCTCGTATGCCGTCTTCTGCTTG,AATGATACGGCGACCACCGAGATCTACACTCTTTCCCTACACGACGCTCTTCCGATCT,AGATCGGAAGAGCGGTTCAGCAGGAATGCCGAGACCGATCTCGTATGCCGTCTTCTGCTTG,AATGATACGGCGACCACCGAGATCTACACTCTTTCCCTACACGACGCTCTTCCGATCT,AGATCGGAAGAGCACACGTCTGAACTCCAGTCACNNNNNNNNATCTCGTATGCCGTCTTCTGCTTG,AATGATACGGCGACCACCGAGATCTACACAGGCGAAGACACTCTTTCCCTACACGACGCTCTTCCGATCT,AGATCGGAAGAGCACACGTCTGAACTCCAGTCACNNNNNNNNATCTCGTATGCCGTCTTCTGCTTG]] INPUT=/btl/analysis/ChIPseq/paired/BTLDEV-1421_Takara_Miseq/H3k27ac-low-Diag_S3_PE/H3k27ac-low-Diag_S3.raw.bam OUTPUT=S3.takaraTest.casm REFERENCE_SEQUENCE=/cil/shed/apps/external/AQUAS/genome_data/hg19/bwa_index/male.hg19.fa    MAX_INSERT_SIZE=100000 EXPECTED_PAIR_ORIENTATIONS=[FR] METRIC_ACCUMULATION_LEVEL=[ALL_READS] IS_BISULFITE_SEQUENCED=false ASSUME_SORTED=true STOP_AFTER=0 VERBOSITY=INFO QUIET=false VALIDATION_STRINGENCY=STRICT COMPRESSION_LEVEL=5 MAX_RECORDS_IN_RAM=500000 CREATE_INDEX=false CREATE_MD5_FILE=false GA4GH_CLIENT_SECRETS=client_secrets.json USE_JDK_DEFLATER=false USE_JDK_INFLATER=false\n",
      "[Fri Nov 17 14:11:25 EST 2017] Executing as jlchang@jupyterhub.broadinstitute.org on Linux 2.6.32-696.3.1.el6.x86_64 amd64; Java HotSpot(TM) 64-Bit Server VM 1.8.0_121-b13; Deflater: Intel; Inflater: Intel; Picard version: 2.14.0-SNAPSHOT\n",
      "INFO\t2017-11-17 14:11:43\tSinglePassSamProgram\tProcessed     1,000,000 records.  Elapsed time: 00:00:17s.  Time for last 1,000,000:   14s.  Last read position: chr5:5,799,327\n",
      "INFO\t2017-11-17 14:11:53\tSinglePassSamProgram\tProcessed     2,000,000 records.  Elapsed time: 00:00:27s.  Time for last 1,000,000:   10s.  Last read position: chr10:94,516,785\n",
      "INFO\t2017-11-17 14:12:03\tSinglePassSamProgram\tProcessed     3,000,000 records.  Elapsed time: 00:00:38s.  Time for last 1,000,000:   10s.  Last read position: chr19:35,610,329\n",
      "[Fri Nov 17 14:12:09 EST 2017] picard.analysis.CollectAlignmentSummaryMetrics done. Elapsed time: 0.73 minutes.\n",
      "Runtime.totalMemory()=120262656\n"
     ]
    }
   ],
   "source": [
    "java -Xmx4G -jar /seq/software/picard-public/2.14.0/picard.jar CollectAlignmentSummaryMetrics R=/cil/shed/apps/external/AQUAS/genome_data/hg19/bwa_index/male.hg19.fa I=/btl/analysis/ChIPseq/paired/BTLDEV-1421_Takara_Miseq/H3k27ac-low-Diag_S3_PE/H3k27ac-low-Diag_S3.raw.bam ADAPTER_SEQUENCE=[AATGATACGGCGACCACCGAGATCTACACTCTTTCCCTACACGACGCTCTTCCGATCT,AGATCGGAAGAGCTCGTATGCCGTCTTCTGCTTG,AATGATACGGCGACCACCGAGATCTACACTCTTTCCCTACACGACGCTCTTCCGATCT,AGATCGGAAGAGCGGTTCAGCAGGAATGCCGAGACCGATCTCGTATGCCGTCTTCTGCTTG,AATGATACGGCGACCACCGAGATCTACACTCTTTCCCTACACGACGCTCTTCCGATCT,AGATCGGAAGAGCACACGTCTGAACTCCAGTCACNNNNNNNNATCTCGTATGCCGTCTTCTGCTTG,AATGATACGGCGACCACCGAGATCTACACAGGCGAAGACACTCTTTCCCTACACGACGCTCTTCCGATCT,AGATCGGAAGAGCACACGTCTGAACTCCAGTCACNNNNNNNNATCTCGTATGCCGTCTTCTGCTTG] O=S3.takaraTest.casm"
   ]
  },
  {
   "cell_type": "markdown",
   "metadata": {},
   "source": [
    "casm results probably just floating point calc difference from default adapter analysis "
   ]
  }
 ],
 "metadata": {
  "kernelspec": {
   "display_name": "Bash",
   "language": "bash",
   "name": "bash"
  },
  "language_info": {
   "codemirror_mode": "shell",
   "file_extension": ".sh",
   "mimetype": "text/x-sh",
   "name": "bash"
  }
 },
 "nbformat": 4,
 "nbformat_minor": 0
}
