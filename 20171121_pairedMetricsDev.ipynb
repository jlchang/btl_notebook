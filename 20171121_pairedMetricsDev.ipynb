{
 "cells": [
  {
   "cell_type": "markdown",
   "metadata": {},
   "source": [
    "Metrics to extract\n",
    "\n",
    "from raw.flagstat:\n",
    "total reads\n",
    "unmapped (total minus mapped)\n",
    "singletons\n",
    "improper mp (total minus properly paired minus unmapped minus singletons)\n",
    "\n",
    "from raw.cleaned.dupmark.flagstat:\n",
    "all dups\n",
    "\n",
    "from PE.nodup.flagstat:\n",
    "total PPE\n",
    "total PPdups (properly paired from raw.flagstat, minus total from PE.nudup.flagstat)\n"
   ]
  },
  {
   "cell_type": "markdown",
   "metadata": {},
   "source": [
    "(some data on laptop in /Users/jlchang/Documents/jean/Broad/BTL/ChIPseq/paired_dev/basicMetrics.xlsx "
   ]
  },
  {
   "cell_type": "code",
   "execution_count": 1,
   "metadata": {
    "collapsed": true
   },
   "outputs": [],
   "source": [
    "cd /btl/analysis/ChIPseq/paired_dev/20171121_test"
   ]
  },
  {
   "cell_type": "code",
   "execution_count": 2,
   "metadata": {
    "collapsed": false
   },
   "outputs": [
    {
     "name": "stdout",
     "output_type": "stream",
     "text": [
      "/btl/analysis/ChIPseq/paired_dev/20171121_test\n"
     ]
    }
   ],
   "source": [
    "pwd"
   ]
  },
  {
   "cell_type": "code",
   "execution_count": 3,
   "metadata": {
    "collapsed": true
   },
   "outputs": [],
   "source": [
    "source /broad/software/scripts/useuse"
   ]
  },
  {
   "cell_type": "code",
   "execution_count": 4,
   "metadata": {
    "collapsed": true
   },
   "outputs": [],
   "source": [
    "reuse -q .samtools-1.5"
   ]
  },
  {
   "cell_type": "code",
   "execution_count": 5,
   "metadata": {
    "collapsed": true
   },
   "outputs": [],
   "source": [
    "reuse -q .java-jdk-1.8.0_121-x86-64"
   ]
  },
  {
   "cell_type": "markdown",
   "metadata": {},
   "source": [
    "create bam of just paired -f 2"
   ]
  },
  {
   "cell_type": "code",
   "execution_count": 6,
   "metadata": {
    "collapsed": true
   },
   "outputs": [],
   "source": [
    "samtools view -f 2 -bh /btl/analysis/ChIPseq/paired/SSFDEV-310_Kapa_Abconc_Miseq/K562-27ac-CST_S7_PE/K562-27ac-CST_S7.raw.cleaned.bam > K562-27ac-CST_S7.raw.PPE.bam"
   ]
  },
  {
   "cell_type": "markdown",
   "metadata": {},
   "source": [
    "create bam using -F 1804 -f 2 - is there a difference?samtools view -f 2 -bh /btl/analysis/ChIPseq/paired/SSFDEV-310_Kapa_Abconc_Miseq/K562-27ac-CST_S7_PE/K562-27ac-CST_S7.raw.cleaned.bam > K562-27ac-CST_S7.raw.PPE.bam"
   ]
  },
  {
   "cell_type": "code",
   "execution_count": 7,
   "metadata": {
    "collapsed": true
   },
   "outputs": [],
   "source": [
    "samtools view -F 1804 -f 2 -bh /btl/analysis/ChIPseq/paired/SSFDEV-310_Kapa_Abconc_Miseq/K562-27ac-CST_S7_PE/K562-27ac-CST_S7.raw.cleaned.bam > K562-27ac-CST_S7.raw.1804PPE.bam"
   ]
  },
  {
   "cell_type": "code",
   "execution_count": 8,
   "metadata": {
    "collapsed": true
   },
   "outputs": [],
   "source": [
    "samtools flagstat K562-27ac-CST_S7.raw.PPE.bam > K562-27ac-CST_S7.raw.PPE.flagstat"
   ]
  },
  {
   "cell_type": "code",
   "execution_count": 9,
   "metadata": {
    "collapsed": true
   },
   "outputs": [],
   "source": [
    "samtools flagstat K562-27ac-CST_S7.raw.1804PPE.bam > K562-27ac-CST_S7.raw.1804PPE.flagstat"
   ]
  },
  {
   "cell_type": "code",
   "execution_count": 10,
   "metadata": {
    "collapsed": false
   },
   "outputs": [
    {
     "name": "stdout",
     "output_type": "stream",
     "text": [
      "4160360 + 0 in total (QC-passed reads + QC-failed reads)\n",
      "0 + 0 secondary\n",
      "0 + 0 supplementary\n",
      "0 + 0 duplicates\n",
      "4160360 + 0 mapped (100.00% : N/A)\n",
      "4160360 + 0 paired in sequencing\n",
      "2080180 + 0 read1\n",
      "2080180 + 0 read2\n",
      "4160360 + 0 properly paired (100.00% : N/A)\n",
      "4160360 + 0 with itself and mate mapped\n",
      "0 + 0 singletons (0.00% : N/A)\n",
      "0 + 0 with mate mapped to a different chr\n",
      "0 + 0 with mate mapped to a different chr (mapQ>=5)\n"
     ]
    }
   ],
   "source": [
    "more K562-27ac-CST_S7.raw.PPE.flagstat"
   ]
  },
  {
   "cell_type": "code",
   "execution_count": 11,
   "metadata": {
    "collapsed": false
   },
   "outputs": [
    {
     "name": "stdout",
     "output_type": "stream",
     "text": [
      "4160360 + 0 in total (QC-passed reads + QC-failed reads)\n",
      "0 + 0 secondary\n",
      "0 + 0 supplementary\n",
      "0 + 0 duplicates\n",
      "4160360 + 0 mapped (100.00% : N/A)\n",
      "4160360 + 0 paired in sequencing\n",
      "2080180 + 0 read1\n",
      "2080180 + 0 read2\n",
      "4160360 + 0 properly paired (100.00% : N/A)\n",
      "4160360 + 0 with itself and mate mapped\n",
      "0 + 0 singletons (0.00% : N/A)\n",
      "0 + 0 with mate mapped to a different chr\n",
      "0 + 0 with mate mapped to a different chr (mapQ>=5)\n"
     ]
    }
   ],
   "source": [
    "more K562-27ac-CST_S7.raw.1804PPE.flagstat"
   ]
  },
  {
   "cell_type": "markdown",
   "metadata": {},
   "source": [
    "now markDuplicates"
   ]
  },
  {
   "cell_type": "code",
   "execution_count": 12,
   "metadata": {
    "collapsed": false
   },
   "outputs": [
    {
     "name": "stdout",
     "output_type": "stream",
     "text": [
      "13:12:33.846 INFO  NativeLibraryLoader - Loading libgkl_compression.so from jar:file:/seq/software/picard-public/2.14.0/picard.jar!/com/intel/gkl/native/libgkl_compression.so\n",
      "[Tue Nov 21 13:12:33 EST 2017] MarkDuplicates INPUT=[K562-27ac-CST_S7.raw.PPE.bam] OUTPUT=K562-27ac-CST_S7.raw.PPE.dupmark.bam METRICS_FILE=K562-27ac-CST_S7.raw.PPE.markdupMetrics REMOVE_DUPLICATES=false ASSUME_SORTED=true VALIDATION_STRINGENCY=LENIENT    MAX_SEQUENCES_FOR_DISK_READ_ENDS_MAP=50000 MAX_FILE_HANDLES_FOR_READ_ENDS_MAP=8000 SORTING_COLLECTION_SIZE_RATIO=0.25 TAG_DUPLICATE_SET_MEMBERS=false REMOVE_SEQUENCING_DUPLICATES=false TAGGING_POLICY=DontTag CLEAR_DT=true DUPLICATE_SCORING_STRATEGY=SUM_OF_BASE_QUALITIES PROGRAM_RECORD_ID=MarkDuplicates PROGRAM_GROUP_NAME=MarkDuplicates READ_NAME_REGEX=<optimized capture of last three ':' separated fields as numeric values> OPTICAL_DUPLICATE_PIXEL_DISTANCE=100 MAX_OPTICAL_DUPLICATE_SET_SIZE=300000 ADD_PG_TAG_TO_READS=true VERBOSITY=INFO QUIET=false COMPRESSION_LEVEL=5 MAX_RECORDS_IN_RAM=500000 CREATE_INDEX=false CREATE_MD5_FILE=false GA4GH_CLIENT_SECRETS=client_secrets.json USE_JDK_DEFLATER=false USE_JDK_INFLATER=false\n",
      "[Tue Nov 21 13:12:33 EST 2017] Executing as jlchang@jupyterhub.broadinstitute.org on Linux 2.6.32-696.3.1.el6.x86_64 amd64; Java HotSpot(TM) 64-Bit Server VM 1.8.0_121-b13; Deflater: Intel; Inflater: Intel; Picard version: 2.14.0-SNAPSHOT\n",
      "INFO\t2017-11-21 13:12:33\tMarkDuplicates\tStart of doWork freeMemory: 57086832; totalMemory: 60882944; maxMemory: 4151836672\n",
      "INFO\t2017-11-21 13:12:33\tMarkDuplicates\tReading input file and constructing read end information.\n",
      "INFO\t2017-11-21 13:12:33\tMarkDuplicates\tWill retain up to 15042886 data points before spilling to disk.\n",
      "INFO\t2017-11-21 13:12:41\tMarkDuplicates\tRead     1,000,000 records.  Elapsed time: 00:00:06s.  Time for last 1,000,000:    6s.  Last read position: chr3:171,352,724\n",
      "INFO\t2017-11-21 13:12:41\tMarkDuplicates\tTracking 0 as yet unmatched pairs. 0 records in RAM.\n",
      "INFO\t2017-11-21 13:12:46\tMarkDuplicates\tRead     2,000,000 records.  Elapsed time: 00:00:12s.  Time for last 1,000,000:    5s.  Last read position: chr7:137,054,860\n",
      "INFO\t2017-11-21 13:12:46\tMarkDuplicates\tTracking 2 as yet unmatched pairs. 2 records in RAM.\n",
      "INFO\t2017-11-21 13:12:50\tMarkDuplicates\tRead     3,000,000 records.  Elapsed time: 00:00:16s.  Time for last 1,000,000:    4s.  Last read position: chr13:61,307,311\n",
      "INFO\t2017-11-21 13:12:50\tMarkDuplicates\tTracking 0 as yet unmatched pairs. 0 records in RAM.\n",
      "INFO\t2017-11-21 13:12:56\tMarkDuplicates\tRead     4,000,000 records.  Elapsed time: 00:00:22s.  Time for last 1,000,000:    5s.  Last read position: chr22:29,895,972\n",
      "INFO\t2017-11-21 13:12:56\tMarkDuplicates\tTracking 0 as yet unmatched pairs. 0 records in RAM.\n",
      "INFO\t2017-11-21 13:12:56\tMarkDuplicates\tRead 4160360 records. 0 pairs never matched.\n",
      "INFO\t2017-11-21 13:12:57\tMarkDuplicates\tAfter buildSortedReadEndLists freeMemory: 804809048; totalMemory: 1385775104; maxMemory: 4151836672\n",
      "INFO\t2017-11-21 13:12:57\tMarkDuplicates\tWill retain up to 129744896 duplicate indices before spilling to disk.\n",
      "Java HotSpot(TM) 64-Bit Server VM warning: INFO: os::commit_memory(0x000000074e4b4000, 1037963264, 0) failed; error='Cannot allocate memory' (errno=12)\n",
      "#\n",
      "# There is insufficient memory for the Java Runtime Environment to continue.\n",
      "# Native memory allocation (mmap) failed to map 1037963264 bytes for committing reserved memory.\n",
      "# An error report file with more information is saved as:\n",
      "# /btl/analysis/ChIPseq/paired_dev/20171121_test/hs_err_pid9447.log\n"
     ]
    },
    {
     "ename": "",
     "evalue": "1",
     "output_type": "error",
     "traceback": []
    }
   ],
   "source": [
    "java -Xmx4G -jar /seq/software/picard-public/2.14.0/picard.jar MarkDuplicates INPUT=K562-27ac-CST_S7.raw.PPE.bam OUTPUT=K562-27ac-CST_S7.raw.PPE.dupmark.bam METRICS_FILE=K562-27ac-CST_S7.raw.PPE.markdupMetrics VALIDATION_STRINGENCY=LENIENT ASSUME_SORTED=true REMOVE_DUPLICATES=false "
   ]
  },
  {
   "cell_type": "markdown",
   "metadata": {},
   "source": [
    "run above on lager instead (output indicates \n",
    "INFO\t2017-11-21 13:14:37\tMarkDuplicates\tMarking 11276 records as duplicates.\n",
    "INFO\t2017-11-21 13:14:37\tMarkDuplicates\tFound 372 optical duplicate clusters.\n",
    "INFO\t2017-11-21 13:14:37\tMarkDuplicates\tReads are assumed to be ordered by: coordinate)\n"
   ]
  },
  {
   "cell_type": "markdown",
   "metadata": {},
   "source": [
    "Number of duplicates matches the number of reads removed in PE.nodup.bam after accounting for all \"improperly paired\" reads"
   ]
  },
  {
   "cell_type": "code",
   "execution_count": 13,
   "metadata": {
    "collapsed": true
   },
   "outputs": [],
   "source": [
    "samtools flagstat K562-27ac-CST_S7.raw.PPE.dupmark.bam > K562-27ac-CST_S7.raw.PPE.dupmark.flagstat"
   ]
  },
  {
   "cell_type": "markdown",
   "metadata": {},
   "source": [
    "Experiment: should try markdup after sorting by name (documentation says coordinate-sorted won't mark both ends)"
   ]
  },
  {
   "cell_type": "code",
   "execution_count": 15,
   "metadata": {
    "collapsed": false
   },
   "outputs": [
    {
     "name": "stdout",
     "output_type": "stream",
     "text": [
      "[bam_sort_core] merging from 2 files...\n"
     ]
    }
   ],
   "source": [
    "samtools view -f 2 -bh /btl/analysis/ChIPseq/paired/SSFDEV-310_Kapa_Abconc_Miseq/K562-27ac-CST_S7_PE/K562-27ac-CST_S7.raw.cleaned.bam | samtools sort -n - -T 'sorted_temp' -o K562-27ac-CST_S7.raw.PPE.nmsrt.bam"
   ]
  },
  {
   "cell_type": "markdown",
   "metadata": {},
   "source": [
    "run below on lager"
   ]
  },
  {
   "cell_type": "markdown",
   "metadata": {},
   "source": [
    "java -Xmx4G -jar /seq/software/picard-public/2.14.0/picard.jar MarkDuplicates INPUT=K562-27ac-CST_S7.raw.PPE.nmsrt.bam OUTPUT=K562-27ac-CST_S7.raw.PPE.nmsrt.dupmark.bam METRICS_FILE=K562-27ac-CST_S7.raw.PPE.markdupMetrics VALIDATION_STRINGENCY=LENIENT REMOVE_DUPLICATES=false "
   ]
  },
  {
   "cell_type": "markdown",
   "metadata": {},
   "source": [
    "Fail to test namesort effect (maybe need fixmate first?)\n",
    "INFO\t2017-11-21 13:27:19\tMarkDuplicates\tReads are assumed to be ordered by: queryname\n",
    "[Tue Nov 21 13:27:19 EST 2017] picard.sam.markduplicates.MarkDuplicates done. Elapsed time: 0.79 minutes.\n",
    "Runtime.totalMemory()=3424124928\n",
    "To get help, see http://broadinstitute.github.io/picard/index.html#GettingHelp\n",
    "Exception in thread \"main\" java.lang.IllegalArgumentException: Alignments added out of order in SAMFileWriterImpl.addAlignment for file:///btl/analysis/ChIPseq/paired_dev/20171121_test/K562-27ac-CST_S7.raw.PPE.nmsrt.dupmark.bam. Sort order is queryname. Offending records are at [M03102:433:000000000-BC6GJ:1:1101:2856:9964] and [M03102:433:000000000-BC6GJ:1:1101:2856:10069]\n",
    "\tat htsjdk.samtools.SAMFileWriterImpl.assertPresorted(SAMFileWriterImpl.java:213)\n",
    "\tat htsjdk.samtools.SAMFileWriterImpl.addAlignment(SAMFileWriterImpl.java:200)\n",
    "\tat picard.sam.markduplicates.MarkDuplicates.doWork(MarkDuplicates.java:406)\n",
    "\tat picard.cmdline.CommandLineProgram.instanceMain(CommandLineProgram.java:268)\n",
    "\tat picard.cmdline.PicardCommandLine.instanceMain(PicardCommandLine.java:98)\n",
    "\tat picard.cmdline.PicardCommandLine.main(PicardCommandLine.java:108)"
   ]
  },
  {
   "cell_type": "markdown",
   "metadata": {},
   "source": [
    "so few duplicates, probably not critical"
   ]
  },
  {
   "cell_type": "code",
   "execution_count": 16,
   "metadata": {
    "collapsed": false
   },
   "outputs": [
    {
     "name": "stdout",
     "output_type": "stream",
     "text": [
      "4160360 + 0 in total (QC-passed reads + QC-failed reads)\n",
      "0 + 0 secondary\n",
      "0 + 0 supplementary\n",
      "11276 + 0 duplicates\n",
      "4160360 + 0 mapped (100.00% : N/A)\n",
      "4160360 + 0 paired in sequencing\n",
      "2080180 + 0 read1\n",
      "2080180 + 0 read2\n",
      "4160360 + 0 properly paired (100.00% : N/A)\n",
      "4160360 + 0 with itself and mate mapped\n",
      "0 + 0 singletons (0.00% : N/A)\n",
      "0 + 0 with mate mapped to a different chr\n",
      "0 + 0 with mate mapped to a different chr (mapQ>=5)\n"
     ]
    }
   ],
   "source": [
    "more K562-27ac-CST_S7.raw.PPE.dupmark.flagstat"
   ]
  },
  {
   "cell_type": "markdown",
   "metadata": {},
   "source": [
    "Pick high predicted duplication rate sample and check"
   ]
  },
  {
   "cell_type": "code",
   "execution_count": null,
   "metadata": {
    "collapsed": true
   },
   "outputs": [],
   "source": []
  }
 ],
 "metadata": {
  "kernelspec": {
   "display_name": "Bash",
   "language": "bash",
   "name": "bash"
  },
  "language_info": {
   "codemirror_mode": "shell",
   "file_extension": ".sh",
   "mimetype": "text/x-sh",
   "name": "bash"
  }
 },
 "nbformat": 4,
 "nbformat_minor": 0
}
