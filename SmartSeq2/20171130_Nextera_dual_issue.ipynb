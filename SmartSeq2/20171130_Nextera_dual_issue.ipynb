{
 "cells": [
  {
   "cell_type": "code",
   "execution_count": 1,
   "metadata": {
    "collapsed": true
   },
   "outputs": [],
   "source": [
    "cd /btl/projects/SSF/SmartSeq2/MdReports/test/20171130_NexteraDualIndex"
   ]
  },
  {
   "cell_type": "code",
   "execution_count": 2,
   "metadata": {
    "collapsed": false
   },
   "outputs": [
    {
     "name": "stdout",
     "output_type": "stream",
     "text": [
      "sampleName  totalReads  pctPfReadsAligned  pctAdapter  meanInsertSize  medianInsertSize  meanGcContent  duplicationRateOfMapped  genesDetected  rRNArate\n",
      "D09_S45     169246      0.093686           0.038163    435.925897      455.0             40.0           0.024091827              63             0.008082909\n",
      "D07_S43     415144      0.106334           0.043416    320.099208      365.0             41.0           0.0902954                51             0.045564912\n",
      "D06_S42     290676      0.113343           0.045927    396.813554      418.0             40.0           0.072725065              163            0.034925483\n",
      "H02_S86     203976      0.130535           0.045937    396.483812      453.0             41.0           0.035904754              66             0.015060595\n",
      "E11_S59     234812      0.167589           0.052165    378.026168      389.0             42.0           0.07913194               307            0.032707017\n",
      "H12_S96     136498      0.167841           0.070133    441.18532       400.0             42.0           0.05534701               172            0.021883104\n",
      "C11_S35     279332      0.177409           0.04374     472.010803      401.0             42.0           0.084914036              763            0.047960848\n",
      "D12_S48     175668      0.179224           0.056373    442.301937      402.0             43.0           0.04738915               234            0.025189562\n",
      "H10_S94     261340      0.180784           0.038287    454.559243      418.0             42.0           0.0809804                338            0.043636642\n",
      "E02_S50     291678      0.186054           0.050271    359.971206      376.0             43.0           0.09114027               246            0.048107844\n",
      "G01_S73     271592      0.207002           0.044416    361.378596      377.0             42.0           0.10476699               525            0.056599606\n",
      "G12_S84     49064       0.209604           0.128934    267.409639      284.0             43.0           0.053675614              33             0.010679929\n",
      "E08_S56     110220      0.218055           0.059454    376.113353      373.0             43.0           0.07189815               121            0.023434948\n",
      "E06_S54     431152      0.218981           0.043708    413.868867      411.0             43.0           0.15796386               454            0.0840678\n",
      "F01_S61     575300      0.221589           0.036013    417.533555      414.0             43.0           0.19006903               596            0.112888925\n",
      "C03_S27     131218      0.222683           0.080294    334.742361      338.0             45.0           0.052772075              313            0.022428326\n",
      "E03_S51     173694      0.226225           0.059588    370.338314      370.0             43.0           0.08545834               301            0.033944752\n",
      "E10_S58     236922      0.228371           0.041047    392.411154      378.0             43.0           0.10431375               353            0.05656292\n",
      "H07_S91     337624      0.232981           0.037337    418.684496      404.0             44.0           0.12562929               623            0.074751794\n",
      "F04_S64     35466       0.238707           0.110613    283.700668      300.5             45.0           0.047484055              30             0.008402414\n",
      "F07_S67     216826      0.238708           0.04856     348.331434      361.0             44.0           0.15491325               82             0.05387269\n",
      "D11_S47     142044      0.240897           0.047781    360.356646      364.0             44.0           0.090069555              168            0.031919688\n",
      "E07_S55     439356      0.251996           0.035557    535.242758      456.0             45.0           0.11416598               1137           0.08282122\n",
      "C09_S33     318556      0.25399            0.042711    404.60099       385.0             44.0           0.13194908               727            0.07768493\n",
      "C01_S25     340486      0.259065           0.053409    382.718801      370.0             45.0           0.1284464                1478           0.0789401\n",
      "E09_S57     148186      0.268365           0.062327    380.990782      373.0             45.0           0.10279622               191            0.03611677\n",
      "H09_S93     269276      0.272055           0.043947    334.868434      356.0             44.0           0.2045101                67             0.083475694\n",
      "G04_S76     338144      0.273162           0.040122    395.875556      377.0             45.0           0.15890785               634            0.094110794\n",
      "H11_S95     301064      0.273802           0.052374    338.422767      338.0             45.0           0.16940023               747            0.09154532\n",
      "E05_S53     365618      0.274418           0.046918    510.333064      421.0             45.0           0.10824064               1358           0.08401392\n",
      "F09_S69     285776      0.275328           0.037914    404.404192      390.0             45.0           0.15144506               449            0.07310271\n",
      "E01_S49     488586      0.278502           0.044702    330.969771      343.0             44.0           0.2717532                250            0.16796224\n",
      "G11_S83     231072      0.286577           0.04995     327.427701      344.5             44.0           0.21630928               52             0.07501125\n",
      "H05_S89     283256      0.287676           0.05243     382.025977      371.0             46.0           0.13489434               873            0.0800795\n",
      "F03_S63     302044      0.287706           0.047374    323.241785      334.0             44.0           0.24561565               69             0.11487068\n",
      "E12_S60     249394      0.290087           0.051966    467.750906      397.0             46.0           0.09258287               929            0.06116025\n",
      "C12_S36     383262      0.295485           0.036949    426.487559      398.0             46.0           0.17107587               804            0.10445857\n",
      "G07_S79     281256      0.302692           0.039747    397.189351      395.0             45.0           0.19085208               259            0.083877325\n",
      "D04_S40     94492       0.305105           0.095839    304.826014      318.0             44.0           0.12063822               51             0.03236253\n",
      "G05_S77     390626      0.307614           0.033866    447.35524       412.0             46.0           0.17136866               952            0.11189476\n",
      "G02_S74     255670      0.317542           0.035651    413.147181      385.0             46.0           0.14576405               548            0.07096257\n",
      "D01_S37     345120      0.320005           0.046558    360.328639      366.0             46.0           0.2137088                818            0.11196106\n",
      "B01_S13     282160      0.323972           0.051457    332.52455       334.0             46.0           0.22340612               442            0.116979726\n",
      "B06_S18     129376      0.325269           0.065607    334.639531      343.0             46.0           0.14058267               190            0.045742642\n",
      "D03_S39     340694      0.325835           0.041782    324.157766      334.0             45.0           0.29918024               51             0.14574662\n",
      "H03_S87     389564      0.32617            0.03429     449.738576      410.0             45.0           0.17792608               822            0.114977255\n",
      "B12_S24     251668      0.334321           0.049847    365.384222      358.0             47.0           0.15790725               1003           0.0784923\n",
      "A06_S6      217244      0.334868           0.049497    360.306731      358.0             47.0           0.15233408               844            0.07197897\n",
      "A12_S12     346910      0.336889           0.037353    356.559151      356.0             48.0           0.2193035                1093           0.11577354\n",
      "A08_S8      608306      0.343518           0.025962    416.182036      402.0             49.0           0.26768246               2787           0.18962824\n",
      "A10_S10     518840      0.346188           0.028552    401.825968      390.0             48.0           0.24289596               2431           0.16382892\n",
      "A09_S9      556120      0.356344           0.037805    386.874356      379.0             47.0           0.28518948               2204           0.20419693\n",
      "G08_S80     240700      0.364171           0.052173    326.322357      326.0             48.0           0.19031213               475            0.10554217\n",
      "A01_S1      521514      0.368761           0.02788     399.435991      391.0             49.0           0.27939725               2330           0.18040551\n",
      "F11_S71     197150      0.368836           0.054796    320.956617      327.0             46.0           0.23125584               83             0.092376366\n",
      "A04_S4      407170      0.37518            0.039625    362.252799      363.0             48.0           0.28576478               1146           0.16694993\n",
      "D08_S44     265070      0.375569           0.041174    390.884735      377.0             46.0           0.1870982                747            0.10587392\n",
      "B09_S21     364530      0.375942           0.039124    351.251511      357.0             47.0           0.27490842               586            0.15240721\n",
      "D05_S41     99828       0.380775           0.05838     373.919017      368.0             47.0           0.11822582               151            0.038466163\n",
      "A11_S11     433324      0.381119           0.025994    400.778044      387.0             49.0           0.25655776               2089           0.15345792\n",
      "A02_S2      364466      0.387131           0.036508    382.977466      378.0             48.0           0.2509639                1454           0.14067979\n",
      "B04_S16     344234      0.391118           0.038082    350.231214      350.0             48.0           0.2558751                1126           0.14338212\n",
      "C07_S31     320486      0.394626           0.043091    381.246026      376.0             48.0           0.24881397               1200           0.12906648\n",
      "H04_S88     369746      0.394849           0.044912    389.448801      375.0             47.0           0.23344795               1389           0.146103\n",
      "G03_S75     165056      0.402179           0.049407    324.315222      326.0             47.0           0.24362026               58             0.08997552\n",
      "H08_S92     274778      0.403708           0.046823    347.164063      346.0             48.0           0.2598215                505            0.12525748\n",
      "G06_S78     187600      0.406194           0.052372    333.299555      335.0             47.0           0.20747487               336            0.08803305\n",
      "E04_S52     162742      0.410613           0.040887    376.487078      368.0             48.0           0.15635101               512            0.063702054\n",
      "F02_S62     462596      0.412018           0.039363    388.812297      384.0             48.0           0.308828                 1414           0.19499736\n",
      "C05_S29     200472      0.416507           0.038359    359.427755      361.0             49.0           0.21440035               577            0.085807495\n",
      "B08_S20     576044      0.417006           0.033817    380.674708      378.0             49.0           0.34273607               2077           0.2465506\n",
      "B07_S19     357674      0.418795           0.038404    388.768895      384.0             48.0           0.2706286                1392           0.14756455\n",
      "B11_S23     392208      0.42094            0.041654    332.749985      336.0             49.0           0.31152785               858            0.19607198\n",
      "F05_S65     349700      0.422271           0.034787    408.548582      391.0             47.0           0.24706775               836            0.14566772\n",
      "B10_S22     472458      0.423331           0.032678    373.227229      372.0             50.0           0.33720988               1368           0.21678329\n",
      "A03_S3      226388      0.427867           0.037559    364.915543      365.0             49.0           0.244611                 614            0.102849975\n",
      "F06_S66     435560      0.432083           0.034374    414.41131       394.0             48.0           0.27780315               1095           0.1864611\n",
      "B05_S17     342262      0.434971           0.03791     365.543287      366.0             49.0           0.31131023               736            0.16317032\n",
      "F08_S68     356320      0.43599            0.030032    414.598447      396.0             49.0           0.26825532               1086           0.14893635\n",
      "G09_S81     396672      0.438261           0.029337    496.241457      432.0             49.0           0.23160729               1070           0.15022992\n",
      "H01_S85     471058      0.438566           0.033743    395.729493      378.0             49.0           0.28714845               1818           0.20689172\n",
      "C06_S30     251902      0.445141           0.046756    343.813892      346.0             49.0           0.27794027               433            0.12943526\n",
      "C04_S28     309148      0.448381           0.02799     377.329122      377.0             50.0           0.28194436               1164           0.14312886\n",
      "F10_S70     218352      0.450584           0.042354    353.288258      354.0             48.0           0.24639684               553            0.10935096\n",
      "C10_S34     235916      0.451915           0.050018    331.038588      330.0             48.0           0.28446546               236            0.13773547\n",
      "B03_S15     284796      0.454915           0.036742    358.417691      357.0             50.0           0.29157597               539            0.14587986\n",
      "A05_S5      234230      0.456901           0.049204    337.598449      339.0             49.0           0.27232292               272            0.13444051\n",
      "C08_S32     317554      0.45933            0.041136    352.476899      353.0             49.0           0.3156271                587            0.1702797\n",
      "A07_S7      427750      0.463317           0.040549    355.978441      353.0             50.0           0.35594195               843            0.23498072\n",
      "D10_S46     338782      0.475143           0.037092    385.970697      373.0             50.0           0.2805243                1226           0.16362734\n",
      "B02_S14     342428      0.476614           0.037138    357.682414      357.0             49.0           0.32883596               704            0.18794024\n",
      "D02_S38     428488      0.500383           0.031375    391.395031      378.0             50.0           0.33284205               1448           0.22382423\n",
      "F12_S72     355584      0.515766           0.033283    443.872351      403.0             50.0           0.27963227               891            0.17497131\n",
      "C02_S26     364994      0.521795           0.033409    346.205659      343.0             50.0           0.37203074               607            0.2298531\n",
      "G10_S82     320700      0.522732           0.032108    388.130949      381.0             51.0           0.30769506               1240           0.1738416\n",
      "H06_S90     396624      0.568261           0.038273    360.183536      352.0             51.0           0.41290942               222            0.28200763\n"
     ]
    }
   ],
   "source": [
    "cut -f 1,4,10,13,17-18,20,49,55,56 /btl/analysis/SSF/SmartSeq2/MiSeq_QC/SSF-12355/SSF-12355_SmartSeqAnalysisV1.1_1/SSF-12355_SmartSeqAnalysisV1.1_1.1511986452036.MdReport.tsv | sort -nk3 | column -t\n"
   ]
  },
  {
   "cell_type": "code",
   "execution_count": 3,
   "metadata": {
    "collapsed": true
   },
   "outputs": [],
   "source": [
    "zcat /btl/data/MiSeq0/runs/SmartSeq2/171122_M03102_0462_000000000-BCYCH/Data/Intensities/BaseCalls/D06_S42_L001_R1_001.fastq.gz  | awk '(NR%4==2)' | cut -c1-11 | sort | uniq -c | sort -r > D06_S42_R1_cut1-11.out"
   ]
  },
  {
   "cell_type": "code",
   "execution_count": 5,
   "metadata": {
    "collapsed": false
   },
   "outputs": [
    {
     "name": "stdout",
     "output_type": "stream",
     "text": [
      "      9 TTGTAGGCTTA\n",
      "      9 TTCTGATGGTA\n",
      "      9 TTATTGTACAG\n",
      "      9 TTATAGAACAG\n",
      "      9 TTAAAGCTCCA\n",
      "      9 TGTTGAGCTTG\n",
      "      9 TGTAATAAGCT\n",
      "      9 TCCTACAACAG\n",
      "      9 TCCCAATGGGA\n",
      "      9 TCACTGAATTC\n"
     ]
    }
   ],
   "source": [
    "head D06_S42_R1_cut1-11.out"
   ]
  },
  {
   "cell_type": "markdown",
   "metadata": {},
   "source": [
    "compare with output for sample with better % align"
   ]
  },
  {
   "cell_type": "code",
   "execution_count": 6,
   "metadata": {
    "collapsed": false
   },
   "outputs": [
    {
     "name": "stdout",
     "output_type": "stream",
     "text": [
      "   2014 GTATCAACGCA\n",
      "   1680 TATCAACGCAG\n",
      "   1087 ACGCAGAGTAC\n",
      "   1056 GGTATCAACGC\n",
      "    536 GAATAACGCCG\n",
      "    509 CTATTGGAGCT\n",
      "    480 GATTAAGAGGG\n",
      "    463 GTTCAAAGCAG\n",
      "    460 CTTTAATATAC\n",
      "    436 GAATAGGACCG\n"
     ]
    }
   ],
   "source": [
    "head G10_S82_R1_cut1-11.out"
   ]
  },
  {
   "cell_type": "markdown",
   "metadata": {},
   "source": [
    "some percentage of reads seem to start with GGTATCAACGCAG (3 of the top 4 hits are related/offset from each other)\n"
   ]
  },
  {
   "cell_type": "markdown",
   "metadata": {},
   "source": [
    "see if bbmerge can predict the adaptor for either sample"
   ]
  },
  {
   "cell_type": "code",
   "execution_count": 8,
   "metadata": {
    "collapsed": false
   },
   "outputs": [
    {
     "name": "stdout",
     "output_type": "stream",
     "text": [
      "Prepending: Java-1.8 (ok)\n"
     ]
    }
   ],
   "source": [
    "eval export DK_ROOT=\"/broad/software/dotkit\"; . /broad/software/dotkit/ksh/.dk_init ; use Java-1.8"
   ]
  },
  {
   "cell_type": "code",
   "execution_count": 9,
   "metadata": {
    "collapsed": false
   },
   "outputs": [
    {
     "name": "stdout",
     "output_type": "stream",
     "text": [
      "java -Djava.library.path=/btl/analysis/ChIPseq/adaptor/bbmap/jni/ -ea -Xmx1000m -Xmx1000m -cp /btl/analysis/ChIPseq/adaptor/bbmap/current/ jgi.BBMerge in1=/btl/data/MiSeq0/runs/SmartSeq2/171122_M03102_0462_000000000-BCYCH/Data/Intensities/BaseCalls/G10_S82_L001_R1_001.fastq.gz in2=/btl/data/MiSeq0/runs/SmartSeq2/171122_M03102_0462_000000000-BCYCH/Data/Intensities/BaseCalls/G10_S82_L001_R2_001.fastq.gz outa=G10_S82_adapters.fa\n",
      "Executing jgi.BBMerge [in1=/btl/data/MiSeq0/runs/SmartSeq2/171122_M03102_0462_000000000-BCYCH/Data/Intensities/BaseCalls/G10_S82_L001_R1_001.fastq.gz, in2=/btl/data/MiSeq0/runs/SmartSeq2/171122_M03102_0462_000000000-BCYCH/Data/Intensities/BaseCalls/G10_S82_L001_R2_001.fastq.gz, outa=G10_S82_adapters.fa]\n",
      "\n",
      "BBMerge version 37.64\n",
      "Adapters counted: 0\n",
      "Total time: 1.902 seconds.\n",
      "\n",
      "Pairs:               \t160350\n",
      "Joined:              \t235       \t0.147%\n",
      "Ambiguous:           \t160115   \t99.853%\n",
      "No Solution:         \t0       \t0.000%\n",
      "Too Short:           \t0       \t0.000%\n",
      "\n",
      "Avg Insert:          \t38.0\n",
      "Standard Deviation:  \t1.7\n",
      "Mode:                \t38\n",
      "\n",
      "Insert range:        \t35 - 41\n",
      "90th percentile:     \t40\n",
      "75th percentile:     \t39\n",
      "50th percentile:     \t38\n",
      "25th percentile:     \t37\n",
      "10th percentile:     \t36\n"
     ]
    }
   ],
   "source": [
    "/btl/analysis/ChIPseq/adaptor/bbmap/bbmerge.sh in1=/btl/data/MiSeq0/runs/SmartSeq2/171122_M03102_0462_000000000-BCYCH/Data/Intensities/BaseCalls/G10_S82_L001_R1_001.fastq.gz in2=/btl/data/MiSeq0/runs/SmartSeq2/171122_M03102_0462_000000000-BCYCH/Data/Intensities/BaseCalls/G10_S82_L001_R2_001.fastq.gz outa=G10_S82_adapters.fa"
   ]
  },
  {
   "cell_type": "code",
   "execution_count": 10,
   "metadata": {
    "collapsed": false
   },
   "outputs": [
    {
     "name": "stdout",
     "output_type": "stream",
     "text": [
      ">Read1_adapter\n",
      "N\n",
      ">Read2_adapter\n",
      "N\n"
     ]
    }
   ],
   "source": [
    "more G10_S82_adapters.fa"
   ]
  },
  {
   "cell_type": "code",
   "execution_count": 11,
   "metadata": {
    "collapsed": false
   },
   "outputs": [
    {
     "name": "stdout",
     "output_type": "stream",
     "text": [
      "java -Djava.library.path=/btl/analysis/ChIPseq/adaptor/bbmap/jni/ -ea -Xmx1000m -Xmx1000m -cp /btl/analysis/ChIPseq/adaptor/bbmap/current/ jgi.BBMerge in1=/btl/data/MiSeq0/runs/SmartSeq2/171122_M03102_0462_000000000-BCYCH/Data/Intensities/BaseCalls/D06_S42_L001_R1_001.fastq.gz in2=/btl/data/MiSeq0/runs/SmartSeq2/171122_M03102_0462_000000000-BCYCH/Data/Intensities/BaseCalls/D06_S42_L001_R2_001.fastq.gz outa=D06_S42_adapters.fa\n",
      "Executing jgi.BBMerge [in1=/btl/data/MiSeq0/runs/SmartSeq2/171122_M03102_0462_000000000-BCYCH/Data/Intensities/BaseCalls/D06_S42_L001_R1_001.fastq.gz, in2=/btl/data/MiSeq0/runs/SmartSeq2/171122_M03102_0462_000000000-BCYCH/Data/Intensities/BaseCalls/D06_S42_L001_R2_001.fastq.gz, outa=D06_S42_adapters.fa]\n",
      "\n",
      "BBMerge version 37.64\n",
      "Adapters counted: 0\n",
      "Total time: 1.298 seconds.\n",
      "\n",
      "Pairs:               \t145338\n",
      "Joined:              \t523       \t0.360%\n",
      "Ambiguous:           \t144815   \t99.640%\n",
      "No Solution:         \t0       \t0.000%\n",
      "Too Short:           \t0       \t0.000%\n",
      "\n",
      "Avg Insert:          \t37.9\n",
      "Standard Deviation:  \t1.7\n",
      "Mode:                \t39\n",
      "\n",
      "Insert range:        \t35 - 41\n",
      "90th percentile:     \t40\n",
      "75th percentile:     \t39\n",
      "50th percentile:     \t38\n",
      "25th percentile:     \t37\n",
      "10th percentile:     \t36\n"
     ]
    }
   ],
   "source": [
    "/btl/analysis/ChIPseq/adaptor/bbmap/bbmerge.sh in1=/btl/data/MiSeq0/runs/SmartSeq2/171122_M03102_0462_000000000-BCYCH/Data/Intensities/BaseCalls/D06_S42_L001_R1_001.fastq.gz in2=/btl/data/MiSeq0/runs/SmartSeq2/171122_M03102_0462_000000000-BCYCH/Data/Intensities/BaseCalls/D06_S42_L001_R2_001.fastq.gz outa=D06_S42_adapters.fa"
   ]
  },
  {
   "cell_type": "code",
   "execution_count": 12,
   "metadata": {
    "collapsed": false
   },
   "outputs": [
    {
     "name": "stdout",
     "output_type": "stream",
     "text": [
      ">Read1_adapter\n",
      "N\n",
      ">Read2_adapter\n",
      "N\n"
     ]
    }
   ],
   "source": [
    "more D06_S42_adapters.fa"
   ]
  },
  {
   "cell_type": "raw",
   "metadata": {},
   "source": [
    "Tried blasting GGTATCAACGCAG to UniVec, no hits (sequence probably too short)"
   ]
  },
  {
   "cell_type": "markdown",
   "metadata": {},
   "source": [
    "number of fastq reads in my chosen samples"
   ]
  },
  {
   "cell_type": "code",
   "execution_count": 13,
   "metadata": {
    "collapsed": false
   },
   "outputs": [
    {
     "name": "stdout",
     "output_type": "stream",
     "text": [
      "160350\n"
     ]
    }
   ],
   "source": [
    "zcat /btl/data/MiSeq0/runs/SmartSeq2/171122_M03102_0462_000000000-BCYCH/Data/Intensities/BaseCalls/G10_S82_L001_R1_001.fastq.gz | awk '{s++}END{print s/4}' "
   ]
  },
  {
   "cell_type": "code",
   "execution_count": 14,
   "metadata": {
    "collapsed": false
   },
   "outputs": [
    {
     "name": "stdout",
     "output_type": "stream",
     "text": [
      "145338\n"
     ]
    }
   ],
   "source": [
    "zcat /btl/data/MiSeq0/runs/SmartSeq2/171122_M03102_0462_000000000-BCYCH/Data/Intensities/BaseCalls/D06_S42_L001_R1_001.fastq.gz | awk '{s++}END{print s/4}' "
   ]
  },
  {
   "cell_type": "markdown",
   "metadata": {},
   "source": [
    "GGTATCAACGCAG reads in G10_S82_R1 is 4600/160350 - not a lot 2.8% BUT 11 bases of 25 is a lot\n",
    "picard metrics say 3.2% adapter"
   ]
  },
  {
   "cell_type": "code",
   "execution_count": 15,
   "metadata": {
    "collapsed": false
   },
   "outputs": [
    {
     "name": "stdout",
     "output_type": "stream",
     "text": [
      "   2569 GTATCAAC\n",
      "   2366 GTACATGG\n",
      "   1986 TATCAACG\n",
      "   1255 GGTATCAA\n",
      "   1174 ACGCAGAG\n",
      "    507 GAGTACAT\n",
      "    395 ATCAACGC\n",
      "    353 GTGTGTGT\n",
      "    324 CACACACA\n",
      "    290 GATTAAAC\n"
     ]
    }
   ],
   "source": [
    "head D06_S42_R1_cut1-8.out "
   ]
  },
  {
   "cell_type": "markdown",
   "metadata": {},
   "source": [
    "5,810 of 145338 reads (3.9%) start first 8 bases of read with some variant on GGTATCAACGCAG \n",
    "picard metrics say 4.5% adapter"
   ]
  },
  {
   "cell_type": "code",
   "execution_count": 16,
   "metadata": {
    "collapsed": false
   },
   "outputs": [
    {
     "name": "stdout",
     "output_type": "stream",
     "text": [
      "java -Djava.library.path=/btl/analysis/ChIPseq/adaptor/bbmap/jni/ -ea -Xmx1000m -Xmx1000m -cp /btl/analysis/ChIPseq/adaptor/bbmap/current/ jgi.BBMerge in1=/btl/data/MiSeq0/runs/SmartSeq2/171122_M03102_0462_000000000-BCYCH/Data/Intensities/BaseCalls/D06_S42_L001_R1_001.fastq.gz outa=D06_S42_R1_adapters.fa\n",
      "Executing jgi.BBMerge [in1=/btl/data/MiSeq0/runs/SmartSeq2/171122_M03102_0462_000000000-BCYCH/Data/Intensities/BaseCalls/D06_S42_L001_R1_001.fastq.gz, outa=D06_S42_R1_adapters.fa]\n",
      "\n",
      "BBMerge version 37.64\n",
      "Adapters counted: 0\n",
      "Total time: 0.946 seconds.\n",
      "\n",
      "Pairs:               \t72669\n",
      "Joined:              \t5       \t0.007%\n",
      "Ambiguous:           \t72664   \t99.993%\n",
      "No Solution:         \t0       \t0.000%\n",
      "Too Short:           \t0       \t0.000%\n",
      "\n",
      "Avg Insert:          \t37.4\n",
      "Standard Deviation:  \t1.0\n",
      "Mode:                \t37\n",
      "\n",
      "Insert range:        \t36 - 39\n",
      "90th percentile:     \t38\n",
      "75th percentile:     \t37\n",
      "50th percentile:     \t37\n",
      "25th percentile:     \t36\n",
      "10th percentile:     \t0\n"
     ]
    }
   ],
   "source": [
    "/btl/analysis/ChIPseq/adaptor/bbmap/bbmerge.sh in1=/btl/data/MiSeq0/runs/SmartSeq2/171122_M03102_0462_000000000-BCYCH/Data/Intensities/BaseCalls/D06_S42_L001_R1_001.fastq.gz outa=D06_S42_R1_adapters.fa "
   ]
  },
  {
   "cell_type": "code",
   "execution_count": 17,
   "metadata": {
    "collapsed": false
   },
   "outputs": [
    {
     "name": "stdout",
     "output_type": "stream",
     "text": [
      ">Read1_adapter\n",
      "N\n",
      ">Read2_adapter\n",
      "N\n"
     ]
    }
   ],
   "source": [
    "more D06_S42_R1_adapters.fa\n"
   ]
  },
  {
   "cell_type": "markdown",
   "metadata": {},
   "source": [
    "On lager, run read_QC on G10"
   ]
  }
 ],
 "metadata": {
  "kernelspec": {
   "display_name": "Bash",
   "language": "bash",
   "name": "bash"
  },
  "language_info": {
   "codemirror_mode": "shell",
   "file_extension": ".sh",
   "mimetype": "text/x-sh",
   "name": "bash"
  }
 },
 "nbformat": 4,
 "nbformat_minor": 0
}
