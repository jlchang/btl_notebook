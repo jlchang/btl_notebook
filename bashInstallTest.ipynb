{
 "cells": [
  {
   "cell_type": "markdown",
   "metadata": {},
   "source": [
    "juptyerhub is using .anaconda3-4.0.0 dotkit"
   ]
  },
  {
   "cell_type": "code",
   "execution_count": 2,
   "metadata": {},
   "outputs": [
    {
     "name": "stdout",
     "output_type": "stream",
     "text": [
      "alabaster (0.7.7)\n",
      "anaconda-client (1.4.0)\n",
      "anaconda-navigator (1.1.0)\n",
      "argcomplete (1.0.0)\n",
      "astropy (1.1.2)\n",
      "Babel (2.2.0)\n",
      "bash-kernel (0.6)\n",
      "batchspawner (0.0.1.dev0, /broad/software/build/source/development/anaconda/batchspawner/batchspawner)\n",
      "beautifulsoup4 (4.4.1)\n",
      "bitarray (0.8.1)\n",
      "blaze (0.9.1)\n",
      "bokeh (0.11.1)\n",
      "boto (2.40.0)\n",
      "Bottleneck (1.0.0)\n",
      "cffi (1.5.2)\n",
      "chest (0.2.3)\n",
      "cloudpickle (0.1.1)\n",
      "clyent (1.2.1)\n",
      "colorama (0.3.7)\n",
      "conda (4.3.13)\n",
      "conda-build (1.20.0)\n",
      "conda-manager (0.3.1)\n",
      "configobj (5.0.6)\n",
      "cryptography (1.7.1)\n",
      "cycler (0.10.0)\n",
      "Cython (0.23.4)\n",
      "cytoolz (0.7.5)\n",
      "dask (0.8.1)\n",
      "datashape (0.5.1)\n",
      "decorator (4.0.10)\n",
      "dill (0.2.4)\n",
      "docutils (0.12)\n",
      "dynd (0.7.3.dev1)\n",
      "et-xmlfile (1.0.1)\n",
      "fastcache (1.0.2)\n",
      "filechunkio (1.6)\n",
      "Flask (0.10.1)\n",
      "Flask-Cors (2.1.2)\n",
      "gevent (1.1.0)\n",
      "google-api-python-client (1.5.5)\n",
      "greenlet (0.4.9)\n",
      "h5py (2.6.0)\n",
      "HeapDict (1.0.0)\n",
      "httplib2 (0.9.2)\n",
      "idna (2.0)\n",
      "ipykernel (4.3.1)\n",
      "ipython (4.1.2)\n",
      "ipython-genutils (0.1.0)\n",
      "ipywidgets (4.1.1)\n",
      "itsdangerous (0.24)\n",
      "jdcal (1.2)\n",
      "jedi (0.9.0)\n",
      "Jinja2 (2.8)\n",
      "jsonschema (2.4.0)\n",
      "jupyter (1.0.0)\n",
      "jupyter-client (4.2.2)\n",
      "jupyter-console (4.1.1)\n",
      "jupyter-core (4.1.0)\n",
      "jupyterhub (0.6.1)\n",
      "llvmlite (0.11.0)\n",
      "locket (0.2.0)\n",
      "lxml (3.6.0)\n",
      "MarkupSafe (0.23)\n",
      "matplotlib (1.5.1)\n",
      "mistune (0.7.2)\n",
      "mpmath (0.19)\n",
      "multipledispatch (0.4.8)\n",
      "mysql-connector-python (2.0.4)\n",
      "nbconvert (4.1.0)\n",
      "nbformat (4.0.1)\n",
      "networkx (1.11)\n",
      "nltk (3.2)\n",
      "nose (1.3.7)\n",
      "notebook (4.2.0)\n",
      "numba (0.26.0)\n",
      "numexpr (2.5.2)\n",
      "numpy (1.11.0)\n",
      "oauth2client (4.0.0)\n",
      "odo (0.4.2)\n",
      "openpyxl (2.3.2)\n",
      "pamela (0.2.1)\n",
      "pandas (0.18.0)\n",
      "partd (0.3.2)\n",
      "path.py (0.0.0)\n",
      "patsy (0.4.1)\n",
      "pep8 (1.7.0)\n",
      "pexpect (4.0.1)\n",
      "pickleshare (0.5)\n",
      "Pillow (3.1.1)\n",
      "pip (9.0.1)\n",
      "ply (3.8)\n",
      "psutil (4.1.0)\n",
      "ptyprocess (0.5)\n",
      "py (1.4.31)\n",
      "pyasn1 (0.1.9)\n",
      "pyasn1-modules (0.0.8)\n",
      "pycosat (0.6.1)\n",
      "pycparser (2.14)\n",
      "pycrypto (2.6.1)\n",
      "pycurl (7.19.5.3)\n",
      "pyflakes (1.1.0)\n",
      "Pygments (2.1.1)\n",
      "pyOpenSSL (16.2.0)\n",
      "pyparsing (2.0.3)\n",
      "pytest (2.8.5)\n",
      "python-dateutil (2.5.1)\n",
      "pytz (2016.2)\n",
      "PyVCF (0.6.8)\n",
      "PyYAML (3.11)\n",
      "pyzmq (15.2.0)\n",
      "QtAwesome (0.3.2)\n",
      "qtconsole (4.2.0)\n",
      "QtPy (1.0)\n",
      "redis (2.10.3)\n",
      "requests (2.12.4)\n",
      "rope-py3k (0.9.4.post1)\n",
      "rsa (3.4.2)\n",
      "ruamel-yaml (-VERSION)\n",
      "scikit-image (0.12.3)\n",
      "scikit-learn (0.17.1)\n",
      "scipy (0.17.1)\n",
      "setuptools (27.2.0)\n",
      "simplegeneric (0.8.1)\n",
      "singledispatch (3.4.0.3)\n",
      "six (1.10.0)\n",
      "snowballstemmer (1.2.1)\n",
      "sockjs-tornado (1.0.1)\n",
      "Sphinx (1.3.5)\n",
      "sphinx-rtd-theme (0.1.9)\n",
      "spyder (2.3.8)\n",
      "SQLAlchemy (1.0.15)\n",
      "statsmodels (0.6.1)\n",
      "sympy (1.0)\n",
      "tables (3.2.2)\n",
      "terminado (0.5)\n",
      "toolz (0.7.4)\n",
      "tornado (4.4.1)\n",
      "traitlets (4.3.0)\n",
      "unicodecsv (0.14.1)\n",
      "uritemplate (3.0.0)\n",
      "Werkzeug (0.11.4)\n",
      "wheel (0.29.0)\n",
      "xlrd (0.9.4)\n",
      "XlsxWriter (0.8.4)\n",
      "xlwt (1.0.0)\n"
     ]
    },
    {
     "name": "stderr",
     "output_type": "stream",
     "text": [
      "DEPRECATION: The default format will switch to columns in the future. You can use --format=(legacy|columns) (or define a format=(legacy|columns) in your pip.conf under the [list] section) to disable this warning.\n"
     ]
    }
   ],
   "source": [
    "%%bash\n",
    " pip list \n",
    " "
   ]
  },
  {
   "cell_type": "code",
   "execution_count": 3,
   "metadata": {},
   "outputs": [
    {
     "ename": "SyntaxError",
     "evalue": "invalid syntax (<ipython-input-3-f2738af2699d>, line 1)",
     "output_type": "error",
     "traceback": [
      "\u001b[1;36m  File \u001b[1;32m\"<ipython-input-3-f2738af2699d>\"\u001b[1;36m, line \u001b[1;32m1\u001b[0m\n\u001b[1;33m    python -m bash_kernel.install --user\u001b[0m\n\u001b[1;37m                        ^\u001b[0m\n\u001b[1;31mSyntaxError\u001b[0m\u001b[1;31m:\u001b[0m invalid syntax\n"
     ]
    }
   ],
   "source": [
    "%%bash\n",
    "eval export DK_ROOT=\"/broad/software/dotkit\"; . /broad/software/dotkit/ksh/.dk_init ; use .anaconda3-4.0.0\n",
    "python -m bash_kernel.install --user\n"
   ]
  },
  {
   "cell_type": "code",
   "execution_count": 3,
   "metadata": {},
   "outputs": [
    {
     "name": "stdout",
     "output_type": "stream",
     "text": [
      "Available kernels:\n",
      "  python3    /broad/software/free/Linux/redhat_6_x86_64/pkgs/anaconda3_4.0.0/lib/python3.5/site-packages/ipykernel/resources\n",
      "  bash       /home/unix/jlchang/.local/share/jupyter/kernels/bash\n"
     ]
    }
   ],
   "source": [
    "%%bash\n",
    "eval export DK_ROOT=\"/broad/software/dotkit\"; . /broad/software/dotkit/ksh/.dk_init ; use .anaconda3-4.0.0\n",
    "jupyter kernelspec list"
   ]
  },
  {
   "cell_type": "code",
   "execution_count": null,
   "metadata": {
    "collapsed": true
   },
   "outputs": [],
   "source": []
  }
 ],
 "metadata": {
  "kernelspec": {
   "display_name": "Python 3",
   "language": "python",
   "name": "python3"
  },
  "language_info": {
   "codemirror_mode": {
    "name": "ipython",
    "version": 3
   },
   "file_extension": ".py",
   "mimetype": "text/x-python",
   "name": "python",
   "nbconvert_exporter": "python",
   "pygments_lexer": "ipython3",
   "version": "3.6.1"
  }
 },
 "nbformat": 4,
 "nbformat_minor": 1
}
