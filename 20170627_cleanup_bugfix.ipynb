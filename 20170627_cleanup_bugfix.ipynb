{
 "cells": [
  {
   "cell_type": "code",
   "execution_count": 1,
   "metadata": {
    "collapsed": false
   },
   "outputs": [
    {
     "name": "stdout",
     "output_type": "stream",
     "text": [
      "/btl/data/cleanup\n"
     ]
    }
   ],
   "source": [
    "cd /btl/data/cleanup"
   ]
  },
  {
   "cell_type": "code",
   "execution_count": 6,
   "metadata": {
    "collapsed": false
   },
   "outputs": [
    {
     "name": "stdout",
     "output_type": "stream",
     "text": [
      "ARCHIVE:\r\n",
      "To archive a directory (must be a subdirectory of /btl/projects or /btl/data) simply add the absolute path to the file\r\n",
      "archiveList (one directory per line, WITHOUT ending \"/\"s) and then (on a node with SGE access such as stout)\r\n",
      "execute archiveSubmit.\r\n",
      "\r\n",
      "The archived files are placed in /btl/archive/data or /btl/archive/projects with a subdirectory of whatever comes after\r\n",
      "/btl/projects or /btl/data in the input spec.  For example, if there's a directory /btl/projects/SSF/P1/myDir being\r\n",
      "archived it will wind up in /btl/archive/projects/SSF/P1/myDir.tar.gz\r\n",
      "\r\n",
      "\r\n",
      "CLEANUP:\r\n",
      "To cleanup additional directories add a line to the cleanupCrontab file and then, on stout, reset the crontab job for\r\n",
      "nnovod to be what cleanupCrontab contains.\r\n",
      "\r\n",
      "Each job is submitted via the cleanupSubmit script with 2 mandatory parameters and 1 optional one:\r\n",
      "action directory optional_number_of_days\r\n",
      "where\r\n",
      "action is either zipup or laneCleanup - zipup to zipup fasta files, laneCleanup to cleanup sequencer binary files and\r\n",
      "then archive the run directory\r\n",
      "\r\n",
      "directory is where to look for files (unlimited depth searched) - this is usually a MiSeq run directory\r\n",
      "\r\n",
      "optional_number_of_days is an optional parameters specifying the minimum number of days old the files must be before\r\n",
      "they are zipped or deleted, by default this is 60 for laneCleanup and 70 for zipup\r\n",
      "\r\n",
      "See cleanupCrontab for examples of cleanupSubmit usage.\r\n",
      "\r\n",
      "\r\n",
      "Logging of results:\r\n",
      "All actions are logged in the logs subdirectory with names that include the date when the job was submitted.\r\n"
     ]
    }
   ],
   "source": [
    "cat README"
   ]
  },
  {
   "cell_type": "code",
   "execution_count": 17,
   "metadata": {
    "collapsed": false
   },
   "outputs": [
    {
     "name": "stdout",
     "output_type": "stream",
     "text": [
      "-rw-r--r-- 1 nnovod  btl        68 Jun 13 00:00 zipup.MiSeq0.20170613000006.log\r\n",
      "-rw-r--r-- 1 nnovod  btl     37190 Jun 14 00:00 zipup.seq.20170614000006.log\r\n",
      "-rw-r--r-- 1 nnovod  btl  10478260 Jun 15 03:38 laneCleanup.MiSeq0.20170615000008.log\r\n",
      "-rw-r--r-- 1 nnovod  btl       457 Jun 16 00:01 laneCleanup.seq.20170616000022.log\r\n",
      "-rw-r--r-- 1 nnovod  btl        68 Jun 20 00:00 zipup.MiSeq0.20170620000010.log\r\n",
      "-rw-r--r-- 1 nnovod  btl     37190 Jun 21 00:00 zipup.seq.20170621000004.log\r\n",
      "-rw-r--r-- 1 nnovod  btl  10406031 Jun 22 01:11 laneCleanup.MiSeq0.20170622000005.log\r\n",
      "-rw-r--r-- 1 nnovod  btl       457 Jun 23 00:00 laneCleanup.seq.20170623000005.log\r\n",
      "-rw-r--r-- 1 nnovod  btl        68 Jun 27 00:00 zipup.MiSeq0.20170627000004.log\r\n",
      "\u001b[m"
     ]
    }
   ],
   "source": [
    "ls -lrt logs | tail "
   ]
  },
  {
   "cell_type": "code",
   "execution_count": 11,
   "metadata": {
    "collapsed": false
   },
   "outputs": [
    {
     "name": "stdout",
     "output_type": "stream",
     "text": [
      "Looking in /btl/data/MiSeq0 for fasta files 70 days old to compress\r\n"
     ]
    }
   ],
   "source": [
    "cat logs/zipup.MiSeq0.20170627000004.log"
   ]
  },
  {
   "cell_type": "code",
   "execution_count": 18,
   "metadata": {
    "collapsed": false
   },
   "outputs": [
    {
     "name": "stdout",
     "output_type": "stream",
     "text": [
      "-rw-r--r-- 1 nnovod  btl  82967830 Feb 11 04:31 archive.20170131132112.log\r\n",
      "-rw-r--r-- 1 nnovod  btl 181984100 Feb 24 21:34 archive.20170214100818.log\r\n",
      "-rw-r--r-- 1 nnovod  btl    214469 Feb 27 17:03 archive.20170227111151.log\r\n",
      "-rw-r--r-- 1 nnovod  btl    199515 Feb 27 19:51 archive.20170227111158.log\r\n",
      "-rw-r--r-- 1 nnovod  btl    196536 Feb 27 21:30 archive.20170227111141.log\r\n",
      "-rw-r--r-- 1 tshea   btl  16862158 Mar 12 20:47 archive.20170308140049.log\r\n",
      "-rw-r--r-- 1 gaag    btl       273 May 11 16:07 archive.20170511160701.log\r\n",
      "-rw-r--r-- 1 jlchang btl       273 May 12 12:08 archive.20170512120854.log\r\n",
      "-rw-r--r-- 1 jlchang btl  11246709 May 20 17:15 archive.20170518132732.log\r\n",
      "-rw-r--r-- 1 jlchang btl  18558405 May 25 13:29 archive.20170523130204.log\r\n"
     ]
    }
   ],
   "source": [
    "ls -lrt logs | grep -i archive | tail"
   ]
  },
  {
   "cell_type": "raw",
   "metadata": {},
   "source": [
    "in archiveList from last archive\n",
    "drwxrwxr-x  7 tshea   btl       7 Jan 11 15:36 SSF-1792\n",
    "drwxrwxr-x  3 tshea   gaaggrp   3 May 24 23:48 SSF-2060\n",
    "drwxrwxr-x  6 tshea   gaaggrp   6 Jan 11 15:36 SSF-2061\n",
    "drwxrwxr-x  6 tshea   gaaggrp   6 Jan 11 15:35 SSF-2062\n",
    "\n",
    "BUT these are still in /btl/projects/SSF/P1 - WHY???"
   ]
  },
  {
   "cell_type": "code",
   "execution_count": 22,
   "metadata": {
    "collapsed": false
   },
   "outputs": [
    {
     "name": "stdout",
     "output_type": "stream",
     "text": [
      "/btl/projects/SSF/P1/SSF-1792/analysis:\n",
      "\u001b[0m\u001b[01;34mA01_A01_CailinJoyce\u001b[0m/  \u001b[01;34mA10_A10_CailinJoyce\u001b[0m/  \u001b[01;34mB07_Spike_in_A01_CailinJoyce\u001b[0m/\n",
      "\u001b[01;34mA02_A02_CailinJoyce\u001b[0m/  \u001b[01;34mA11_A11_CailinJoyce\u001b[0m/  \u001b[01;34mB08_Spike_In_A03_CailinJoyce\u001b[0m/\n",
      "\u001b[01;34mA03_A03_CailinJoyce\u001b[0m/  \u001b[01;34mA12_A12_CailinJoyce\u001b[0m/  \u001b[01;34mB09_Spike_in_A05_CailinJoyce\u001b[0m/\n",
      "\u001b[01;34mA04_A04_CailinJoyce\u001b[0m/  \u001b[01;34mB01_B01_CailinJoyce\u001b[0m/  \u001b[01;34mB10_Spike_in_A07_CailinJoyce\u001b[0m/\n",
      "\u001b[01;34mA05_A05_CailinJoyce\u001b[0m/  \u001b[01;34mB02_B02_CailinJoyce\u001b[0m/  \u001b[01;34mB11_Spike_in_A09_CailinJoyce\u001b[0m/\n",
      "\u001b[01;34mA06_A06_CailinJoyce\u001b[0m/  \u001b[01;34mB03_B03_CailinJoyce\u001b[0m/  \u001b[01;34mB12_Spike_in_A11_CailinJoyce\u001b[0m/\n",
      "\u001b[01;34mA07_A07_CailinJoyce\u001b[0m/  \u001b[01;34mB04_B04_CailinJoyce\u001b[0m/  \u001b[01;34mERCC\u001b[0m/\n",
      "\u001b[01;34mA08_A08_CailinJoyce\u001b[0m/  \u001b[01;34mB05_B05_CailinJoyce\u001b[0m/  \u001b[01;34mpicard_metrics\u001b[0m/\n",
      "\u001b[01;34mA09_A09_CailinJoyce\u001b[0m/  \u001b[01;34mB06_B06_CailinJoyce\u001b[0m/  SSF-1792.1.EntryCreator.json\n",
      "\n",
      "/btl/projects/SSF/P1/SSF-1792/btl:\n",
      "\u001b[01;34mprojects\u001b[0m/\n",
      "\n",
      "/btl/projects/SSF/P1/SSF-1792/data:\n",
      "\n",
      "/btl/projects/SSF/P1/SSF-1792/read_analysis:\n",
      "fq.list  read_qc.metrics.txt\n",
      "\n",
      "/btl/projects/SSF/P1/SSF-1792/SSF-1792_p1_1:\n",
      "SSF-1792.merged_tophat_read_qc.metrics.human.txt\n",
      "SSF-1792.merged_tophat_read_qc.metrics.mouse.txt\n",
      "SSF-1792.th.dat\n",
      "SSF-1792.th.human.dat\n",
      "SSF-1792.th.mouse.dat\n",
      "SSF-1792.tophat_metrics.human.txt\n",
      "SSF-1792.tophat_metrics.mouse.txt\n",
      "walkup.txt\n",
      "\u001b[m"
     ]
    }
   ],
   "source": [
    "ls  /btl/projects/SSF/P1/SSF-1792/*"
   ]
  },
  {
   "cell_type": "code",
   "execution_count": 24,
   "metadata": {
    "collapsed": false
   },
   "outputs": [
    {
     "name": "stdout",
     "output_type": "stream",
     "text": [
      "-rw-rw-r-- 1 jlchang btl 198G May 23 23:20 /btl/archive/projects/SSF/P1/SSF-1792.tar.gz\r\n"
     ]
    }
   ],
   "source": [
    "ls -lh /btl/archive/projects/SSF/P1/SSF-1792.tar.gz"
   ]
  },
  {
   "cell_type": "code",
   "execution_count": 25,
   "metadata": {
    "collapsed": false
   },
   "outputs": [
    {
     "name": "stdout",
     "output_type": "stream",
     "text": [
      "-rw-rw-r-- 1 jlchang btl 226G May 24 23:48 /btl/archive/projects/SSF/P1/SSF-2060.tar.gz\r\n"
     ]
    }
   ],
   "source": [
    "ls -lh /btl/archive/projects/SSF/P1/SSF-2060.tar.gz"
   ]
  },
  {
   "cell_type": "code",
   "execution_count": 26,
   "metadata": {
    "collapsed": false
   },
   "outputs": [
    {
     "name": "stdout",
     "output_type": "stream",
     "text": [
      "total 3.0K\r\n",
      "drwxr-xr-x+ 28 stowey broad 30 Dec 29 17:57 \u001b[0m\u001b[01;34manalysis\u001b[0m/\r\n",
      "\u001b[m"
     ]
    }
   ],
   "source": [
    "ls -lh /btl/projects/SSF/P1/SSF-2060"
   ]
  },
  {
   "cell_type": "code",
   "execution_count": null,
   "metadata": {
    "collapsed": true
   },
   "outputs": [],
   "source": []
  }
 ],
 "metadata": {
  "kernelspec": {
   "display_name": "Python 3",
   "language": "python",
   "name": "python3"
  },
  "language_info": {
   "codemirror_mode": {
    "name": "ipython",
    "version": 3
   },
   "file_extension": ".py",
   "mimetype": "text/x-python",
   "name": "python",
   "nbconvert_exporter": "python",
   "pygments_lexer": "ipython3",
   "version": "3.5.1"
  }
 },
 "nbformat": 4,
 "nbformat_minor": 0
}
