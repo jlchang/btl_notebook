{
 "cells": [
  {
   "cell_type": "raw",
   "metadata": {},
   "source": [
    "http://www.gettinggeneticsdone.com/2014/03/visualize-coverage-exome-targeted-ngs-bedtools.html"
   ]
  },
  {
   "cell_type": "raw",
   "metadata": {},
   "source": []
  },
  {
   "cell_type": "raw",
   "metadata": {},
   "source": [
    "bedtools coverage -hist -abam //btl/data/walkup/SMART-Seq/SSF-2059/data/HYYV7BGXY/C1-83_2016-12-08_2016-12-08/1/GTEX_13O61_5001/HYYV7BGXY.1.aligned.duplicates_marked.bam -b /cil/shed/sandboxes/jlchang/ChIPseq/SSFDEV-207/paired_fastq_noP_nth2/SM-DTCCL_paired/peak/macs2/rep1/SM-DTCCL.1.PE2SE.nodup.broadPeak.gz | grep ^all > samp.01.bam.hist.all.txt"
   ]
  },
  {
   "cell_type": "raw",
   "metadata": {},
   "source": [
    "***** WARNING: File //btl/data/walkup/SMART-Seq/SSF-2059/data/HYYV7BGXY/C1-83_2016-12-08_2016-12-08/1/GTEX_13O61_5001/HYYV7BGXY.1.aligned.duplicates_marked.bam has inconsistent naming convention for record:\n",
    "1\t9995\t10030\tHYYV7BGXY161208:1:22308:15952:7908/1\t25\t-\n",
    "\n",
    "***** WARNING: File //btl/data/walkup/SMART-Seq/SSF-2059/data/HYYV7BGXY/C1-83_2016-12-08_2016-12-08/1/GTEX_13O61_5001/HYYV7BGXY.1.aligned.duplicates_marked.bam has inconsistent naming convention for record:\n",
    "1\t9995\t10030\tHYYV7BGXY161208:1:22308:15952:7908/1\t25\t-"
   ]
  },
  {
   "cell_type": "raw",
   "metadata": {},
   "source": [
    "error may be 1. space in read name or 2. bed and bam aligned to different genome versions"
   ]
  }
 ],
 "metadata": {
  "kernelspec": {
   "display_name": "Bash",
   "language": "bash",
   "name": "bash"
  },
  "language_info": {
   "codemirror_mode": "shell",
   "file_extension": ".sh",
   "mimetype": "text/x-sh",
   "name": "bash"
  }
 },
 "nbformat": 4,
 "nbformat_minor": 0
}
