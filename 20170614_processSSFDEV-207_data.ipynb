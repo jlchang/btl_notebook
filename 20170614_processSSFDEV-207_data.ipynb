{
 "cells": [
  {
   "cell_type": "markdown",
   "metadata": {},
   "source": []
  },
  {
   "cell_type": "markdown",
   "metadata": {},
   "source": [
    "AQUAS configuration info:\n",
    "tie job host to submit cluster in\n",
    "/cil/shed/apps/external/AQUAS/20170503_install/20170503_39a6383/chipseq_pipeline-master/default.env\n",
    "\n",
    "database info in \n",
    "/cil/shed/apps/external/AQUAS/genome_data/aquas_chipseq_species.conf"
   ]
  },
  {
   "cell_type": "raw",
   "metadata": {},
   "source": [
    "8 fastq per sample, 4 read1, 4 read2\n",
    "raw data location:\n",
    "/btl/data/walkup/ChIPSeq/SSFDEV-207/data/HWFLLBGXY/C1-83_2017-05-06_2017-05-06/[1-4]/HWFLLBGXY.[1-4].<barcode>.unmapped.[12].fastq.gz\n",
    "\n",
    "Sample to barcode mapping\n",
    "SM-DTCCL\tACACGATC\n",
    "SM-DTCDM\tCATGCTTA\n",
    "SM-DTCCM\tTGTTCCGA\n",
    "SM-DTCDN\tAGGATCTA\n",
    "SM-DTCCN\tCATGATCG\n",
    "SM-DTCDO \tTCTGGCGA\n",
    "SM-DTCCO\tCGTTACCA\n",
    "SM-DTCDP\tAGGTTATC\n",
    "SM-DTCCP\tTCCTTGGT\n",
    "SM-DTCDQ\tGTCTGATG\n",
    "SM-DTCCQ\tAACGCATT\n",
    "SM-DTCDR\tCCAACATT\n",
    "SM-DTCCR \tACAGGTAT\n",
    "SM-DTCDS\tCAACTCTC\n",
    "SM-DTCCS\tAGGTAAGG\n",
    "SM-DTCDT \tATTCCTCT\n",
    "SM-DTCCT\tAACAATGG\n",
    "SM-DTCDU\tCTAACTCG\n",
    "SM-DTCCU\tACTGTATC\n",
    "SM-DTCDV\tCTGCGGAT"
   ]
  },
  {
   "cell_type": "code",
   "execution_count": 2,
   "metadata": {
    "collapsed": false
   },
   "outputs": [
    {
     "name": "stdout",
     "output_type": "stream",
     "text": [
      "-rwxrwxr-x 1 jboch btl 152M May  8 09:19 /btl/data/walkup/ChIPSeq/SSFDEV-207/data/HWFLLBGXY/C1-83_2017-05-06_2017-05-06/1/HWFLLBGXY.1.ACACGATC.unmapped.1.fastq.gz\n",
      "-rwxrwxr-x 1 jboch btl 159M May  8 09:12 /btl/data/walkup/ChIPSeq/SSFDEV-207/data/HWFLLBGXY/C1-83_2017-05-06_2017-05-06/1/HWFLLBGXY.1.ACACGATC.unmapped.2.fastq.gz\n",
      "-rwxrwxr-x 1 jboch btl 152M May  8 08:42 /btl/data/walkup/ChIPSeq/SSFDEV-207/data/HWFLLBGXY/C1-83_2017-05-06_2017-05-06/2/HWFLLBGXY.2.ACACGATC.unmapped.1.fastq.gz\n",
      "-rwxrwxr-x 1 jboch btl 159M May  8 08:46 /btl/data/walkup/ChIPSeq/SSFDEV-207/data/HWFLLBGXY/C1-83_2017-05-06_2017-05-06/2/HWFLLBGXY.2.ACACGATC.unmapped.2.fastq.gz\n",
      "-rwxrwxr-x 1 jboch btl 153M May  8 08:52 /btl/data/walkup/ChIPSeq/SSFDEV-207/data/HWFLLBGXY/C1-83_2017-05-06_2017-05-06/3/HWFLLBGXY.3.ACACGATC.unmapped.1.fastq.gz\n",
      "-rwxrwxr-x 1 jboch btl 160M May  8 09:00 /btl/data/walkup/ChIPSeq/SSFDEV-207/data/HWFLLBGXY/C1-83_2017-05-06_2017-05-06/3/HWFLLBGXY.3.ACACGATC.unmapped.2.fastq.gz\n",
      "-rwxrwxr-x 1 jboch btl 154M May  8 09:00 /btl/data/walkup/ChIPSeq/SSFDEV-207/data/HWFLLBGXY/C1-83_2017-05-06_2017-05-06/4/HWFLLBGXY.4.ACACGATC.unmapped.1.fastq.gz\n",
      "-rwxrwxr-x 1 jboch btl 162M May  8 09:11 /btl/data/walkup/ChIPSeq/SSFDEV-207/data/HWFLLBGXY/C1-83_2017-05-06_2017-05-06/4/HWFLLBGXY.4.ACACGATC.unmapped.2.fastq.gz\n"
     ]
    }
   ],
   "source": [
    "ls -lh /btl/data/walkup/ChIPSeq/SSFDEV-207/data/HWFLLBGXY/C1-83_2017-05-06_2017-05-06/[1-4]/HWFLLBGXY.[1-4].ACACGATC.unmapped.[12].fastq.gz"
   ]
  },
  {
   "cell_type": "code",
   "execution_count": 3,
   "metadata": {
    "collapsed": true
   },
   "outputs": [],
   "source": [
    "cd /cil/shed/sandboxes/jlchang/ChIPseq/SSFDEV-207/"
   ]
  },
  {
   "cell_type": "code",
   "execution_count": 4,
   "metadata": {
    "collapsed": true
   },
   "outputs": [],
   "source": [
    "cat /btl/data/walkup/ChIPSeq/SSFDEV-207/data/HWFLLBGXY/C1-83_2017-05-06_2017-05-06/[1-4]/HWFLLBGXY.[1-4].ACACGATC.unmapped.[12].fastq.gz > SM-DTCCL.fastq.gz "
   ]
  },
  {
   "cell_type": "raw",
   "metadata": {},
   "source": [
    "access software through dotkit\n",
    "    use group=btl\n",
    "    use .aquas-201706\n",
    "software location: /cil/shed/apps/external/AQUAS/20170503_install/20170503_39a6383/chipseq_pipeline-master\n",
    "\n",
    "cd /cil/shed/sandboxes/jlchang/ChIPseq/SSFDEV-207/\n",
    "use UGER\n",
    "qsub run_aquas.sh\n",
    "\n",
    "#!/bin/bash\n",
    "\n",
    "#$ -cwd\n",
    "#$ -l h_vmem=10G\n",
    "#$ -q long\n",
    "\n",
    "source /broad/software/scripts/useuse\n",
    "use -q group=btl\n",
    "use -q .aquas-201706\n",
    "\n",
    "python /cil/shed/apps/external/AQUAS/20170503_install/20170503_39a6383/chipseq_pipeline-master/chipseq.py SM-DTCCL.conf"
   ]
  },
  {
   "cell_type": "raw",
   "metadata": {},
   "source": [
    "Barcodes info in /cil/shed/sandboxes/jlchang/ChIPseq/SSFDEV-207/paired_fastq/barcodes.txt\n",
    "create paired fastq files using\n",
    "cat /btl/data/walkup/ChIPSeq/SSFDEV-207/data/HWFLLBGXY/C1-83_2017-05-06_2017-05-06/*/HWFLLBGXY.*.ACACGATC.unmapped.1.fastq.gz > SM-DTCCL.1.fastq.gz\n",
    "cat /btl/data/walkup/ChIPSeq/SSFDEV-207/data/HWFLLBGXY/C1-83_2017-05-06_2017-05-06/*/HWFLLBGXY.*.ACACGATC.unmapped.2.fastq.gz > SM-DTCCL.2.fastq.gz\n",
    "\n",
    "try UGER\n",
    "use script run_chipseq_bds.sh with contents:\n",
    "#!/bin/bash\n",
    "\n",
    "#$ -cwd\n",
    "#$ -l h_vmem=20G\n",
    "#$ -q long\n",
    "\n",
    "source /broad/software/scripts/useuse\n",
    "use -q group=btl\n",
    "use -q .aquas-201706\n",
    "\n",
    "bds /cil/shed/apps/external/AQUAS/20170503_install/20170503_39a6383/chipseq_pipeline-master/chipseq.bds -no_par -type histone -species hg19 -fastq1_1 /cil/shed/sandboxes/jlchang/ChIPseq/SSFDEV-207/paired_fastq/SM-DTCCL.1.fastq.gz -fastq1_2 /cil/shed/sandboxes/jlchang/ChIPseq/SSFDEV-207/paired_fastq/SM-DTCCL.2.fastq.gz\n",
    "\n",
    " qsub run_chipseq_bds.sh\n",
    "Your job 11448464 (\"run_chipseq_bds.sh\") has been submitted"
   ]
  },
  {
   "cell_type": "markdown",
   "metadata": {},
   "source": [
    "### Analysis of SM-DTCCL ran for ~16 hours on one core, needed ~11G memory; had no issues running MACS2"
   ]
  },
  {
   "cell_type": "code",
   "execution_count": 11,
   "metadata": {
    "collapsed": false
   },
   "outputs": [
    {
     "name": "stdout",
     "output_type": "stream",
     "text": [
      "Prepending: UGER (already loaded)\n",
      "==============================================================\n",
      "qname        long                \n",
      "hostname     ugerbm-d003.broadinstitute.org\n",
      "group        btl                 \n",
      "owner        jlchang             \n",
      "project      broad               \n",
      "department   defaultdepartment   \n",
      "jobname      run_chipseq_bds.sh  \n",
      "jobnumber    11448468            \n",
      "taskid       undefined\n",
      "account      sge                 \n",
      "priority     0                   \n",
      "cwd          /cil/shed/sandboxes/jlchang/ChIPseq/SSFDEV-207/paired_fastq\n",
      "submit_host  login02.broadinstitute.org\n",
      "submit_cmd   qsub run_chipseq_bds.sh\n",
      "qsub_time    06/20/2017 07:56:06.271\n",
      "start_time   06/20/2017 07:56:18.655\n",
      "end_time     06/20/2017 23:42:50.229\n",
      "granted_pe   NONE                \n",
      "slots        1                   \n",
      "failed       0    \n",
      "deleted_by   NONE\n",
      "exit_status  0                   \n",
      "ru_wallclock 56791.574    \n",
      "ru_utime     51712.329    \n",
      "ru_stime     7525.850     \n",
      "ru_maxrss    11039028            \n",
      "ru_ixrss     0                   \n",
      "ru_ismrss    0                   \n",
      "ru_idrss     0                   \n",
      "ru_isrss     0                   \n",
      "ru_minflt    64340192            \n",
      "ru_majflt    439                 \n",
      "ru_nswap     0                   \n",
      "ru_inblock   88625080            \n",
      "ru_oublock   112019536           \n",
      "ru_msgsnd    0                   \n",
      "ru_msgrcv    0                   \n",
      "ru_nsignals  0                   \n",
      "ru_nvcsw     17569144            \n",
      "ru_nivcsw    22423607            \n",
      "wallclock    56799.698    \n",
      "cpu          62696.640    \n",
      "mem          233837.611        \n",
      "io           2186.653          \n",
      "iow          224.670           \n",
      "ioops        76502356            \n",
      "maxvmem      73.371G\n",
      "maxrss       0.000\n",
      "maxpss       0.000\n",
      "arid         undefined\n",
      "jc_name      NONE\n"
     ]
    }
   ],
   "source": [
    "source /broad/software/scripts/useuse\n",
    "use UGER\n",
    "qacct -j 11448468"
   ]
  },
  {
   "cell_type": "code",
   "execution_count": 3,
   "metadata": {
    "collapsed": false
   },
   "outputs": [
    {
     "name": "stdout",
     "output_type": "stream",
     "text": [
      "SM-DTCCL.1.PE2SE.nodup.15M.tagAlign.gz\t12831543\t160\t0.154102548853416\t40\t0.1531029\t1500\t0.1497803\t1.028857\t1.300869\t1\n"
     ]
    }
   ],
   "source": [
    "cat /cil/shed/sandboxes/jlchang/ChIPseq/SSFDEV-207/paired_fastq/SM-DTCCL_paired/qc/rep1/SM-DTCCL.1.PE2SE.nodup.15M.cc.qc"
   ]
  },
  {
   "cell_type": "code",
   "execution_count": 4,
   "metadata": {
    "collapsed": false
   },
   "outputs": [
    {
     "name": "stdout",
     "output_type": "stream",
     "text": [
      "25724242 + 0 in total (QC-passed reads + QC-failed reads)\n",
      "0 + 0 secondary\n",
      "0 + 0 supplementary\n",
      "0 + 0 duplicates\n",
      "25724242 + 0 mapped (100.00%:N/A)\n",
      "25724242 + 0 paired in sequencing\n",
      "12862121 + 0 read1\n",
      "12862121 + 0 read2\n",
      "25724242 + 0 properly paired (100.00%:N/A)\n",
      "25724242 + 0 with itself and mate mapped\n",
      "0 + 0 singletons (0.00%:N/A)\n",
      "0 + 0 with mate mapped to a different chr\n",
      "0 + 0 with mate mapped to a different chr (mapQ>=5)\n"
     ]
    }
   ],
   "source": [
    "cat /cil/shed/sandboxes/jlchang/ChIPseq/SSFDEV-207/paired_fastq/SM-DTCCL_paired/qc/rep1/SM-DTCCL.1.PE2SE.nodup.flagstat.qc"
   ]
  },
  {
   "cell_type": "markdown",
   "metadata": {},
   "source": [
    "#### counts for bam from fasta analysis (above) are similar to the bam ZhiZhuo used in his analysis (below)"
   ]
  },
  {
   "cell_type": "code",
   "execution_count": 5,
   "metadata": {
    "collapsed": false
   },
   "outputs": [
    {
     "name": "stdout",
     "output_type": "stream",
     "text": [
      "25724586 + 0 in total (QC-passed reads + QC-failed reads)\n",
      "0 + 0 secondary\n",
      "0 + 0 supplementary\n",
      "0 + 0 duplicates\n",
      "25724586 + 0 mapped (100.00%:N/A)\n",
      "25724586 + 0 paired in sequencing\n",
      "12862293 + 0 read1\n",
      "12862293 + 0 read2\n",
      "25724586 + 0 properly paired (100.00%:N/A)\n",
      "25724586 + 0 with itself and mate mapped\n",
      "0 + 0 singletons (0.00%:N/A)\n",
      "0 + 0 with mate mapped to a different chr\n",
      "0 + 0 with mate mapped to a different chr (mapQ>=5)\n"
     ]
    }
   ],
   "source": [
    "cat /cil/shed/sandboxes/jlchang/ChIPseq/SSFDEV-207/zhizhouInput/out/qc/rep1/combine4lane.nodup.nodup.flagstat.qc"
   ]
  },
  {
   "cell_type": "markdown",
   "metadata": {},
   "source": [
    "#### counts using merged GP bams (below) have identical status to the bam ZhiZhuo used in his analysis (above)"
   ]
  },
  {
   "cell_type": "code",
   "execution_count": 6,
   "metadata": {
    "collapsed": false
   },
   "outputs": [
    {
     "name": "stdout",
     "output_type": "stream",
     "text": [
      "25724586 + 0 in total (QC-passed reads + QC-failed reads)\n",
      "0 + 0 secondary\n",
      "0 + 0 supplementary\n",
      "0 + 0 duplicates\n",
      "25724586 + 0 mapped (100.00%:N/A)\n",
      "25724586 + 0 paired in sequencing\n",
      "12862293 + 0 read1\n",
      "12862293 + 0 read2\n",
      "25724586 + 0 properly paired (100.00%:N/A)\n",
      "25724586 + 0 with itself and mate mapped\n",
      "0 + 0 singletons (0.00%:N/A)\n",
      "0 + 0 with mate mapped to a different chr\n",
      "0 + 0 with mate mapped to a different chr (mapQ>=5)\n"
     ]
    }
   ],
   "source": [
    "cat /cil/shed/sandboxes/jlchang/ChIPseq/SSFDEV-207/mergeWalkupBam/out/qc/rep1/SM-DTCCL_aligned.duplicates_marked.nodup.flagstat.qc"
   ]
  },
  {
   "cell_type": "markdown",
   "metadata": {},
   "source": [
    "#### compare with input GP bam, AQUAS performs a lot of filtering (possibly based on paired end information)"
   ]
  },
  {
   "cell_type": "code",
   "execution_count": 8,
   "metadata": {
    "collapsed": false
   },
   "outputs": [
    {
     "name": "stdout",
     "output_type": "stream",
     "text": [
      "Prepending: Samtools (already loaded)\n",
      "48843390 + 0 in total (QC-passed reads + QC-failed reads)\n",
      "0 + 0 secondary\n",
      "0 + 0 supplementary\n",
      "5148054 + 0 duplicates\n",
      "46770255 + 0 mapped (95.76% : N/A)\n",
      "48843390 + 0 paired in sequencing\n",
      "24421695 + 0 read1\n",
      "24421695 + 0 read2\n",
      "44827008 + 0 properly paired (91.78% : N/A)\n",
      "45215858 + 0 with itself and mate mapped\n",
      "1554397 + 0 singletons (3.18% : N/A)\n",
      "346154 + 0 with mate mapped to a different chr\n",
      "75058 + 0 with mate mapped to a different chr (mapQ>=5)\n"
     ]
    }
   ],
   "source": [
    "use Samtools\n",
    "samtools flagstat /cil/shed/sandboxes/jlchang/ChIPseq/SSFDEV-207/mergeWalkupBam/SM-DTCCL_aligned.duplicates_marked.bam"
   ]
  },
  {
   "cell_type": "markdown",
   "metadata": {},
   "source": [
    "#### GP bam typically encounters AQUAS processing error at MAC2 step due to mismatch between bam headers (compare GP bam headers below to AQUAS-generated headers in the next cell"
   ]
  },
  {
   "cell_type": "code",
   "execution_count": 7,
   "metadata": {
    "collapsed": false
   },
   "outputs": [
    {
     "name": "stdout",
     "output_type": "stream",
     "text": [
      "Prepending: Samtools (ok)\n",
      "@HD\tVN:1.4\tGO:none\tSO:coordinate\n",
      "@SQ\tSN:1\tLN:249250621\tAS:GRCh37\tM5:1b22b98cdeb4a9304cb5d48026a85128\tUR:http://www.broadinstitute.org/ftp/pub/seq/references/Homo_sapiens_assembly19.fasta\tSP:Homo Sapiens\n",
      "@SQ\tSN:2\tLN:243199373\tAS:GRCh37\tM5:a0d9851da00400dec1098a9255ac712e\tUR:http://www.broadinstitute.org/ftp/pub/seq/references/Homo_sapiens_assembly19.fasta\tSP:Homo Sapiens\n",
      "@SQ\tSN:3\tLN:198022430\tAS:GRCh37\tM5:fdfd811849cc2fadebc929bb925902e5\tUR:http://www.broadinstitute.org/ftp/pub/seq/references/Homo_sapiens_assembly19.fasta\tSP:Homo Sapiens\n",
      "@SQ\tSN:4\tLN:191154276\tAS:GRCh37\tM5:23dccd106897542ad87d2765d28a19a1\tUR:http://www.broadinstitute.org/ftp/pub/seq/references/Homo_sapiens_assembly19.fasta\tSP:Homo Sapiens\n",
      "@SQ\tSN:5\tLN:180915260\tAS:GRCh37\tM5:0740173db9ffd264d728f32784845cd7\tUR:http://www.broadinstitute.org/ftp/pub/seq/references/Homo_sapiens_assembly19.fasta\tSP:Homo Sapiens\n",
      "@SQ\tSN:6\tLN:171115067\tAS:GRCh37\tM5:1d3a93a248d92a729ee764823acbbc6b\tUR:http://www.broadinstitute.org/ftp/pub/seq/references/Homo_sapiens_assembly19.fasta\tSP:Homo Sapiens\n",
      "@SQ\tSN:7\tLN:159138663\tAS:GRCh37\tM5:618366e953d6aaad97dbe4777c29375e\tUR:http://www.broadinstitute.org/ftp/pub/seq/references/Homo_sapiens_assembly19.fasta\tSP:Homo Sapiens\n",
      "@SQ\tSN:8\tLN:146364022\tAS:GRCh37\tM5:96f514a9929e410c6651697bded59aec\tUR:http://www.broadinstitute.org/ftp/pub/seq/references/Homo_sapiens_assembly19.fasta\tSP:Homo Sapiens\n",
      "@SQ\tSN:9\tLN:141213431\tAS:GRCh37\tM5:3e273117f15e0a400f01055d9f393768\tUR:http://www.broadinstitute.org/ftp/pub/seq/references/Homo_sapiens_assembly19.fasta\tSP:Homo Sapiens\n",
      "@SQ\tSN:10\tLN:135534747\tAS:GRCh37\tM5:988c28e000e84c26d552359af1ea2e1d\tUR:http://www.broadinstitute.org/ftp/pub/seq/references/Homo_sapiens_assembly19.fasta\tSP:Homo Sapiens\n",
      "@SQ\tSN:11\tLN:135006516\tAS:GRCh37\tM5:98c59049a2df285c76ffb1c6db8f8b96\tUR:http://www.broadinstitute.org/ftp/pub/seq/references/Homo_sapiens_assembly19.fasta\tSP:Homo Sapiens\n",
      "@SQ\tSN:12\tLN:133851895\tAS:GRCh37\tM5:51851ac0e1a115847ad36449b0015864\tUR:http://www.broadinstitute.org/ftp/pub/seq/references/Homo_sapiens_assembly19.fasta\tSP:Homo Sapiens\n",
      "@SQ\tSN:13\tLN:115169878\tAS:GRCh37\tM5:283f8d7892baa81b510a015719ca7b0b\tUR:http://www.broadinstitute.org/ftp/pub/seq/references/Homo_sapiens_assembly19.fasta\tSP:Homo Sapiens\n",
      "@SQ\tSN:14\tLN:107349540\tAS:GRCh37\tM5:98f3cae32b2a2e9524bc19813927542e\tUR:http://www.broadinstitute.org/ftp/pub/seq/references/Homo_sapiens_assembly19.fasta\tSP:Homo Sapiens\n",
      "@SQ\tSN:15\tLN:102531392\tAS:GRCh37\tM5:e5645a794a8238215b2cd77acb95a078\tUR:http://www.broadinstitute.org/ftp/pub/seq/references/Homo_sapiens_assembly19.fasta\tSP:Homo Sapiens\n",
      "@SQ\tSN:16\tLN:90354753\tAS:GRCh37\tM5:fc9b1a7b42b97a864f56b348b06095e6\tUR:http://www.broadinstitute.org/ftp/pub/seq/references/Homo_sapiens_assembly19.fasta\tSP:Homo Sapiens\n",
      "@SQ\tSN:17\tLN:81195210\tAS:GRCh37\tM5:351f64d4f4f9ddd45b35336ad97aa6de\tUR:http://www.broadinstitute.org/ftp/pub/seq/references/Homo_sapiens_assembly19.fasta\tSP:Homo Sapiens\n",
      "@SQ\tSN:18\tLN:78077248\tAS:GRCh37\tM5:b15d4b2d29dde9d3e4f93d1d0f2cbc9c\tUR:http://www.broadinstitute.org/ftp/pub/seq/references/Homo_sapiens_assembly19.fasta\tSP:Homo Sapiens\n",
      "@SQ\tSN:19\tLN:59128983\tAS:GRCh37\tM5:1aacd71f30db8e561810913e0b72636d\tUR:http://www.broadinstitute.org/ftp/pub/seq/references/Homo_sapiens_assembly19.fasta\tSP:Homo Sapiens\n",
      "@SQ\tSN:20\tLN:63025520\tAS:GRCh37\tM5:0dec9660ec1efaaf33281c0d5ea2560f\tUR:http://www.broadinstitute.org/ftp/pub/seq/references/Homo_sapiens_assembly19.fasta\tSP:Homo Sapiens\n",
      "@SQ\tSN:21\tLN:48129895\tAS:GRCh37\tM5:2979a6085bfe28e3ad6f552f361ed74d\tUR:http://www.broadinstitute.org/ftp/pub/seq/references/Homo_sapiens_assembly19.fasta\tSP:Homo Sapiens\n",
      "@SQ\tSN:22\tLN:51304566\tAS:GRCh37\tM5:a718acaa6135fdca8357d5bfe94211dd\tUR:http://www.broadinstitute.org/ftp/pub/seq/references/Homo_sapiens_assembly19.fasta\tSP:Homo Sapiens\n",
      "@SQ\tSN:X\tLN:155270560\tAS:GRCh37\tM5:7e0e2e580297b7764e31dbc80c2540dd\tUR:http://www.broadinstitute.org/ftp/pub/seq/references/Homo_sapiens_assembly19.fasta\tSP:Homo Sapiens\n",
      "@SQ\tSN:Y\tLN:59373566\tAS:GRCh37\tM5:1fa3474750af0948bdf97d5a0ee52e51\tUR:http://www.broadinstitute.org/ftp/pub/seq/references/Homo_sapiens_assembly19.fasta\tSP:Homo Sapiens\n",
      "@SQ\tSN:MT\tLN:16569\tAS:GRCh37\tM5:c68f52674c9fb33aef52dcf399755519\tUR:http://www.broadinstitute.org/ftp/pub/seq/references/Homo_sapiens_assembly19.fasta\tSP:Homo Sapiens\n",
      "@SQ\tSN:GL000207.1\tLN:4262\tAS:GRCh37\tM5:f3814841f1939d3ca19072d9e89f3fd7\tUR:http://www.broadinstitute.org/ftp/pub/seq/references/Homo_sapiens_assembly19.fasta\tSP:Homo Sapiens\n",
      "@SQ\tSN:GL000226.1\tLN:15008\tAS:GRCh37\tM5:1c1b2cd1fccbc0a99b6a447fa24d1504\tUR:http://www.broadinstitute.org/ftp/pub/seq/references/Homo_sapiens_assembly19.fasta\tSP:Homo Sapiens\n",
      "@SQ\tSN:GL000229.1\tLN:19913\tAS:GRCh37\tM5:d0f40ec87de311d8e715b52e4c7062e1\tUR:http://www.broadinstitute.org/ftp/pub/seq/references/Homo_sapiens_assembly19.fasta\tSP:Homo Sapiens\n",
      "@SQ\tSN:GL000231.1\tLN:27386\tAS:GRCh37\tM5:ba8882ce3a1efa2080e5d29b956568a4\tUR:http://www.broadinstitute.org/ftp/pub/seq/references/Homo_sapiens_assembly19.fasta\tSP:Homo Sapiens\n",
      "@SQ\tSN:GL000210.1\tLN:27682\tAS:GRCh37\tM5:851106a74238044126131ce2a8e5847c\tUR:http://www.broadinstitute.org/ftp/pub/seq/references/Homo_sapiens_assembly19.fasta\tSP:Homo Sapiens\n",
      "@SQ\tSN:GL000239.1\tLN:33824\tAS:GRCh37\tM5:99795f15702caec4fa1c4e15f8a29c07\tUR:http://www.broadinstitute.org/ftp/pub/seq/references/Homo_sapiens_assembly19.fasta\tSP:Homo Sapiens\n",
      "@SQ\tSN:GL000235.1\tLN:34474\tAS:GRCh37\tM5:118a25ca210cfbcdfb6c2ebb249f9680\tUR:http://www.broadinstitute.org/ftp/pub/seq/references/Homo_sapiens_assembly19.fasta\tSP:Homo Sapiens\n",
      "@SQ\tSN:GL000201.1\tLN:36148\tAS:GRCh37\tM5:dfb7e7ec60ffdcb85cb359ea28454ee9\tUR:http://www.broadinstitute.org/ftp/pub/seq/references/Homo_sapiens_assembly19.fasta\tSP:Homo Sapiens\n",
      "@SQ\tSN:GL000247.1\tLN:36422\tAS:GRCh37\tM5:7de00226bb7df1c57276ca6baabafd15\tUR:http://www.broadinstitute.org/ftp/pub/seq/references/Homo_sapiens_assembly19.fasta\tSP:Homo Sapiens\n",
      "@SQ\tSN:GL000245.1\tLN:36651\tAS:GRCh37\tM5:89bc61960f37d94abf0df2d481ada0ec\tUR:http://www.broadinstitute.org/ftp/pub/seq/references/Homo_sapiens_assembly19.fasta\tSP:Homo Sapiens\n",
      "@SQ\tSN:GL000197.1\tLN:37175\tAS:GRCh37\tM5:6f5efdd36643a9b8c8ccad6f2f1edc7b\tUR:http://www.broadinstitute.org/ftp/pub/seq/references/Homo_sapiens_assembly19.fasta\tSP:Homo Sapiens\n",
      "@SQ\tSN:GL000203.1\tLN:37498\tAS:GRCh37\tM5:96358c325fe0e70bee73436e8bb14dbd\tUR:http://www.broadinstitute.org/ftp/pub/seq/references/Homo_sapiens_assembly19.fasta\tSP:Homo Sapiens\n",
      "@SQ\tSN:GL000246.1\tLN:38154\tAS:GRCh37\tM5:e4afcd31912af9d9c2546acf1cb23af2\tUR:http://www.broadinstitute.org/ftp/pub/seq/references/Homo_sapiens_assembly19.fasta\tSP:Homo Sapiens\n",
      "@SQ\tSN:GL000249.1\tLN:38502\tAS:GRCh37\tM5:1d78abec37c15fe29a275eb08d5af236\tUR:http://www.broadinstitute.org/ftp/pub/seq/references/Homo_sapiens_assembly19.fasta\tSP:Homo Sapiens\n",
      "@SQ\tSN:GL000196.1\tLN:38914\tAS:GRCh37\tM5:d92206d1bb4c3b4019c43c0875c06dc0\tUR:http://www.broadinstitute.org/ftp/pub/seq/references/Homo_sapiens_assembly19.fasta\tSP:Homo Sapiens\n",
      "@SQ\tSN:GL000248.1\tLN:39786\tAS:GRCh37\tM5:5a8e43bec9be36c7b49c84d585107776\tUR:http://www.broadinstitute.org/ftp/pub/seq/references/Homo_sapiens_assembly19.fasta\tSP:Homo Sapiens\n",
      "@SQ\tSN:GL000244.1\tLN:39929\tAS:GRCh37\tM5:0996b4475f353ca98bacb756ac479140\tUR:http://www.broadinstitute.org/ftp/pub/seq/references/Homo_sapiens_assembly19.fasta\tSP:Homo Sapiens\n",
      "@SQ\tSN:GL000238.1\tLN:39939\tAS:GRCh37\tM5:131b1efc3270cc838686b54e7c34b17b\tUR:http://www.broadinstitute.org/ftp/pub/seq/references/Homo_sapiens_assembly19.fasta\tSP:Homo Sapiens\n",
      "@SQ\tSN:GL000202.1\tLN:40103\tAS:GRCh37\tM5:06cbf126247d89664a4faebad130fe9c\tUR:http://www.broadinstitute.org/ftp/pub/seq/references/Homo_sapiens_assembly19.fasta\tSP:Homo Sapiens\n",
      "@SQ\tSN:GL000234.1\tLN:40531\tAS:GRCh37\tM5:93f998536b61a56fd0ff47322a911d4b\tUR:http://www.broadinstitute.org/ftp/pub/seq/references/Homo_sapiens_assembly19.fasta\tSP:Homo Sapiens\n",
      "@SQ\tSN:GL000232.1\tLN:40652\tAS:GRCh37\tM5:3e06b6741061ad93a8587531307057d8\tUR:http://www.broadinstitute.org/ftp/pub/seq/references/Homo_sapiens_assembly19.fasta\tSP:Homo Sapiens\n",
      "@SQ\tSN:GL000206.1\tLN:41001\tAS:GRCh37\tM5:43f69e423533e948bfae5ce1d45bd3f1\tUR:http://www.broadinstitute.org/ftp/pub/seq/references/Homo_sapiens_assembly19.fasta\tSP:Homo Sapiens\n",
      "@SQ\tSN:GL000240.1\tLN:41933\tAS:GRCh37\tM5:445a86173da9f237d7bcf41c6cb8cc62\tUR:http://www.broadinstitute.org/ftp/pub/seq/references/Homo_sapiens_assembly19.fasta\tSP:Homo Sapiens\n",
      "@SQ\tSN:GL000236.1\tLN:41934\tAS:GRCh37\tM5:fdcd739913efa1fdc64b6c0cd7016779\tUR:http://www.broadinstitute.org/ftp/pub/seq/references/Homo_sapiens_assembly19.fasta\tSP:Homo Sapiens\n",
      "@SQ\tSN:GL000241.1\tLN:42152\tAS:GRCh37\tM5:ef4258cdc5a45c206cea8fc3e1d858cf\tUR:http://www.broadinstitute.org/ftp/pub/seq/references/Homo_sapiens_assembly19.fasta\tSP:Homo Sapiens\n",
      "@SQ\tSN:GL000243.1\tLN:43341\tAS:GRCh37\tM5:cc34279a7e353136741c9fce79bc4396\tUR:http://www.broadinstitute.org/ftp/pub/seq/references/Homo_sapiens_assembly19.fasta\tSP:Homo Sapiens\n",
      "@SQ\tSN:GL000242.1\tLN:43523\tAS:GRCh37\tM5:2f8694fc47576bc81b5fe9e7de0ba49e\tUR:http://www.broadinstitute.org/ftp/pub/seq/references/Homo_sapiens_assembly19.fasta\tSP:Homo Sapiens\n",
      "@SQ\tSN:GL000230.1\tLN:43691\tAS:GRCh37\tM5:b4eb71ee878d3706246b7c1dbef69299\tUR:http://www.broadinstitute.org/ftp/pub/seq/references/Homo_sapiens_assembly19.fasta\tSP:Homo Sapiens\n",
      "@SQ\tSN:GL000237.1\tLN:45867\tAS:GRCh37\tM5:e0c82e7751df73f4f6d0ed30cdc853c0\tUR:http://www.broadinstitute.org/ftp/pub/seq/references/Homo_sapiens_assembly19.fasta\tSP:Homo Sapiens\n",
      "@SQ\tSN:GL000233.1\tLN:45941\tAS:GRCh37\tM5:7fed60298a8d62ff808b74b6ce820001\tUR:http://www.broadinstitute.org/ftp/pub/seq/references/Homo_sapiens_assembly19.fasta\tSP:Homo Sapiens\n",
      "@SQ\tSN:GL000204.1\tLN:81310\tAS:GRCh37\tM5:efc49c871536fa8d79cb0a06fa739722\tUR:http://www.broadinstitute.org/ftp/pub/seq/references/Homo_sapiens_assembly19.fasta\tSP:Homo Sapiens\n",
      "@SQ\tSN:GL000198.1\tLN:90085\tAS:GRCh37\tM5:868e7784040da90d900d2d1b667a1383\tUR:http://www.broadinstitute.org/ftp/pub/seq/references/Homo_sapiens_assembly19.fasta\tSP:Homo Sapiens\n",
      "@SQ\tSN:GL000208.1\tLN:92689\tAS:GRCh37\tM5:aa81be49bf3fe63a79bdc6a6f279abf6\tUR:http://www.broadinstitute.org/ftp/pub/seq/references/Homo_sapiens_assembly19.fasta\tSP:Homo Sapiens\n",
      "@SQ\tSN:GL000191.1\tLN:106433\tAS:GRCh37\tM5:d75b436f50a8214ee9c2a51d30b2c2cc\tUR:http://www.broadinstitute.org/ftp/pub/seq/references/Homo_sapiens_assembly19.fasta\tSP:Homo Sapiens\n",
      "@SQ\tSN:GL000227.1\tLN:128374\tAS:GRCh37\tM5:a4aead23f8053f2655e468bcc6ecdceb\tUR:http://www.broadinstitute.org/ftp/pub/seq/references/Homo_sapiens_assembly19.fasta\tSP:Homo Sapiens\n",
      "@SQ\tSN:GL000228.1\tLN:129120\tAS:GRCh37\tM5:c5a17c97e2c1a0b6a9cc5a6b064b714f\tUR:http://www.broadinstitute.org/ftp/pub/seq/references/Homo_sapiens_assembly19.fasta\tSP:Homo Sapiens\n",
      "@SQ\tSN:GL000214.1\tLN:137718\tAS:GRCh37\tM5:46c2032c37f2ed899eb41c0473319a69\tUR:http://www.broadinstitute.org/ftp/pub/seq/references/Homo_sapiens_assembly19.fasta\tSP:Homo Sapiens\n",
      "@SQ\tSN:GL000221.1\tLN:155397\tAS:GRCh37\tM5:3238fb74ea87ae857f9c7508d315babb\tUR:http://www.broadinstitute.org/ftp/pub/seq/references/Homo_sapiens_assembly19.fasta\tSP:Homo Sapiens\n",
      "@SQ\tSN:GL000209.1\tLN:159169\tAS:GRCh37\tM5:f40598e2a5a6b26e84a3775e0d1e2c81\tUR:http://www.broadinstitute.org/ftp/pub/seq/references/Homo_sapiens_assembly19.fasta\tSP:Homo Sapiens\n",
      "@SQ\tSN:GL000218.1\tLN:161147\tAS:GRCh37\tM5:1d708b54644c26c7e01c2dad5426d38c\tUR:http://www.broadinstitute.org/ftp/pub/seq/references/Homo_sapiens_assembly19.fasta\tSP:Homo Sapiens\n",
      "@SQ\tSN:GL000220.1\tLN:161802\tAS:GRCh37\tM5:fc35de963c57bf7648429e6454f1c9db\tUR:http://www.broadinstitute.org/ftp/pub/seq/references/Homo_sapiens_assembly19.fasta\tSP:Homo Sapiens\n",
      "@SQ\tSN:GL000213.1\tLN:164239\tAS:GRCh37\tM5:9d424fdcc98866650b58f004080a992a\tUR:http://www.broadinstitute.org/ftp/pub/seq/references/Homo_sapiens_assembly19.fasta\tSP:Homo Sapiens\n",
      "@SQ\tSN:GL000211.1\tLN:166566\tAS:GRCh37\tM5:7daaa45c66b288847b9b32b964e623d3\tUR:http://www.broadinstitute.org/ftp/pub/seq/references/Homo_sapiens_assembly19.fasta\tSP:Homo Sapiens\n",
      "@SQ\tSN:GL000199.1\tLN:169874\tAS:GRCh37\tM5:569af3b73522fab4b40995ae4944e78e\tUR:http://www.broadinstitute.org/ftp/pub/seq/references/Homo_sapiens_assembly19.fasta\tSP:Homo Sapiens\n",
      "@SQ\tSN:GL000217.1\tLN:172149\tAS:GRCh37\tM5:6d243e18dea1945fb7f2517615b8f52e\tUR:http://www.broadinstitute.org/ftp/pub/seq/references/Homo_sapiens_assembly19.fasta\tSP:Homo Sapiens\n",
      "@SQ\tSN:GL000216.1\tLN:172294\tAS:GRCh37\tM5:642a232d91c486ac339263820aef7fe0\tUR:http://www.broadinstitute.org/ftp/pub/seq/references/Homo_sapiens_assembly19.fasta\tSP:Homo Sapiens\n",
      "@SQ\tSN:GL000215.1\tLN:172545\tAS:GRCh37\tM5:5eb3b418480ae67a997957c909375a73\tUR:http://www.broadinstitute.org/ftp/pub/seq/references/Homo_sapiens_assembly19.fasta\tSP:Homo Sapiens\n",
      "@SQ\tSN:GL000205.1\tLN:174588\tAS:GRCh37\tM5:d22441398d99caf673e9afb9a1908ec5\tUR:http://www.broadinstitute.org/ftp/pub/seq/references/Homo_sapiens_assembly19.fasta\tSP:Homo Sapiens\n",
      "@SQ\tSN:GL000219.1\tLN:179198\tAS:GRCh37\tM5:f977edd13bac459cb2ed4a5457dba1b3\tUR:http://www.broadinstitute.org/ftp/pub/seq/references/Homo_sapiens_assembly19.fasta\tSP:Homo Sapiens\n",
      "@SQ\tSN:GL000224.1\tLN:179693\tAS:GRCh37\tM5:d5b2fc04f6b41b212a4198a07f450e20\tUR:http://www.broadinstitute.org/ftp/pub/seq/references/Homo_sapiens_assembly19.fasta\tSP:Homo Sapiens\n",
      "@SQ\tSN:GL000223.1\tLN:180455\tAS:GRCh37\tM5:399dfa03bf32022ab52a846f7ca35b30\tUR:http://www.broadinstitute.org/ftp/pub/seq/references/Homo_sapiens_assembly19.fasta\tSP:Homo Sapiens\n",
      "@SQ\tSN:GL000195.1\tLN:182896\tAS:GRCh37\tM5:5d9ec007868d517e73543b005ba48535\tUR:http://www.broadinstitute.org/ftp/pub/seq/references/Homo_sapiens_assembly19.fasta\tSP:Homo Sapiens\n",
      "@SQ\tSN:GL000212.1\tLN:186858\tAS:GRCh37\tM5:563531689f3dbd691331fd6c5730a88b\tUR:http://www.broadinstitute.org/ftp/pub/seq/references/Homo_sapiens_assembly19.fasta\tSP:Homo Sapiens\n",
      "@SQ\tSN:GL000222.1\tLN:186861\tAS:GRCh37\tM5:6fe9abac455169f50470f5a6b01d0f59\tUR:http://www.broadinstitute.org/ftp/pub/seq/references/Homo_sapiens_assembly19.fasta\tSP:Homo Sapiens\n",
      "@SQ\tSN:GL000200.1\tLN:187035\tAS:GRCh37\tM5:75e4c8d17cd4addf3917d1703cacaf25\tUR:http://www.broadinstitute.org/ftp/pub/seq/references/Homo_sapiens_assembly19.fasta\tSP:Homo Sapiens\n",
      "@SQ\tSN:GL000193.1\tLN:189789\tAS:GRCh37\tM5:dbb6e8ece0b5de29da56601613007c2a\tUR:http://www.broadinstitute.org/ftp/pub/seq/references/Homo_sapiens_assembly19.fasta\tSP:Homo Sapiens\n",
      "@SQ\tSN:GL000194.1\tLN:191469\tAS:GRCh37\tM5:6ac8f815bf8e845bb3031b73f812c012\tUR:http://www.broadinstitute.org/ftp/pub/seq/references/Homo_sapiens_assembly19.fasta\tSP:Homo Sapiens\n",
      "@SQ\tSN:GL000225.1\tLN:211173\tAS:GRCh37\tM5:63945c3e6962f28ffd469719a747e73c\tUR:http://www.broadinstitute.org/ftp/pub/seq/references/Homo_sapiens_assembly19.fasta\tSP:Homo Sapiens\n",
      "@SQ\tSN:GL000192.1\tLN:547496\tAS:GRCh37\tM5:325ba9e808f669dfeee210fdd7b470ac\tUR:http://www.broadinstitute.org/ftp/pub/seq/references/Homo_sapiens_assembly19.fasta\tSP:Homo Sapiens\n",
      "@SQ\tSN:NC_007605\tLN:171823\tAS:NC_007605.1\tM5:6743bd63b3ff2b5b8985d8933c53290a\tUR:http://www.broadinstitute.org/ftp/pub/seq/references/Homo_sapiens_assembly19.fasta\tSP:Epstein-Barr virus\n",
      "@RG\tID:HWFLL.1\tSM:SSFDEV-207_SM_DTCCL\tLB:SSFDEV-207_SM_DTCCL\tPL:illumina\tPU:HWFLLBGXY170506.1.ACACGATC\tCN:BI\tDT:2017-05-06T00:00:00-0400\n",
      "@RG\tID:HWFLL.2\tSM:SSFDEV-207_SM_DTCCL\tLB:SSFDEV-207_SM_DTCCL\tPL:illumina\tPU:HWFLLBGXY170506.2.ACACGATC\tCN:BI\tDT:2017-05-06T00:00:00-0400\n",
      "@RG\tID:HWFLL.3\tSM:SSFDEV-207_SM_DTCCL\tLB:SSFDEV-207_SM_DTCCL\tPL:illumina\tPU:HWFLLBGXY170506.3.ACACGATC\tCN:BI\tDT:2017-05-06T00:00:00-0400\n",
      "@RG\tID:HWFLL.4\tSM:SSFDEV-207_SM_DTCCL\tLB:SSFDEV-207_SM_DTCCL\tPL:illumina\tPU:HWFLLBGXY170506.4.ACACGATC\tCN:BI\tDT:2017-05-06T00:00:00-0400\n",
      "@PG\tID:GATK IndelRealigner\tVN:nightly-2015-07-31-g3c929b0\tCL:knownAlleles=[(RodBinding name=knownAlleles source=/seq/references/Homo_sapiens_assembly19/v1/Homo_sapiens_assembly19.dbsnp138.vcf), (RodBinding name=knownAlleles2 source=/seq/references/Homo_sapiens_assembly19/v1/Homo_sapiens_assembly19.known_indels.vcf), (RodBinding name=knownAlleles3 source=/seq/references/Homo_sapiens_assembly19/v1/Homo_sapiens_assembly19.variantEvalGoldStandard.vcf)] targetIntervals=/seq/walkup/picard/HWFLLBGXY/C1-83_2017-05-06_2017-05-06/1/SSFDEV-207_SM_DTCCL/1/null.1.merged.intervals LODThresholdForCleaning=5.0 consensusDeterminationModel=USE_READS entropyThreshold=0.15 maxReadsInMemory=150000 maxIsizeForMovement=3000 maxPositionalMoveAllowed=200 maxConsensuses=30 maxReadsForConsensuses=120 maxReadsForRealignment=20000 noOriginalAlignmentTags=false nWayOut=null generate_nWayOut_md5s=false check_early=false noPGTag=false keepPGTags=false indelsFileForDebugging=null statisticsFileForDebugging=/seq/walkup/picard/HWFLLBGXY/C1-83_2017-05-06_2017-05-06/1/SSFDEV-207_SM_DTCCL/1/null.1.indel.stats SNPsFileForDebugging=null\n",
      "@PG\tID:MarkDuplicates\tVN:f6532c4\tCL:picard.sam.markduplicates.MarkDuplicates READ_ONE_BARCODE_TAG=RX INPUT=[/seq/walkup/picard/HWFLLBGXY/C1-83_2017-05-06_2017-05-06/1/SSFDEV-207_SM_DTCCL/HWFLLBGXY.1.aligned.bam] OUTPUT=/seq/walkup/picard/HWFLLBGXY/C1-83_2017-05-06_2017-05-06/1/SSFDEV-207_SM_DTCCL/HWFLLBGXY.1.aligned.duplicates_marked.bam METRICS_FILE=/seq/walkup/picard/HWFLLBGXY/C1-83_2017-05-06_2017-05-06/1/SSFDEV-207_SM_DTCCL/HWFLLBGXY.1.duplicate_metrics OPTICAL_DUPLICATE_PIXEL_DISTANCE=2500 TMP_DIR=[/pod/pod2temp/temp/HWFLLBGXY] VALIDATION_STRINGENCY=SILENT CREATE_INDEX=true CREATE_MD5_FILE=true    MAX_SEQUENCES_FOR_DISK_READ_ENDS_MAP=50000 MAX_FILE_HANDLES_FOR_READ_ENDS_MAP=8000 SORTING_COLLECTION_SIZE_RATIO=0.25 TAG_DUPLICATE_SET_MEMBERS=false REMOVE_SEQUENCING_DUPLICATES=false TAGGING_POLICY=DontTag REMOVE_DUPLICATES=false ASSUME_SORTED=false DUPLICATE_SCORING_STRATEGY=SUM_OF_BASE_QUALITIES PROGRAM_RECORD_ID=MarkDuplicates PROGRAM_GROUP_NAME=MarkDuplicates READ_NAME_REGEX=<optimized capture of last three ':' separated fields as numeric values> VERBOSITY=INFO QUIET=false COMPRESSION_LEVEL=5 MAX_RECORDS_IN_RAM=500000 GA4GH_CLIENT_SECRETS=client_secrets.json\tPN:MarkDuplicates\tPP:bwa\n",
      "@PG\tID:bwa\tVN:0.5.9-tpx\tCL:bwa aln Homo_sapiens_assembly19.fasta -q 5 -l 32 -k 2 -t $NSLOTS -o 1 -f HWFLLBGXY.1.SSFDEV-207_SM_DTCCL.Homo_sapiens_assembly19.1.sai HWFLLBGXY.1.SSFDEV-207_SM_DTCCL.1.fastq.gz; bwa aln Homo_sapiens_assembly19.fasta -q 5 -l 32 -k 2 -t $NSLOTS -o 1 -f HWFLLBGXY.1.SSFDEV-207_SM_DTCCL.Homo_sapiens_assembly19.2.sai HWFLLBGXY.1.SSFDEV-207_SM_DTCCL.2.fastq.gz; bwa aln Homo_sapiens_assembly19.fasta -q 5 -l 32 -k 2 -t $NSLOTS -o 1 -f HWFLLBGXY.1.SSFDEV-207_SM_DTCCL.Homo_sapiens_assembly19.unpaired.sai HWFLLBGXY.1.SSFDEV-207_SM_DTCCL.unpaired.fastq.gz; bwa sampe -t $NSLOTS -T -P -f HWFLLBGXY.1.SSFDEV-207_SM_DTCCL.Homo_sapiens_assembly19.aligned_bwa.sam Homo_sapiens_assembly19.fasta HWFLLBGXY.1.SSFDEV-207_SM_DTCCL.Homo_sapiens_assembly19.1.sai HWFLLBGXY.1.SSFDEV-207_SM_DTCCL.Homo_sapiens_assembly19.2.sai HWFLLBGXY.1.SSFDEV-207_SM_DTCCL.1.fastq.gz HWFLLBGXY.1.SSFDEV-207_SM_DTCCL.2.fastq.gz\tPN:bwa\n",
      "@PG\tID:GATK PrintReads\tVN:nightly-2015-07-31-g3c929b0\tCL:readGroup=null platform=null number=-1 sample_file=[] sample_name=[] simplify=false no_pg_tag=false\n",
      "@PG\tID:GATK IndelRealigner-1ED380BA\tVN:nightly-2015-07-31-g3c929b0\tCL:knownAlleles=[(RodBinding name=knownAlleles source=/seq/references/Homo_sapiens_assembly19/v1/Homo_sapiens_assembly19.dbsnp138.vcf), (RodBinding name=knownAlleles2 source=/seq/references/Homo_sapiens_assembly19/v1/Homo_sapiens_assembly19.known_indels.vcf), (RodBinding name=knownAlleles3 source=/seq/references/Homo_sapiens_assembly19/v1/Homo_sapiens_assembly19.variantEvalGoldStandard.vcf)] targetIntervals=/seq/walkup/picard/HWFLLBGXY/C1-83_2017-05-06_2017-05-06/2/SSFDEV-207_SM_DTCCL/1/null.1.merged.intervals LODThresholdForCleaning=5.0 consensusDeterminationModel=USE_READS entropyThreshold=0.15 maxReadsInMemory=150000 maxIsizeForMovement=3000 maxPositionalMoveAllowed=200 maxConsensuses=30 maxReadsForConsensuses=120 maxReadsForRealignment=20000 noOriginalAlignmentTags=false nWayOut=null generate_nWayOut_md5s=false check_early=false noPGTag=false keepPGTags=false indelsFileForDebugging=null statisticsFileForDebugging=/seq/walkup/picard/HWFLLBGXY/C1-83_2017-05-06_2017-05-06/2/SSFDEV-207_SM_DTCCL/1/null.1.indel.stats SNPsFileForDebugging=null\n",
      "@PG\tID:MarkDuplicates-AF4551C\tVN:f6532c4\tCL:picard.sam.markduplicates.MarkDuplicates READ_ONE_BARCODE_TAG=RX INPUT=[/seq/walkup/picard/HWFLLBGXY/C1-83_2017-05-06_2017-05-06/2/SSFDEV-207_SM_DTCCL/HWFLLBGXY.2.aligned.bam] OUTPUT=/seq/walkup/picard/HWFLLBGXY/C1-83_2017-05-06_2017-05-06/2/SSFDEV-207_SM_DTCCL/HWFLLBGXY.2.aligned.duplicates_marked.bam METRICS_FILE=/seq/walkup/picard/HWFLLBGXY/C1-83_2017-05-06_2017-05-06/2/SSFDEV-207_SM_DTCCL/HWFLLBGXY.2.duplicate_metrics OPTICAL_DUPLICATE_PIXEL_DISTANCE=2500 TMP_DIR=[/pod/pod2temp/temp/HWFLLBGXY] VALIDATION_STRINGENCY=SILENT CREATE_INDEX=true CREATE_MD5_FILE=true    MAX_SEQUENCES_FOR_DISK_READ_ENDS_MAP=50000 MAX_FILE_HANDLES_FOR_READ_ENDS_MAP=8000 SORTING_COLLECTION_SIZE_RATIO=0.25 TAG_DUPLICATE_SET_MEMBERS=false REMOVE_SEQUENCING_DUPLICATES=false TAGGING_POLICY=DontTag REMOVE_DUPLICATES=false ASSUME_SORTED=false DUPLICATE_SCORING_STRATEGY=SUM_OF_BASE_QUALITIES PROGRAM_RECORD_ID=MarkDuplicates PROGRAM_GROUP_NAME=MarkDuplicates READ_NAME_REGEX=<optimized capture of last three ':' separated fields as numeric values> VERBOSITY=INFO QUIET=false COMPRESSION_LEVEL=5 MAX_RECORDS_IN_RAM=500000 GA4GH_CLIENT_SECRETS=client_secrets.json\tPN:MarkDuplicates\tPP:bwa-7FC0E636\n",
      "@PG\tID:bwa-7FC0E636\tVN:0.5.9-tpx\tCL:bwa aln Homo_sapiens_assembly19.fasta -q 5 -l 32 -k 2 -t $NSLOTS -o 1 -f HWFLLBGXY.2.SSFDEV-207_SM_DTCCL.Homo_sapiens_assembly19.1.sai HWFLLBGXY.2.SSFDEV-207_SM_DTCCL.1.fastq.gz; bwa aln Homo_sapiens_assembly19.fasta -q 5 -l 32 -k 2 -t $NSLOTS -o 1 -f HWFLLBGXY.2.SSFDEV-207_SM_DTCCL.Homo_sapiens_assembly19.2.sai HWFLLBGXY.2.SSFDEV-207_SM_DTCCL.2.fastq.gz; bwa aln Homo_sapiens_assembly19.fasta -q 5 -l 32 -k 2 -t $NSLOTS -o 1 -f HWFLLBGXY.2.SSFDEV-207_SM_DTCCL.Homo_sapiens_assembly19.unpaired.sai HWFLLBGXY.2.SSFDEV-207_SM_DTCCL.unpaired.fastq.gz; bwa sampe -t $NSLOTS -T -P -f HWFLLBGXY.2.SSFDEV-207_SM_DTCCL.Homo_sapiens_assembly19.aligned_bwa.sam Homo_sapiens_assembly19.fasta HWFLLBGXY.2.SSFDEV-207_SM_DTCCL.Homo_sapiens_assembly19.1.sai HWFLLBGXY.2.SSFDEV-207_SM_DTCCL.Homo_sapiens_assembly19.2.sai HWFLLBGXY.2.SSFDEV-207_SM_DTCCL.1.fastq.gz HWFLLBGXY.2.SSFDEV-207_SM_DTCCL.2.fastq.gz\tPN:bwa\n",
      "@PG\tID:GATK PrintReads-2CE5284D\tVN:nightly-2015-07-31-g3c929b0\tCL:readGroup=null platform=null number=-1 sample_file=[] sample_name=[] simplify=false no_pg_tag=false\n",
      "@PG\tID:GATK IndelRealigner-F350CDC\tVN:nightly-2015-07-31-g3c929b0\tCL:knownAlleles=[(RodBinding name=knownAlleles source=/seq/references/Homo_sapiens_assembly19/v1/Homo_sapiens_assembly19.dbsnp138.vcf), (RodBinding name=knownAlleles2 source=/seq/references/Homo_sapiens_assembly19/v1/Homo_sapiens_assembly19.known_indels.vcf), (RodBinding name=knownAlleles3 source=/seq/references/Homo_sapiens_assembly19/v1/Homo_sapiens_assembly19.variantEvalGoldStandard.vcf)] targetIntervals=/seq/walkup/picard/HWFLLBGXY/C1-83_2017-05-06_2017-05-06/3/SSFDEV-207_SM_DTCCL/1/null.1.merged.intervals LODThresholdForCleaning=5.0 consensusDeterminationModel=USE_READS entropyThreshold=0.15 maxReadsInMemory=150000 maxIsizeForMovement=3000 maxPositionalMoveAllowed=200 maxConsensuses=30 maxReadsForConsensuses=120 maxReadsForRealignment=20000 noOriginalAlignmentTags=false nWayOut=null generate_nWayOut_md5s=false check_early=false noPGTag=false keepPGTags=false indelsFileForDebugging=null statisticsFileForDebugging=/seq/walkup/picard/HWFLLBGXY/C1-83_2017-05-06_2017-05-06/3/SSFDEV-207_SM_DTCCL/1/null.1.indel.stats SNPsFileForDebugging=null\n",
      "@PG\tID:MarkDuplicates-538C770E\tVN:f6532c4\tCL:picard.sam.markduplicates.MarkDuplicates READ_ONE_BARCODE_TAG=RX INPUT=[/seq/walkup/picard/HWFLLBGXY/C1-83_2017-05-06_2017-05-06/3/SSFDEV-207_SM_DTCCL/HWFLLBGXY.3.aligned.bam] OUTPUT=/seq/walkup/picard/HWFLLBGXY/C1-83_2017-05-06_2017-05-06/3/SSFDEV-207_SM_DTCCL/HWFLLBGXY.3.aligned.duplicates_marked.bam METRICS_FILE=/seq/walkup/picard/HWFLLBGXY/C1-83_2017-05-06_2017-05-06/3/SSFDEV-207_SM_DTCCL/HWFLLBGXY.3.duplicate_metrics OPTICAL_DUPLICATE_PIXEL_DISTANCE=2500 TMP_DIR=[/pod/pod2temp/temp/HWFLLBGXY] VALIDATION_STRINGENCY=SILENT CREATE_INDEX=true CREATE_MD5_FILE=true    MAX_SEQUENCES_FOR_DISK_READ_ENDS_MAP=50000 MAX_FILE_HANDLES_FOR_READ_ENDS_MAP=8000 SORTING_COLLECTION_SIZE_RATIO=0.25 TAG_DUPLICATE_SET_MEMBERS=false REMOVE_SEQUENCING_DUPLICATES=false TAGGING_POLICY=DontTag REMOVE_DUPLICATES=false ASSUME_SORTED=false DUPLICATE_SCORING_STRATEGY=SUM_OF_BASE_QUALITIES PROGRAM_RECORD_ID=MarkDuplicates PROGRAM_GROUP_NAME=MarkDuplicates READ_NAME_REGEX=<optimized capture of last three ':' separated fields as numeric values> VERBOSITY=INFO QUIET=false COMPRESSION_LEVEL=5 MAX_RECORDS_IN_RAM=500000 GA4GH_CLIENT_SECRETS=client_secrets.json\tPN:MarkDuplicates\tPP:bwa-5A970655\n",
      "@PG\tID:bwa-5A970655\tVN:0.5.9-tpx\tCL:bwa aln Homo_sapiens_assembly19.fasta -q 5 -l 32 -k 2 -t $NSLOTS -o 1 -f HWFLLBGXY.3.SSFDEV-207_SM_DTCCL.Homo_sapiens_assembly19.1.sai HWFLLBGXY.3.SSFDEV-207_SM_DTCCL.1.fastq.gz; bwa aln Homo_sapiens_assembly19.fasta -q 5 -l 32 -k 2 -t $NSLOTS -o 1 -f HWFLLBGXY.3.SSFDEV-207_SM_DTCCL.Homo_sapiens_assembly19.2.sai HWFLLBGXY.3.SSFDEV-207_SM_DTCCL.2.fastq.gz; bwa aln Homo_sapiens_assembly19.fasta -q 5 -l 32 -k 2 -t $NSLOTS -o 1 -f HWFLLBGXY.3.SSFDEV-207_SM_DTCCL.Homo_sapiens_assembly19.unpaired.sai HWFLLBGXY.3.SSFDEV-207_SM_DTCCL.unpaired.fastq.gz; bwa sampe -t $NSLOTS -T -P -f HWFLLBGXY.3.SSFDEV-207_SM_DTCCL.Homo_sapiens_assembly19.aligned_bwa.sam Homo_sapiens_assembly19.fasta HWFLLBGXY.3.SSFDEV-207_SM_DTCCL.Homo_sapiens_assembly19.1.sai HWFLLBGXY.3.SSFDEV-207_SM_DTCCL.Homo_sapiens_assembly19.2.sai HWFLLBGXY.3.SSFDEV-207_SM_DTCCL.1.fastq.gz HWFLLBGXY.3.SSFDEV-207_SM_DTCCL.2.fastq.gz\tPN:bwa\n",
      "@PG\tID:GATK PrintReads-771F4C2A\tVN:nightly-2015-07-31-g3c929b0\tCL:readGroup=null platform=null number=-1 sample_file=[] sample_name=[] simplify=false no_pg_tag=false\n",
      "@PG\tID:GATK IndelRealigner-6D480386\tVN:nightly-2015-07-31-g3c929b0\tCL:knownAlleles=[(RodBinding name=knownAlleles source=/seq/references/Homo_sapiens_assembly19/v1/Homo_sapiens_assembly19.dbsnp138.vcf), (RodBinding name=knownAlleles2 source=/seq/references/Homo_sapiens_assembly19/v1/Homo_sapiens_assembly19.known_indels.vcf), (RodBinding name=knownAlleles3 source=/seq/references/Homo_sapiens_assembly19/v1/Homo_sapiens_assembly19.variantEvalGoldStandard.vcf)] targetIntervals=/seq/walkup/picard/HWFLLBGXY/C1-83_2017-05-06_2017-05-06/4/SSFDEV-207_SM_DTCCL/1/null.1.merged.intervals LODThresholdForCleaning=5.0 consensusDeterminationModel=USE_READS entropyThreshold=0.15 maxReadsInMemory=150000 maxIsizeForMovement=3000 maxPositionalMoveAllowed=200 maxConsensuses=30 maxReadsForConsensuses=120 maxReadsForRealignment=20000 noOriginalAlignmentTags=false nWayOut=null generate_nWayOut_md5s=false check_early=false noPGTag=false keepPGTags=false indelsFileForDebugging=null statisticsFileForDebugging=/seq/walkup/picard/HWFLLBGXY/C1-83_2017-05-06_2017-05-06/4/SSFDEV-207_SM_DTCCL/1/null.1.indel.stats SNPsFileForDebugging=null\n",
      "@PG\tID:MarkDuplicates-71226190\tVN:f6532c4\tCL:picard.sam.markduplicates.MarkDuplicates READ_ONE_BARCODE_TAG=RX INPUT=[/seq/walkup/picard/HWFLLBGXY/C1-83_2017-05-06_2017-05-06/4/SSFDEV-207_SM_DTCCL/HWFLLBGXY.4.aligned.bam] OUTPUT=/seq/walkup/picard/HWFLLBGXY/C1-83_2017-05-06_2017-05-06/4/SSFDEV-207_SM_DTCCL/HWFLLBGXY.4.aligned.duplicates_marked.bam METRICS_FILE=/seq/walkup/picard/HWFLLBGXY/C1-83_2017-05-06_2017-05-06/4/SSFDEV-207_SM_DTCCL/HWFLLBGXY.4.duplicate_metrics OPTICAL_DUPLICATE_PIXEL_DISTANCE=2500 TMP_DIR=[/pod/pod2temp/temp/HWFLLBGXY] VALIDATION_STRINGENCY=SILENT CREATE_INDEX=true CREATE_MD5_FILE=true    MAX_SEQUENCES_FOR_DISK_READ_ENDS_MAP=50000 MAX_FILE_HANDLES_FOR_READ_ENDS_MAP=8000 SORTING_COLLECTION_SIZE_RATIO=0.25 TAG_DUPLICATE_SET_MEMBERS=false REMOVE_SEQUENCING_DUPLICATES=false TAGGING_POLICY=DontTag REMOVE_DUPLICATES=false ASSUME_SORTED=false DUPLICATE_SCORING_STRATEGY=SUM_OF_BASE_QUALITIES PROGRAM_RECORD_ID=MarkDuplicates PROGRAM_GROUP_NAME=MarkDuplicates READ_NAME_REGEX=<optimized capture of last three ':' separated fields as numeric values> VERBOSITY=INFO QUIET=false COMPRESSION_LEVEL=5 MAX_RECORDS_IN_RAM=500000 GA4GH_CLIENT_SECRETS=client_secrets.json\tPN:MarkDuplicates\tPP:bwa-1E1C1FF4\n",
      "@PG\tID:bwa-1E1C1FF4\tVN:0.5.9-tpx\tCL:bwa aln Homo_sapiens_assembly19.fasta -q 5 -l 32 -k 2 -t $NSLOTS -o 1 -f HWFLLBGXY.4.SSFDEV-207_SM_DTCCL.Homo_sapiens_assembly19.1.sai HWFLLBGXY.4.SSFDEV-207_SM_DTCCL.1.fastq.gz; bwa aln Homo_sapiens_assembly19.fasta -q 5 -l 32 -k 2 -t $NSLOTS -o 1 -f HWFLLBGXY.4.SSFDEV-207_SM_DTCCL.Homo_sapiens_assembly19.2.sai HWFLLBGXY.4.SSFDEV-207_SM_DTCCL.2.fastq.gz; bwa aln Homo_sapiens_assembly19.fasta -q 5 -l 32 -k 2 -t $NSLOTS -o 1 -f HWFLLBGXY.4.SSFDEV-207_SM_DTCCL.Homo_sapiens_assembly19.unpaired.sai HWFLLBGXY.4.SSFDEV-207_SM_DTCCL.unpaired.fastq.gz; bwa sampe -t $NSLOTS -T -P -f HWFLLBGXY.4.SSFDEV-207_SM_DTCCL.Homo_sapiens_assembly19.aligned_bwa.sam Homo_sapiens_assembly19.fasta HWFLLBGXY.4.SSFDEV-207_SM_DTCCL.Homo_sapiens_assembly19.1.sai HWFLLBGXY.4.SSFDEV-207_SM_DTCCL.Homo_sapiens_assembly19.2.sai HWFLLBGXY.4.SSFDEV-207_SM_DTCCL.1.fastq.gz HWFLLBGXY.4.SSFDEV-207_SM_DTCCL.2.fastq.gz\tPN:bwa\n",
      "@PG\tID:GATK PrintReads-57D99377\tVN:nightly-2015-07-31-g3c929b0\tCL:readGroup=null platform=null number=-1 sample_file=[] sample_name=[] simplify=false no_pg_tag=false\n"
     ]
    }
   ],
   "source": [
    "use Samtools\n",
    "samtools view -H /cil/shed/sandboxes/jlchang/ChIPseq/SSFDEV-207/mergeWalkupBam/SM-DTCCL_aligned.duplicates_marked.bam"
   ]
  },
  {
   "cell_type": "markdown",
   "metadata": {},
   "source": [
    "#### headers from bam generated from input fastq for AQUAS analysis"
   ]
  },
  {
   "cell_type": "code",
   "execution_count": 9,
   "metadata": {
    "collapsed": false
   },
   "outputs": [
    {
     "name": "stdout",
     "output_type": "stream",
     "text": [
      "@HD\tVN:1.3\tSO:coordinate\n",
      "@SQ\tSN:chr1\tLN:249250621\n",
      "@SQ\tSN:chr2\tLN:243199373\n",
      "@SQ\tSN:chr3\tLN:198022430\n",
      "@SQ\tSN:chr4\tLN:191154276\n",
      "@SQ\tSN:chr5\tLN:180915260\n",
      "@SQ\tSN:chr6\tLN:171115067\n",
      "@SQ\tSN:chr7\tLN:159138663\n",
      "@SQ\tSN:chr8\tLN:146364022\n",
      "@SQ\tSN:chr9\tLN:141213431\n",
      "@SQ\tSN:chr10\tLN:135534747\n",
      "@SQ\tSN:chr11\tLN:135006516\n",
      "@SQ\tSN:chr12\tLN:133851895\n",
      "@SQ\tSN:chr13\tLN:115169878\n",
      "@SQ\tSN:chr14\tLN:107349540\n",
      "@SQ\tSN:chr15\tLN:102531392\n",
      "@SQ\tSN:chr16\tLN:90354753\n",
      "@SQ\tSN:chr17\tLN:81195210\n",
      "@SQ\tSN:chr18\tLN:78077248\n",
      "@SQ\tSN:chr19\tLN:59128983\n",
      "@SQ\tSN:chr20\tLN:63025520\n",
      "@SQ\tSN:chr21\tLN:48129895\n",
      "@SQ\tSN:chr22\tLN:51304566\n",
      "@SQ\tSN:chrX\tLN:155270560\n",
      "@SQ\tSN:chrY\tLN:59373566\n",
      "@SQ\tSN:chrM\tLN:16571\n",
      "@PG\tID:bwa\tPN:bwa\tVN:0.7.13-r1126\tCL:bwa sampe /cil/shed/apps/external/AQUAS/genome_data/hg19/bwa_index/male.hg19.fa /cil/shed/sandboxes/jlchang/ChIPseq/SSFDEV-207/paired_fastq/SM-DTCCL_paired/align/rep1/SM-DTCCL.1.sai /cil/shed/sandboxes/jlchang/ChIPseq/SSFDEV-207/paired_fastq/SM-DTCCL_paired/align/rep1/SM-DTCCL.2.sai /cil/shed/sandboxes/jlchang/ChIPseq/SSFDEV-207/paired_fastq/SM-DTCCL.1.fastq.gz /cil/shed/sandboxes/jlchang/ChIPseq/SSFDEV-207/paired_fastq/SM-DTCCL.2.fastq.gz\n"
     ]
    }
   ],
   "source": [
    "samtools view -H /cil/shed/sandboxes/jlchang/ChIPseq/SSFDEV-207/paired_fastq/SM-DTCCL_paired/align/rep1/SM-DTCCL.1.PE2SE.bam"
   ]
  },
  {
   "cell_type": "markdown",
   "metadata": {},
   "source": [
    "#### bam headers of AQUAS-filtered bam used in fastq paired end analysis"
   ]
  },
  {
   "cell_type": "code",
   "execution_count": 10,
   "metadata": {
    "collapsed": false
   },
   "outputs": [
    {
     "name": "stdout",
     "output_type": "stream",
     "text": [
      "@HD\tVN:1.4\tSO:coordinate\n",
      "@SQ\tSN:chr1\tLN:249250621\n",
      "@SQ\tSN:chr2\tLN:243199373\n",
      "@SQ\tSN:chr3\tLN:198022430\n",
      "@SQ\tSN:chr4\tLN:191154276\n",
      "@SQ\tSN:chr5\tLN:180915260\n",
      "@SQ\tSN:chr6\tLN:171115067\n",
      "@SQ\tSN:chr7\tLN:159138663\n",
      "@SQ\tSN:chr8\tLN:146364022\n",
      "@SQ\tSN:chr9\tLN:141213431\n",
      "@SQ\tSN:chr10\tLN:135534747\n",
      "@SQ\tSN:chr11\tLN:135006516\n",
      "@SQ\tSN:chr12\tLN:133851895\n",
      "@SQ\tSN:chr13\tLN:115169878\n",
      "@SQ\tSN:chr14\tLN:107349540\n",
      "@SQ\tSN:chr15\tLN:102531392\n",
      "@SQ\tSN:chr16\tLN:90354753\n",
      "@SQ\tSN:chr17\tLN:81195210\n",
      "@SQ\tSN:chr18\tLN:78077248\n",
      "@SQ\tSN:chr19\tLN:59128983\n",
      "@SQ\tSN:chr20\tLN:63025520\n",
      "@SQ\tSN:chr21\tLN:48129895\n",
      "@SQ\tSN:chr22\tLN:51304566\n",
      "@SQ\tSN:chrX\tLN:155270560\n",
      "@SQ\tSN:chrY\tLN:59373566\n",
      "@SQ\tSN:chrM\tLN:16571\n",
      "@PG\tID:bwa\tVN:0.7.13-r1126\tCL:bwa sampe /cil/shed/apps/external/AQUAS/genome_data/hg19/bwa_index/male.hg19.fa /cil/shed/sandboxes/jlchang/ChIPseq/SSFDEV-207/paired_fastq/SM-DTCCL_paired/align/rep1/SM-DTCCL.1.sai /cil/shed/sandboxes/jlchang/ChIPseq/SSFDEV-207/paired_fastq/SM-DTCCL_paired/align/rep1/SM-DTCCL.2.sai /cil/shed/sandboxes/jlchang/ChIPseq/SSFDEV-207/paired_fastq/SM-DTCCL.1.fastq.gz /cil/shed/sandboxes/jlchang/ChIPseq/SSFDEV-207/paired_fastq/SM-DTCCL.2.fastq.gz\tPN:bwa\n",
      "@PG\tID:MarkDuplicates\tVN:1.126(4691ee611ac205d4afe2a1b7a2ea975a6f997426_1417447214)\tCL:picard.sam.markduplicates.MarkDuplicates INPUT=[/cil/shed/sandboxes/jlchang/ChIPseq/SSFDEV-207/paired_fastq/SM-DTCCL_paired/align/rep1/SM-DTCCL.1.PE2SE.filt.bam] OUTPUT=/cil/shed/sandboxes/jlchang/ChIPseq/SSFDEV-207/paired_fastq/SM-DTCCL_paired/align/rep1/SM-DTCCL.1.PE2SE.dupmark.bam METRICS_FILE=/cil/shed/sandboxes/jlchang/ChIPseq/SSFDEV-207/paired_fastq/SM-DTCCL_paired/qc/rep1/SM-DTCCL.1.PE2SE.dup.qc REMOVE_DUPLICATES=false ASSUME_SORTED=true VALIDATION_STRINGENCY=LENIENT    MAX_SEQUENCES_FOR_DISK_READ_ENDS_MAP=50000 MAX_FILE_HANDLES_FOR_READ_ENDS_MAP=8000 SORTING_COLLECTION_SIZE_RATIO=0.25 PROGRAM_RECORD_ID=MarkDuplicates PROGRAM_GROUP_NAME=MarkDuplicates DUPLICATE_SCORING_STRATEGY=SUM_OF_BASE_QUALITIES READ_NAME_REGEX=[a-zA-Z0-9]+:[0-9]:([0-9]+):([0-9]+):([0-9]+).* OPTICAL_DUPLICATE_PIXEL_DISTANCE=100 VERBOSITY=INFO QUIET=false COMPRESSION_LEVEL=5 MAX_RECORDS_IN_RAM=500000 CREATE_INDEX=false CREATE_MD5_FILE=false\tPN:MarkDuplicates\n"
     ]
    }
   ],
   "source": [
    "samtools view -H /cil/shed/sandboxes/jlchang/ChIPseq/SSFDEV-207/paired_fastq/SM-DTCCL_paired/align/rep1/SM-DTCCL.1.PE2SE.nodup.bam"
   ]
  },
  {
   "cell_type": "code",
   "execution_count": 2,
   "metadata": {
    "collapsed": true
   },
   "outputs": [],
   "source": [
    "cd /cil/shed/sandboxes/jlchang/ChIPseq/SSFDEV-207/paired_fastq_true_rep"
   ]
  },
  {
   "cell_type": "code",
   "execution_count": 4,
   "metadata": {
    "collapsed": false
   },
   "outputs": [
    {
     "name": "stdout",
     "output_type": "stream",
     "text": [
      "Prepending: UGER (ok)\n",
      "Your job 11476596 (\"run_true_rep.sh\") has been submitted\n"
     ]
    }
   ],
   "source": [
    "eval export DK_ROOT=\"/broad/software/dotkit\"; . /broad/software/dotkit/ksh/.dk_init\n",
    "use UGER\n",
    "qsub run_true_rep.sh"
   ]
  },
  {
   "cell_type": "code",
   "execution_count": 10,
   "metadata": {
    "collapsed": false
   },
   "outputs": [
    {
     "name": "stdout",
     "output_type": "stream",
     "text": [
      "SM-DTCCL.1.PE2SE.nodup.15M.tagAlign.gz\t12831543\t160\t0.15410254885341\n",
      "6\t40\t0.1531029\t1500\t0.1497803\t1.028857\t1.300869\n",
      "\t1\n"
     ]
    }
   ],
   "source": [
    "more /cil/shed/sandboxes/jlchang/ChIPseq/SSFDEV-207/paired_fastq_true_rep/SM-DTCCL_paired/qc/rep1/SM-DTCCL.1.PE2SE.nodup.15M.cc.qc"
   ]
  },
  {
   "cell_type": "markdown",
   "metadata": {},
   "source": [
    " ## true_rep run 13 hrs, 11G (config for max 8 threads)"
   ]
  },
  {
   "cell_type": "code",
   "execution_count": 2,
   "metadata": {
    "collapsed": false
   },
   "outputs": [
    {
     "name": "stdout",
     "output_type": "stream",
     "text": [
      "Prepending: UGER (ok)\n",
      "==============================================================\n",
      "qname        long                \n",
      "hostname     uger-d002.broadinstitute.org\n",
      "group        btl                 \n",
      "owner        jlchang             \n",
      "project      broad               \n",
      "department   defaultdepartment   \n",
      "jobname      run_true_rep.sh     \n",
      "jobnumber    11476596            \n",
      "taskid       undefined\n",
      "account      sge                 \n",
      "priority     0                   \n",
      "cwd          /cil/shed/sandboxes/jlchang/ChIPseq/SSFDEV-207/paired_fastq_true_rep\n",
      "submit_host  hw-uger-1004.broadinstitute.org\n",
      "submit_cmd   qsub run_true_rep.sh\n",
      "qsub_time    06/22/2017 09:20:32.417\n",
      "start_time   06/22/2017 09:20:37.615\n",
      "end_time     06/22/2017 22:18:36.528\n",
      "granted_pe   NONE                \n",
      "slots        1                   \n",
      "failed       0    \n",
      "deleted_by   NONE\n",
      "exit_status  0                   \n",
      "ru_wallclock 46678.913    \n",
      "ru_utime     42208.457    \n",
      "ru_stime     1915.556     \n",
      "ru_maxrss    11095204            \n",
      "ru_ixrss     0                   \n",
      "ru_ismrss    0                   \n",
      "ru_idrss     0                   \n",
      "ru_isrss     0                   \n",
      "ru_minflt    59408346            \n",
      "ru_majflt    690                 \n",
      "ru_nswap     0                   \n",
      "ru_inblock   85576512            \n",
      "ru_oublock   90400384            \n",
      "ru_msgsnd    0                   \n",
      "ru_msgrcv    0                   \n",
      "ru_nsignals  0                   \n",
      "ru_nvcsw     15730760            \n",
      "ru_nivcsw    14552903            \n",
      "wallclock    46679.146    \n",
      "cpu          45920.670    \n",
      "mem          210019.314        \n",
      "io           2098.922          \n",
      "iow          221.690           \n",
      "ioops        69009264            \n",
      "maxvmem      33.435G\n",
      "maxrss       0.000\n",
      "maxpss       0.000\n",
      "arid         undefined\n",
      "jc_name      NONE\n"
     ]
    }
   ],
   "source": [
    "eval export DK_ROOT=\"/broad/software/dotkit\"; . /broad/software/dotkit/ksh/.dk_init\n",
    "use UGER\n",
    "qacct -j 11476596"
   ]
  },
  {
   "cell_type": "code",
   "execution_count": 5,
   "metadata": {
    "collapsed": true
   },
   "outputs": [],
   "source": [
    "cd ../paired_fastq_no_pseudo"
   ]
  },
  {
   "cell_type": "code",
   "execution_count": 6,
   "metadata": {
    "collapsed": false
   },
   "outputs": [
    {
     "name": "stdout",
     "output_type": "stream",
     "text": [
      "Your job 11476598 (\"run_no_pseudo.sh\") has been submitted\n"
     ]
    }
   ],
   "source": [
    "qsub run_no_pseudo.sh"
   ]
  },
  {
   "cell_type": "code",
   "execution_count": 11,
   "metadata": {
    "collapsed": false
   },
   "outputs": [
    {
     "name": "stdout",
     "output_type": "stream",
     "text": [
      "SM-DTCCL.1.PE2SE.nodup.15M.tagAlign.gz\t12831543\t160\t0.15410254885341\n",
      "6\t40\t0.1531029\t1500\t0.1497803\t1.028857\t1.300869\n",
      "\t1\n"
     ]
    }
   ],
   "source": [
    "more /cil/shed/sandboxes/jlchang/ChIPseq/SSFDEV-207/paired_fastq_no_pseudo/SM-DTCCL_paired/qc/rep1/SM-DTCCL.1.PE2SE.nodup.15M.cc.qc"
   ]
  },
  {
   "cell_type": "markdown",
   "metadata": {},
   "source": [
    "## no pseudo run 11 hrs, 10.3G (config for max 8 threads)"
   ]
  },
  {
   "cell_type": "code",
   "execution_count": 8,
   "metadata": {
    "collapsed": false
   },
   "outputs": [
    {
     "name": "stdout",
     "output_type": "stream",
     "text": [
      "==============================================================\n",
      "qname        long                \n",
      "hostname     uger-c049.broadinstitute.org\n",
      "group        btl                 \n",
      "owner        jlchang             \n",
      "project      broad               \n",
      "department   defaultdepartment   \n",
      "jobname      run_no_pseudo.sh    \n",
      "jobnumber    11476598            \n",
      "taskid       undefined\n",
      "account      sge                 \n",
      "priority     0                   \n",
      "cwd          /cil/shed/sandboxes/jlchang/ChIPseq/SSFDEV-207/paired_fastq_no_pseudo\n",
      "submit_host  hw-uger-1004.broadinstitute.org\n",
      "submit_cmd   qsub run_no_pseudo.sh\n",
      "qsub_time    06/22/2017 09:21:09.065\n",
      "start_time   06/22/2017 09:21:11.179\n",
      "end_time     06/22/2017 20:34:38.697\n",
      "granted_pe   NONE                \n",
      "slots        1                   \n",
      "failed       0    \n",
      "deleted_by   NONE\n",
      "exit_status  0                   \n",
      "ru_wallclock 40407.518    \n",
      "ru_utime     38036.145    \n",
      "ru_stime     497.048      \n",
      "ru_maxrss    10331080            \n",
      "ru_ixrss     0                   \n",
      "ru_ismrss    0                   \n",
      "ru_idrss     0                   \n",
      "ru_isrss     0                   \n",
      "ru_minflt    59496605            \n",
      "ru_majflt    355                 \n",
      "ru_nswap     0                   \n",
      "ru_inblock   88869536            \n",
      "ru_oublock   93694408            \n",
      "ru_msgsnd    0                   \n",
      "ru_msgrcv    0                   \n",
      "ru_nsignals  0                   \n",
      "ru_nvcsw     16320374            \n",
      "ru_nivcsw    14671282            \n",
      "wallclock    40407.645    \n",
      "cpu          39951.950    \n",
      "mem          210960.474        \n",
      "io           2130.109          \n",
      "iow          64.950            \n",
      "ioops        72839078            \n",
      "maxvmem      46.552G\n",
      "maxrss       0.000\n",
      "maxpss       0.000\n",
      "arid         undefined\n",
      "jc_name      NONE\n"
     ]
    }
   ],
   "source": [
    "qacct -j 11476598"
   ]
  },
  {
   "cell_type": "code",
   "execution_count": 7,
   "metadata": {
    "collapsed": true
   },
   "outputs": [],
   "source": [
    "cd ../paired_fastq_noP_nth2"
   ]
  },
  {
   "cell_type": "code",
   "execution_count": 8,
   "metadata": {
    "collapsed": false
   },
   "outputs": [
    {
     "name": "stdout",
     "output_type": "stream",
     "text": [
      "Your job 11476600 (\"run_noP_nth2.sh\") has been submitted\n"
     ]
    }
   ],
   "source": [
    "qsub run_noP_nth2.sh"
   ]
  },
  {
   "cell_type": "code",
   "execution_count": 12,
   "metadata": {
    "collapsed": false
   },
   "outputs": [
    {
     "name": "stdout",
     "output_type": "stream",
     "text": [
      "SM-DTCCL.1.PE2SE.nodup.15M.tagAlign.gz\t12831543\t160\t0.15410254885341\n",
      "6\t40\t0.1531029\t1500\t0.1497803\t1.028857\t1.300869\n",
      "\t1\n"
     ]
    }
   ],
   "source": [
    "more /cil/shed/sandboxes/jlchang/ChIPseq/SSFDEV-207/paired_fastq_noP_nth2/SM-DTCCL_paired/qc/rep1/SM-DTCCL.1.PE2SE.nodup.15M.cc.qc"
   ]
  },
  {
   "cell_type": "markdown",
   "metadata": {},
   "source": [
    "## no pseudo run 11 hrs, 11G (config for max 2 threads)"
   ]
  },
  {
   "cell_type": "code",
   "execution_count": 9,
   "metadata": {
    "collapsed": false
   },
   "outputs": [
    {
     "name": "stdout",
     "output_type": "stream",
     "text": [
      "==============================================================\n",
      "qname        long                \n",
      "hostname     uger-c043.broadinstitute.org\n",
      "group        btl                 \n",
      "owner        jlchang             \n",
      "project      broad               \n",
      "department   defaultdepartment   \n",
      "jobname      run_noP_nth2.sh     \n",
      "jobnumber    11476600            \n",
      "taskid       undefined\n",
      "account      sge                 \n",
      "priority     0                   \n",
      "cwd          /cil/shed/sandboxes/jlchang/ChIPseq/SSFDEV-207/paired_fastq_noP_nth2\n",
      "submit_host  hw-uger-1004.broadinstitute.org\n",
      "submit_cmd   qsub run_noP_nth2.sh\n",
      "qsub_time    06/22/2017 09:21:28.799\n",
      "start_time   06/22/2017 09:21:30.336\n",
      "end_time     06/22/2017 20:31:59.829\n",
      "granted_pe   NONE                \n",
      "slots        1                   \n",
      "failed       0    \n",
      "deleted_by   NONE\n",
      "exit_status  0                   \n",
      "ru_wallclock 40229.493    \n",
      "ru_utime     37637.659    \n",
      "ru_stime     1032.800     \n",
      "ru_maxrss    11021892            \n",
      "ru_ixrss     0                   \n",
      "ru_ismrss    0                   \n",
      "ru_idrss     0                   \n",
      "ru_isrss     0                   \n",
      "ru_minflt    66481669            \n",
      "ru_majflt    617                 \n",
      "ru_nswap     0                   \n",
      "ru_inblock   89146936            \n",
      "ru_oublock   93968528            \n",
      "ru_msgsnd    0                   \n",
      "ru_msgrcv    0                   \n",
      "ru_nsignals  0                   \n",
      "ru_nvcsw     12554483            \n",
      "ru_nivcsw    10045885            \n",
      "wallclock    40229.607    \n",
      "cpu          39665.510    \n",
      "mem          150596.909        \n",
      "io           2141.782          \n",
      "iow          162.030           \n",
      "ioops        65745712            \n",
      "maxvmem      23.381G\n",
      "maxrss       0.000\n",
      "maxpss       0.000\n",
      "arid         undefined\n",
      "jc_name      NONE\n"
     ]
    }
   ],
   "source": [
    "qacct -j 11476600"
   ]
  },
  {
   "cell_type": "code",
   "execution_count": 7,
   "metadata": {
    "collapsed": false
   },
   "outputs": [
    {
     "name": "stdout",
     "output_type": "stream",
     "text": [
      "job-ID     prior   name       user         state submit/start at     queue                          jclass                         slots ja-task-ID \n",
      "------------------------------------------------------------------------------------------------------------------------------------------------\n",
      "  11498196 2.11647 QRLOGIN    jlchang      r     06/23/2017 09:22:07 interactive@hw-uger-1003.broad                                    1        \n"
     ]
    }
   ],
   "source": [
    "qstat"
   ]
  },
  {
   "cell_type": "code",
   "execution_count": 13,
   "metadata": {
    "collapsed": false
   },
   "outputs": [
    {
     "name": "stdout",
     "output_type": "stream",
     "text": [
      "SM-DTCCL.1.PE2SE.nodup.15M.tagAlign.gz\t12831543\t160\t0.15410254885341\n",
      "6\t40\t0.1531029\t1500\t0.1497803\t1.028857\t1.300869\n",
      "\t1\n"
     ]
    }
   ],
   "source": [
    "more /cil/shed/sandboxes/jlchang/ChIPseq/SSFDEV-207/paired_fastq/SM-DTCCL_paired/qc/rep1/SM-DTCCL.1.PE2SE.nodup.15M.cc.qc"
   ]
  },
  {
   "cell_type": "markdown",
   "metadata": {},
   "source": [
    "## all four runs with same input fastq have the same RSC\n",
    "try changing dup marker to alter input\n",
    "-dup_marker sambamba\n",
    "-subsample_xcor [NO_READS_TO_SUBSAMPLE]"
   ]
  },
  {
   "cell_type": "raw",
   "metadata": {},
   "source": []
  }
 ],
 "metadata": {
  "kernelspec": {
   "display_name": "Bash",
   "language": "bash",
   "name": "bash"
  },
  "language_info": {
   "codemirror_mode": "shell",
   "file_extension": ".sh",
   "mimetype": "text/x-sh",
   "name": "bash"
  }
 },
 "nbformat": 4,
 "nbformat_minor": 1
}
