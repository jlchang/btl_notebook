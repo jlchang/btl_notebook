{
 "cells": [
  {
   "cell_type": "raw",
   "metadata": {},
   "source": [
    "/cil/shed/sandboxes/jlchang/ChIPseq/BTLDEV-1336/example_aquas_script.sh\n",
    "#!/bin/bash\n",
    "\n",
    "#$ -cwd\n",
    "#$ -l h_vmem=15G\n",
    "#$ -q long\n",
    "\n",
    "source /broad/software/scripts/useuse\n",
    "use -q group=btl\n",
    "use -q .aquas-201706\n",
    "\n",
    "bds /cil/shed/apps/external/AQUAS/20170503_install/20170503_39a6383/chipseq_pipeline-master/chipseq.bds -no_par -true_rep -type histone -species hg19 -fastq1_1 /btl/data/MiSeq0/runs/ChIPSeq/170711_M03102_0406_000000000-B8V9K/Data/Intensities/BaseCalls/A1_S1_L001_R1_001.fastq.gz -fastq1_2 /btl/data/MiSeq0/runs/ChIPSeq/170711_M03102_0406_000000000-B8V9K/Data/Intensities/BaseCalls/A1_S1_L001_R2_001.fastq.gz -out_dir A1_S1\n"
   ]
  },
  {
   "cell_type": "raw",
   "metadata": {},
   "source": [
    "cd /cil/shed/sandboxes/jlchang/ChIPseq/BTLDEV-1336\n",
    "use UGER\n",
    "qsub example_aquas_script.sh\n",
    "Your job 12109627 (\"example_aquas_script.sh\") has been submitted"
   ]
  },
  {
   "cell_type": "raw",
   "metadata": {},
   "source": [
    "qsub aquas_provide_fasta.sh /btl/data/MiSeq0/runs/ChIPSeq/170711_M03102_0406_000000000-B8V9K/Data/Intensities/BaseCalls/A2_S2_L001_R1_001.fastq.gz /btl/data/MiSeq0/runs/ChIPSeq/170711_M03102_0406_000000000-B8V9K/Data/Intensities/BaseCalls/A2_S2_L001_R2_001.fastq.gz A2_S2\n",
    "Your job 12110404 (\"aquas_provide_fasta.sh\") has been submitted"
   ]
  },
  {
   "cell_type": "raw",
   "metadata": {},
   "source": [
    "job-ID     prior   name       user         state submit/start at     queue                          jclass                         slots ja-task-ID\n",
    "------------------------------------------------------------------------------------------------------------------------------------------------\n",
    "  12109627 1.60411 example_aq jlchang      r     07/12/2017 14:15:17 long@ugerbm-d004.broadinstitut                                    1\n",
    "  12110404 0.89343 aquas_prov jlchang      qw    07/12/2017 14:30:53                                                                   1"
   ]
  },
  {
   "cell_type": "code",
   "execution_count": null,
   "metadata": {
    "collapsed": true
   },
   "outputs": [],
   "source": []
  }
 ],
 "metadata": {
  "kernelspec": {
   "display_name": "Bash",
   "language": "bash",
   "name": "bash"
  },
  "language_info": {
   "codemirror_mode": "shell",
   "file_extension": ".sh",
   "mimetype": "text/x-sh",
   "name": "bash"
  }
 },
 "nbformat": 4,
 "nbformat_minor": 0
}
