{
 "cells": [
  {
   "cell_type": "code",
   "execution_count": 1,
   "metadata": {
    "collapsed": false
   },
   "outputs": [
    {
     "name": "stdout",
     "output_type": "stream",
     "text": [
      "Tue Apr 11 13:22:59 EDT 2017\n"
     ]
    }
   ],
   "source": [
    "date\n"
   ]
  },
  {
   "cell_type": "markdown",
   "metadata": {},
   "source": [
    "GOAL - How much sequencing is needed to determine if a lab experiment \"worked\"\n",
    "\n",
    "- [ ] subgoal 1 - what does a successful experiment look like (vs a failed experiment)\n",
    "    * obtain data for a \"successful\" experiment\n",
    "    * obtain data for a \"failed\" experiment (using the same antibody and cell type?)\n",
    "    * Look for data in epigenomics portal (use Safari, allow Java etc)\n",
    "        https://intranet.broadinstitute.org/cgi-bin/epigenomics/private/prod/cloneportal.cgi\n",
    "    * (setup info for portal https://mail.google.com/mail/u/0/?ui=2&ik=2697a020ca&view=om&th=15a8b7de6fae67a6)\n",
    "- [ ] subgoal 2 - what metric(s) can be used to measure success? (overlap of peaks? SPOT score?)\n",
    "- [ ] subgoal 2 - how much sequence is needed to distiguish \"successful\" fro \"failed\"\n",
    "---"
   ]
  },
  {
   "cell_type": "markdown",
   "metadata": {},
   "source": [
    " * ENCODE data used: \n",
    "     * Alignment genome - GRCH38, /seq/references/Homo_sapiens_assembly38\n",
    "     * Peak caller - MACS2\n",
    "\n",
    " * Our analysis process:\n",
    "     * Peak caller - Homer4.7\n",
    "     * subsample tool - Michele's (Does it matter if I use Michele's or picard?)\n",
    "\n",
    " * BTL data SSF-1417:\n",
    "     * Alignment genome - \n",
    "     \n",
    "***"
   ]
  },
  {
   "cell_type": "markdown",
   "metadata": {},
   "source": [
    "+ have peaks for two sets of ENCODE data, adrenal and K562  \n",
    "\n",
    "    + If I downsample adrenal and compare to full sample adrenal, how many peaks do I lose?\n",
    "    + If I compare K562 to full sample adrenal, what happens to peak overlap?\n",
    "    + If I downsample K562 and compare to full K562 or full adrenal - what do I see?"
   ]
  },
  {
   "cell_type": "markdown",
   "metadata": {},
   "source": [
    "- [X] Code task:\n",
    " * modify Michele's script to downsample particular target read levels instead of her downsampling strategy\n",
    " * assume 20M aligned reads is whole data set\n"
   ]
  },
  {
   "cell_type": "markdown",
   "metadata": {},
   "source": [
    "Modified Michele's pipeline to created downsampled output\n",
    "\n",
    "Three modified scripts:\n",
    "ChipSeqSubsampleAllBamsInDirectory.sh (which calls the next script)\n",
    "ChipSeqSubsamplePipeline.sh (which calls the next script)\n",
    "ChipSeqCallPeaksSubsampled.sh\n",
    "\n",
    "For testing, ChipSeqSubsamplePipeline.sh did two iterations of 50,000 read subsample\n",
    "(with no subsample iterations specified, should get two iterations). Scripts are hard-coded to use UGER cluster\n"
   ]
  },
  {
   "cell_type": "markdown",
   "metadata": {},
   "source": [
    "to get GIT repo commitID tagging on scripts, add files to .gitattributes\n",
    "follow existing format in .gitattributes, check in updated gitattribtes to take effect\n",
    "generated archive with this command (no special git needed on login host - only for push):\n",
    "\n",
    "#git pull first if needed\n",
    "git archive -o /cil/shed/apps/internal/SSF/ChipSeq/modscripts.tgz HEAD scripts/ChIPseq\n",
    "\n",
    "unpack tarball and put scripts into /cil/shed/apps/internal/SSF/ChipSeq"
   ]
  },
  {
   "cell_type": "markdown",
   "metadata": {},
   "source": [
    "20170304 EXAMPLE invocation - using default # of iterations, ChipSeqSubsamplePipeline.sh with full subsampling.\n",
    "\n",
    "from stout\n",
    "\n",
    "use UGER\n",
    " \n",
    "cd /cil/shed/apps/internal/SSF/ChipSeq\n",
    " \n",
    "adrenal re-run\n",
    "\n",
    "qsub -cwd -j y -b y -o ~/adrenal_subsample5.out -q long -l h_vmem=32g sh ChipSeqSubsamplePipeline.sh /btl/projects/ChIPseq/ENCODE/data/H3K27ac_adrenal/ENCFF357WIV.bam  /btl/projects/ChIPseq/ENCODE/data/H3K27ac_adrenal/full_subsample5_analysisWctrl_GRCh38 /btl/projects/ChIPseq/ENCODE/data/H3K27ac_adrenal/test_subsample_analysisWctrl_GRCh38/Tags/ENCFF159PLR histone /seq/references/Homo_sapiens_assembly38/v0/Homo_sapiens_assembly38.fasta TRUE long /cil/shed/apps/internal/SSF/ChipSeq \n",
    "\n",
    "Your job 7993315 (\"sh\") has been submitted\n",
    "\n",
    "\n",
    "____________________\n",
    "K562 processing:\n",
    "qsub -cwd -j y -b y -o ~/K562_subsample5.out -q long -l h_vmem=32g sh ChipSeqSubsamplePipeline.sh /btl/projects/ChIPseq/ENCODE/data/H3K27ac_K562/ENCFF301TVL.bam  /btl/projects/ChIPseq/ENCODE/data/H3K27ac_K562/full_subsample5_analysisWctrl_GRCh38 /btl/projects/ChIPseq/ENCODE/data/H3K27ac_K562/full_subsample_analysisWctrl_GRCh38/Tags/ENCFF392XRJ histone /seq/references/Homo_sapiens_assembly38/v0/Homo_sapiens_assembly38.fasta TRUE long /cil/shed/apps/internal/SSF/ChipSeq \n",
    "\n",
    "Your job 7993316 (\"sh\") has been submitted"
   ]
  },
  {
   "cell_type": "code",
   "execution_count": 5,
   "metadata": {
    "collapsed": false
   },
   "outputs": [
    {
     "name": "stdout",
     "output_type": "stream",
     "text": [
      "total 2197435\n",
      "-rw-r--r--+ 1 jlchang btl       112 Apr  5 21:18 downsam_size.sh.e7825899\n",
      "-rw-r--r--+ 1 jlchang btl       112 Apr  5 21:20 downsam_size.sh.e7826012\n",
      "-rw-r--r--+ 1 jlchang btl       112 Apr  5 21:20 downsam_size.sh.e7826013\n",
      "-rw-r--r--+ 1 jlchang btl       112 Apr  5 21:20 downsam_size.sh.e7826014\n",
      "-rw-r--r--+ 1 jlchang btl       112 Apr  5 21:20 downsam_size.sh.e7826015\n",
      "-rw-r--r--+ 1 jlchang btl       112 Apr  5 21:20 downsam_size.sh.e7826016\n",
      "-rw-r--r--+ 1 jlchang btl       112 Apr  5 21:20 downsam_size.sh.e7826017\n",
      "-rw-r--r--+ 1 jlchang btl       112 Apr  5 21:20 downsam_size.sh.e7826018\n",
      "-rw-r--r--+ 1 jlchang btl       112 Apr  5 21:20 downsam_size.sh.e7826019\n",
      "-rw-r--r--+ 1 jlchang btl       112 Apr  5 21:20 downsam_size.sh.e7826020\n",
      "-rw-r--r--+ 1 jlchang btl       112 Apr  5 21:20 downsam_size.sh.e7826021\n",
      "-rw-r--r--+ 1 jlchang btl       112 Apr  5 21:20 downsam_size.sh.e7826022\n",
      "-rw-r--r--+ 1 jlchang btl       112 Apr  5 21:20 downsam_size.sh.e7826023\n",
      "-rw-r--r--+ 1 jlchang btl       112 Apr  5 21:20 downsam_size.sh.e7826024\n",
      "-rw-r--r--+ 1 jlchang btl       112 Apr  5 21:20 downsam_size.sh.e7826025\n",
      "-rw-r--r--+ 1 jlchang btl       112 Apr  5 21:20 downsam_size.sh.e7826026\n",
      "-rw-r--r--+ 1 jlchang btl       112 Apr  5 21:20 downsam_size.sh.e7826027\n",
      "-rw-r--r--+ 1 jlchang btl       180 Apr  5 21:20 downsam_size.sh.e7826028\n",
      "-rw-rw-r--+ 1 jlchang btl   4817703 Apr  5 16:18 ENCFF301TVL.100000+1.bam\n",
      "-rw-rw-r--+ 1 jlchang btl   4834108 Apr  5 16:20 ENCFF301TVL.100000+2.bam\n",
      "-rw-rw-r--+ 1 jlchang btl 415163175 Apr  5 16:38 ENCFF301TVL.11000000+1.bam\n",
      "-rw-rw-r--+ 1 jlchang btl 415163175 Apr  5 16:45 ENCFF301TVL.11000000+2.bam\n",
      "-rw-rw-r--+ 1 jlchang btl  68234468 Apr  5 16:28 ENCFF301TVL.1500000+1.bam\n",
      "-rw-rw-r--+ 1 jlchang btl  68317702 Apr  5 16:31 ENCFF301TVL.1500000+2.bam\n",
      "-rw-rw-r--+ 1 jlchang btl  11883763 Apr  5 16:22 ENCFF301TVL.250000+1.bam\n",
      "-rw-rw-r--+ 1 jlchang btl  11874388 Apr  5 16:24 ENCFF301TVL.250000+2.bam\n",
      "-rw-rw-r--+ 1 jlchang btl 415163175 Apr  5 16:48 ENCFF301TVL.30000000+1.bam\n",
      "-rw-rw-r--+ 1 jlchang btl 415163175 Apr  5 16:47 ENCFF301TVL.30000000+2.bam\n",
      "-rw-rw-r--+ 1 jlchang btl 176097149 Apr  5 16:33 ENCFF301TVL.4000000+1.bam\n",
      "-rw-rw-r--+ 1 jlchang btl 176135430 Apr  5 16:38 ENCFF301TVL.4000000+2.bam\n",
      "-rw-rw-r--+ 1 jlchang btl   2435783 Apr  5 16:13 ENCFF301TVL.50000+1.bam\n",
      "-rw-rw-r--+ 1 jlchang btl   2446048 Apr  5 16:16 ENCFF301TVL.50000+2.bam\n",
      "-rw-rw-r--+ 1 jlchang btl  27985546 Apr  5 16:25 ENCFF301TVL.600000+1.bam\n",
      "-rw-rw-r--+ 1 jlchang btl  27979742 Apr  5 16:30 ENCFF301TVL.600000+2.bam\n"
     ]
    }
   ],
   "source": [
    "cd -P ~/BTL/ChIPseq/ENCODE/data/H3K27ac_K562/full_subsample2_analysisWctrl_GRCh38/Downsampling/bams\n",
    "ls -l\n"
   ]
  },
  {
   "cell_type": "code",
   "execution_count": 6,
   "metadata": {
    "collapsed": false
   },
   "outputs": [
    {
     "name": "stdout",
     "output_type": "stream",
     "text": [
      "total 4805173\n",
      "-rw-rw-r--+ 1 jlchang btl    6196011 Apr  5 21:37 ENCFF357WIV.100000+1.bam\n",
      "-rw-rw-r--+ 1 jlchang btl    6214990 Apr  5 21:39 ENCFF357WIV.100000+2.bam\n",
      "-rw-rw-r--+ 1 jlchang btl  624173585 Apr  5 21:57 ENCFF357WIV.11000000+1.bam\n",
      "-rw-rw-r--+ 1 jlchang btl  623980922 Apr  5 22:04 ENCFF357WIV.11000000+2.bam\n",
      "-rw-rw-r--+ 1 jlchang btl   89497981 Apr  5 21:53 ENCFF357WIV.1500000+1.bam\n",
      "-rw-rw-r--+ 1 jlchang btl   89473355 Apr  5 21:52 ENCFF357WIV.1500000+2.bam\n",
      "-rw-rw-r--+ 1 jlchang btl   15281479 Apr  5 21:41 ENCFF357WIV.250000+1.bam\n",
      "-rw-rw-r--+ 1 jlchang btl   15332691 Apr  5 21:43 ENCFF357WIV.250000+2.bam\n",
      "-rw-rw-r--+ 1 jlchang btl 1445278588 Apr  5 22:11 ENCFF357WIV.30000000+1.bam\n",
      "-rw-rw-r--+ 1 jlchang btl 1445278588 Apr  5 22:12 ENCFF357WIV.30000000+2.bam\n",
      "-rw-rw-r--+ 1 jlchang btl  234076527 Apr  5 21:53 ENCFF357WIV.4000000+1.bam\n",
      "-rw-rw-r--+ 1 jlchang btl  234133627 Apr  5 21:53 ENCFF357WIV.4000000+2.bam\n",
      "-rw-rw-r--+ 1 jlchang btl    3130661 Apr  5 21:30 ENCFF357WIV.50000+1.bam\n",
      "-rw-rw-r--+ 1 jlchang btl    3138789 Apr  5 21:38 ENCFF357WIV.50000+2.bam\n",
      "-rw-rw-r--+ 1 jlchang btl   36297789 Apr  5 21:50 ENCFF357WIV.600000+1.bam\n",
      "-rw-rw-r--+ 1 jlchang btl   36278345 Apr  5 21:49 ENCFF357WIV.600000+2.bam\n"
     ]
    }
   ],
   "source": [
    "cd -P ~/BTL/ChIPseq/ENCODE/data/H3K27ac_adrenal/full_subsample4_analysisWctrl_GRCh38/Downsampling/bams\n",
    "ls -l"
   ]
  },
  {
   "cell_type": "markdown",
   "metadata": {},
   "source": [
    "Using HOMER to calculate overlapping sets\n",
    "++++++\n",
    "For separating the peaks into common and specific sets for focused analysis, use the \"-prefix <filename>\" option\n",
    "\n",
    "on stout\n",
    "in /btl/projects/ChIPseq/ENCODE/jlcAnalysis/ENCODE_H3K27ac/overlaps\n",
    "use .homer-4.7\n",
    "mergePeaks -d given /btl/projects/ChIPseq/ENCODE/data/H3K27ac_adrenal/full_subsample4_analysisWctrl_GRCh38/Peaks/ENCFF357WIV.calls /btl/projects/ChIPseq/ENCODE/data/H3K27ac_adrenal/full_subsample4_analysisWctrl_GRCh38/Downsampling/Peaks/ENCFF357WIV.4000000+1.calls -prefix ss4_4000000.1\n",
    "\n",
    "NOPE - combined name for final file is too long. Ugh\n",
    "\n",
    "try again \n",
    "in /btl/projects/ChIPseq/ENCODE/data/H3K27ac_adrenal/full_subsample4_analysisWctrl_GRCh38/Peaks\n",
    "mergePeaks -d given ENCFF357WIV.calls ../Downsampling/Peaks/ENCFF357WIV.4000000+1.calls -prefix /btl/projects/ChIPseq/ENCODE/jlcAnalysis/ENCODE_H3K27ac/overlaps/ss4_4000000.1\n",
    "\n",
    "   2231 ss4_4000000.1_.._Downsampling_Peaks_ENCFF357WIV.4000000+1.calls\n",
    "  10250 ss4_4000000.1_ENCFF357WIV.calls\n",
    "   8988 ss4_4000000.1_ENCFF357WIV.calls_.._Downsampling_Peaks_ENCFF357WIV.4000000+1.calls\n",
    "   \n",
    "   "
   ]
  },
  {
   "cell_type": "code",
   "execution_count": 13,
   "metadata": {
    "collapsed": false
   },
   "outputs": [
    {
     "name": "stdout",
     "output_type": "stream",
     "text": [
      "Prepending: .homer-4.7 (already loaded)\n",
      "\tMax distance to merge: direct overlap required (-d given)\n",
      "\tMerging peaks... \n",
      "\tComparing ENCFF357WIV.calls (19243 total) and ENCFF357WIV.calls (19243 total)\n",
      "\tComparing ENCFF357WIV.calls (19243 total) and /btl/projects/ChIPseq/ENCODE/data/H3K27ac_K562/full_subsample_analysisWctrl_GRCh38/Peaks/ENCFF301TVL.calls (37402 total)\n",
      "\tComparing /btl/projects/ChIPseq/ENCODE/data/H3K27ac_K562/full_subsample_analysisWctrl_GRCh38/Peaks/ENCFF301TVL.calls (37402 total) and ENCFF357WIV.calls (19243 total)\n",
      "\tComparing /btl/projects/ChIPseq/ENCODE/data/H3K27ac_K562/full_subsample_analysisWctrl_GRCh38/Peaks/ENCFF301TVL.calls (37402 total) and /btl/projects/ChIPseq/ENCODE/data/H3K27ac_K562/full_subsample_analysisWctrl_GRCh38/Peaks/ENCFF301TVL.calls (37402 total)\n",
      "\n",
      "ENCFF357WIV.calls\t/btl/projects/ChIPseq/ENCODE/data/H3K27ac_K562/full_subsample_analysisWctrl_GRCh38/Peaks/ENCFF301TVL.calls\tTotal\tName\n",
      "\tX\t27696\t/btl/projects/ChIPseq/ENCODE/data/H3K27ac_K562/full_subsample_analysisWctrl_GRCh38/Peaks/ENCFF301TVL.calls\n",
      "X\t\t9280\tENCFF357WIV.calls\n",
      "X\tX\t9524\tENCFF357WIV.calls|/btl/projects/ChIPseq/ENCODE/data/H3K27ac_K562/full_subsample_analysisWctrl_GRCh38/Peaks/ENCFF301TVL.calls\n"
     ]
    }
   ],
   "source": [
    "cd /btl/projects/ChIPseq/ENCODE/data/H3K27ac_adrenal/full_subsample4_analysisWctrl_GRCh38/Peaks\n",
    "eval export DK_ROOT=\"/broad/software/dotkit\"; . /broad/software/dotkit/ksh/.dk_init ; use .homer-4.7\n",
    "mergePeaks -d given ENCFF357WIV.calls /btl/projects/ChIPseq/ENCODE/data/H3K27ac_K562/full_subsample_analysisWctrl_GRCh38/Peaks/ENCFF301TVL.calls -prefix /btl/projects/ChIPseq/ENCODE/jlcAnalysis/ENCODE_H3K27ac/overlaps/full_adrenalss3K562ss1_"
   ]
  },
  {
   "cell_type": "raw",
   "metadata": {
    "collapsed": true
   },
   "source": [
    "Orig, named backwards (order of files)\n",
    "9281 full_K562ss1_adrenalss3_ENCFF357WIV.calls\n",
    "    9525 full_K562ss1_adrenalss3_ENCFF357WIV.calls__btl_projects_ChIPseq_ENCODE_data_H3K27ac_K562_full_subsample_analysisWctrl_GRCh38_Peaks_ENCFF301TVL.calls\n",
    "   27697 full_K562ss1_adrenalss3__btl_projects_ChIPseq_ENCODE_data_H3K27ac_K562_full_subsample_analysisWctrl_GRCh38_Peaks_ENCFF301TVL.calls\n",
    "\n",
    "Redo output:\n",
    "    9281 full_adrenalss3K562ss1__ENCFF357WIV.calls\n",
    "    9525 full_adrenalss3K562ss1__ENCFF357WIV.calls__btl_projects_ChIPseq_ENCODE_data_H3K27ac_K562_full_subsample_analysisWctrl_GRCh38_Peaks_ENCFF301TVL.calls\n",
    "   27697 full_adrenalss3K562ss1___btl_projects_ChIPseq_ENCODE_data_H3K27ac_K562_full_subsample_analysisWctrl_GRCh38_Peaks_ENCFF301TVL.calls\n",
    "   19244 full_adrenalss3K562ss1___btl_projects_ChIPseq_ENCODE_data_H3K27ac_adrenal_full_subsample4_analysisWctrl_GRCh38_Peaks_ENCFF357WIV.calls"
   ]
  },
  {
   "cell_type": "raw",
   "metadata": {},
   "source": [
    "ToDo:\n",
    "===\n",
    "\n",
    "compare A vs B run to B vs A - differences? NO\n",
    "run all subsamples against full\n",
    "graph peak # against subsample targets\n"
   ]
  },
  {
   "cell_type": "code",
   "execution_count": 14,
   "metadata": {
    "collapsed": false
   },
   "outputs": [
    {
     "name": "stdout",
     "output_type": "stream",
     "text": [
      "\tMax distance to merge: direct overlap required (-d given)\n",
      "\tMerging peaks... \n",
      "\tComparing ENCFF301TVL.calls (37402 total) and ENCFF301TVL.calls (37402 total)\n",
      "\tComparing ENCFF301TVL.calls (37402 total) and /btl/projects/ChIPseq/ENCODE/data/H3K27ac_adrenal/full_subsample4_analysisWctrl_GRCh38/Peaks/ENCFF357WIV.calls (19243 total)\n",
      "\tComparing /btl/projects/ChIPseq/ENCODE/data/H3K27ac_adrenal/full_subsample4_analysisWctrl_GRCh38/Peaks/ENCFF357WIV.calls (19243 total) and ENCFF301TVL.calls (37402 total)\n",
      "\tComparing /btl/projects/ChIPseq/ENCODE/data/H3K27ac_adrenal/full_subsample4_analysisWctrl_GRCh38/Peaks/ENCFF357WIV.calls (19243 total) and /btl/projects/ChIPseq/ENCODE/data/H3K27ac_adrenal/full_subsample4_analysisWctrl_GRCh38/Peaks/ENCFF357WIV.calls (19243 total)\n",
      "\n",
      "ENCFF301TVL.calls\t/btl/projects/ChIPseq/ENCODE/data/H3K27ac_adrenal/full_subsample4_analysisWctrl_GRCh38/Peaks/ENCFF357WIV.calls\tTotal\tName\n",
      "\tX\t9280\t/btl/projects/ChIPseq/ENCODE/data/H3K27ac_adrenal/full_subsample4_analysisWctrl_GRCh38/Peaks/ENCFF357WIV.calls\n",
      "X\t\t27696\tENCFF301TVL.calls\n",
      "X\tX\t9524\tENCFF301TVL.calls|/btl/projects/ChIPseq/ENCODE/data/H3K27ac_adrenal/full_subsample4_analysisWctrl_GRCh38/Peaks/ENCFF357WIV.calls\n"
     ]
    }
   ],
   "source": [
    "cd /btl/projects/ChIPseq/ENCODE/data/H3K27ac_K562/full_subsample_analysisWctrl_GRCh38/Peaks/\n",
    "mergePeaks -d given ENCFF301TVL.calls /btl/projects/ChIPseq/ENCODE/data/H3K27ac_adrenal/full_subsample4_analysisWctrl_GRCh38/Peaks/ENCFF357WIV.calls -prefix /btl/projects/ChIPseq/ENCODE/jlcAnalysis/ENCODE_H3K27ac/overlaps/full_K562ss1adrenalss3_"
   ]
  },
  {
   "cell_type": "raw",
   "metadata": {},
   "source": [
    "   27697 full_K562ss1adrenalss3__ENCFF301TVL.calls\n",
    "    9525 full_K562ss1adrenalss3__ENCFF301TVL.calls__btl_projects_ChIPseq_ENCODE_data_H3K27ac_adrenal_full_subsample4_analysisWctrl_GRCh38_Peaks_ENCFF357WIV.calls\n",
    "    9281 full_K562ss1adrenalss3___btl_projects_ChIPseq_ENCODE_data_H3K27ac_adrenal_full_subsample4_analysisWctrl_GRCh38_Peaks_ENCFF357WIV.calls"
   ]
  }
 ],
 "metadata": {
  "kernelspec": {
   "display_name": "Bash",
   "language": "bash",
   "name": "bash"
  },
  "language_info": {
   "codemirror_mode": "shell",
   "file_extension": ".sh",
   "mimetype": "text/x-sh",
   "name": "bash"
  }
 },
 "nbformat": 4,
 "nbformat_minor": 0
}
